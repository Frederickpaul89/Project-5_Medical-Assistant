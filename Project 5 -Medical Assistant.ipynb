{
 "cells": [
  {
   "cell_type": "markdown",
   "metadata": {
    "id": "3CNz35ia6Bz3"
   },
   "source": [
    "## Problem Statement: Medical Assistant"
   ]
  },
  {
   "cell_type": "markdown",
   "metadata": {
    "id": "3PBm5xaj6Bz3"
   },
   "source": [
    "### **Business Context**\n",
    "\n",
    "The healthcare industry is rapidly evolving, and professionals face increasing challenges in managing vast volumes of medical data while delivering accurate and timely diagnoses. Quick access to comprehensive, reliable, and up-to-date medical knowledge is critical for improving patient outcomes and ensuring informed decision-making in a fast-paced environment.\n",
    "\n",
    "Healthcare professionals often encounter information overload, struggling to sift through extensive research and data to create accurate diagnoses and treatment plans. This challenge is amplified by the need for efficiency, particularly in emergencies, where time-sensitive decisions are vital. Furthermore, access to trusted, current medical information from renowned manuals and research papers is essential for maintaining high standards of care.\n",
    "\n",
    "To address these challenges, healthcare centers can focus on integrating systems that streamline access to medical knowledge, provide tools to support quick decision-making and enhance efficiency. Leveraging centralized knowledge platforms and ensuring healthcare providers have continuous access to reliable resources can significantly improve patient care and operational effectiveness.\n"
   ]
  },
  {
   "cell_type": "markdown",
   "metadata": {
    "id": "1xDPsqvO6Bz5"
   },
   "source": [
    "### **Objective**\n",
    "\n",
    "As an AI specialist, your task is to develop a RAG-based AI solution using renowned medical manuals to address healthcare challenges. The objective is to understand information overload, apply AI techniques to streamline decision-making, analyze its impact on diagnostics and patient outcomes, evaluate its potential to standardize care practices, and create a functional prototype demonstrating its feasibility and effectiveness.\n",
    "\n",
    "### **Questions to Answer**\n",
    "\n",
    "1. What is the protocol for managing sepsis in a critical care unit?\n",
    "2. What are the common symptoms of appendicitis, and can it be cured via medicine? If not, what surgical procedure should be followed to treat it?\n",
    "3. What are the effective treatments or solutions for addressing sudden patchy hair loss, commonly seen as localized bald spots on the scalp, and what could be the possible causes behind it?\n",
    "4. What treatments are recommended for a person who has sustained a physical injury to brain tissue, resulting in temporary or permanent impairment of brain function?\n",
    "5. What are the necessary precautions and treatment steps for a person who has fractured their leg during a hiking trip, and what should be considered for their care and recovery?\n"
   ]
  },
  {
   "cell_type": "markdown",
   "metadata": {
    "id": "Jw5LievCSru2"
   },
   "source": [
    "### **Data Dictionary**\n",
    "\n",
    "The **Merck Manuals** are medical references published by the American pharmaceutical company Merck & Co., that cover a wide range of medical topics, including disorders, tests, diagnoses, and drugs. The manuals have been published since 1899 when Merck & Co. was still a subsidiary of the German company Merck.\n",
    "\n",
    "The manual is a PDF with over 4,000 pages divided into 23 sections.\n"
   ]
  },
  {
   "cell_type": "markdown",
   "metadata": {
    "id": "lnwETBOE6Bz5"
   },
   "source": [
    "## Installing and Importing Necessary Libraries and Dependencies"
   ]
  },
  {
   "cell_type": "code",
   "execution_count": 1,
   "metadata": {
    "colab": {
     "base_uri": "https://localhost:8080/"
    },
    "id": "Hor01HEfyLER",
    "outputId": "65282750-3ebd-4bd9-9ea4-9705e0aa8873"
   },
   "outputs": [
    {
     "name": "stdout",
     "output_type": "stream",
     "text": [
      "\u001b[2K   \u001b[90m━━━━━━━━━━━━━━━━━━━━━━━━━━━━━━━━━━━━━━━━\u001b[0m \u001b[32m363.4/363.4 MB\u001b[0m \u001b[31m1.7 MB/s\u001b[0m eta \u001b[36m0:00:00\u001b[0m\n",
      "\u001b[2K   \u001b[90m━━━━━━━━━━━━━━━━━━━━━━━━━━━━━━━━━━━━━━━━\u001b[0m \u001b[32m13.8/13.8 MB\u001b[0m \u001b[31m121.9 MB/s\u001b[0m eta \u001b[36m0:00:00\u001b[0m\n",
      "\u001b[2K   \u001b[90m━━━━━━━━━━━━━━━━━━━━━━━━━━━━━━━━━━━━━━━━\u001b[0m \u001b[32m24.6/24.6 MB\u001b[0m \u001b[31m92.8 MB/s\u001b[0m eta \u001b[36m0:00:00\u001b[0m\n",
      "\u001b[2K   \u001b[90m━━━━━━━━━━━━━━━━━━━━━━━━━━━━━━━━━━━━━━━━\u001b[0m \u001b[32m883.7/883.7 kB\u001b[0m \u001b[31m57.2 MB/s\u001b[0m eta \u001b[36m0:00:00\u001b[0m\n",
      "\u001b[2K   \u001b[90m━━━━━━━━━━━━━━━━━━━━━━━━━━━━━━━━━━━━━━━━\u001b[0m \u001b[32m664.8/664.8 MB\u001b[0m \u001b[31m2.2 MB/s\u001b[0m eta \u001b[36m0:00:00\u001b[0m\n",
      "\u001b[2K   \u001b[90m━━━━━━━━━━━━━━━━━━━━━━━━━━━━━━━━━━━━━━━━\u001b[0m \u001b[32m211.5/211.5 MB\u001b[0m \u001b[31m6.1 MB/s\u001b[0m eta \u001b[36m0:00:00\u001b[0m\n",
      "\u001b[2K   \u001b[90m━━━━━━━━━━━━━━━━━━━━━━━━━━━━━━━━━━━━━━━━\u001b[0m \u001b[32m56.3/56.3 MB\u001b[0m \u001b[31m13.3 MB/s\u001b[0m eta \u001b[36m0:00:00\u001b[0m\n",
      "\u001b[2K   \u001b[90m━━━━━━━━━━━━━━━━━━━━━━━━━━━━━━━━━━━━━━━━\u001b[0m \u001b[32m127.9/127.9 MB\u001b[0m \u001b[31m7.4 MB/s\u001b[0m eta \u001b[36m0:00:00\u001b[0m\n",
      "\u001b[2K   \u001b[90m━━━━━━━━━━━━━━━━━━━━━━━━━━━━━━━━━━━━━━━━\u001b[0m \u001b[32m207.5/207.5 MB\u001b[0m \u001b[31m5.6 MB/s\u001b[0m eta \u001b[36m0:00:00\u001b[0m\n",
      "\u001b[2K   \u001b[90m━━━━━━━━━━━━━━━━━━━━━━━━━━━━━━━━━━━━━━━━\u001b[0m \u001b[32m21.1/21.1 MB\u001b[0m \u001b[31m110.9 MB/s\u001b[0m eta \u001b[36m0:00:00\u001b[0m\n",
      "\u001b[?25h"
     ]
    }
   ],
   "source": [
    "!pip install transformers sentence-transformers -q"
   ]
  },
  {
   "cell_type": "code",
   "execution_count": 2,
   "metadata": {
    "id": "wLYxy1T5yNFW"
   },
   "outputs": [],
   "source": [
    "from sentence_transformers import SentenceTransformer"
   ]
  },
  {
   "cell_type": "code",
   "execution_count": 3,
   "metadata": {
    "colab": {
     "base_uri": "https://localhost:8080/"
    },
    "id": "q4GgLhZhUM4V",
    "outputId": "d6386e86-2a34-4616-a11e-89d6a6a9e6c1"
   },
   "outputs": [
    {
     "name": "stdout",
     "output_type": "stream",
     "text": [
      "\u001b[?25l     \u001b[90m━━━━━━━━━━━━━━━━━━━━━━━━━━━━━━━━━━━━━━━━\u001b[0m \u001b[32m0.0/1.8 MB\u001b[0m \u001b[31m?\u001b[0m eta \u001b[36m-:--:--\u001b[0m\r",
      "\u001b[2K     \u001b[91m━━━━━━━━━━━━━━━━━━━━━━\u001b[0m\u001b[90m╺\u001b[0m\u001b[90m━━━━━━━━━━━━━━━━━\u001b[0m \u001b[32m1.0/1.8 MB\u001b[0m \u001b[31m29.8 MB/s\u001b[0m eta \u001b[36m0:00:01\u001b[0m\r",
      "\u001b[2K     \u001b[90m━━━━━━━━━━━━━━━━━━━━━━━━━━━━━━━━━━━━━━━━\u001b[0m \u001b[32m1.8/1.8 MB\u001b[0m \u001b[31m45.4 MB/s\u001b[0m eta \u001b[36m0:00:00\u001b[0m\n",
      "\u001b[?25h  Installing build dependencies ... \u001b[?25l\u001b[?25hdone\n",
      "  Getting requirements to build wheel ... \u001b[?25l\u001b[?25hdone\n",
      "  Preparing metadata (pyproject.toml) ... \u001b[?25l\u001b[?25hdone\n",
      "\u001b[2K     \u001b[90m━━━━━━━━━━━━━━━━━━━━━━━━━━━━━━━━━━━━━━━\u001b[0m \u001b[32m62.0/62.0 kB\u001b[0m \u001b[31m173.3 MB/s\u001b[0m eta \u001b[36m0:00:00\u001b[0m\n",
      "\u001b[2K   \u001b[90m━━━━━━━━━━━━━━━━━━━━━━━━━━━━━━━━━━━━━━━━\u001b[0m \u001b[32m45.5/45.5 kB\u001b[0m \u001b[31m153.8 MB/s\u001b[0m eta \u001b[36m0:00:00\u001b[0m\n",
      "\u001b[2K   \u001b[90m━━━━━━━━━━━━━━━━━━━━━━━━━━━━━━━━━━━━━━━━\u001b[0m \u001b[32m16.4/16.4 MB\u001b[0m \u001b[31m194.2 MB/s\u001b[0m eta \u001b[36m0:00:00\u001b[0m\n",
      "\u001b[2K   \u001b[90m━━━━━━━━━━━━━━━━━━━━━━━━━━━━━━━━━━━━━━━━\u001b[0m \u001b[32m45.8/45.8 kB\u001b[0m \u001b[31m200.0 MB/s\u001b[0m eta \u001b[36m0:00:00\u001b[0m\n",
      "\u001b[?25h  Building wheel for llama-cpp-python (pyproject.toml) ... \u001b[?25l\u001b[?25hdone\n",
      "\u001b[31mERROR: pip's dependency resolver does not currently take into account all the packages that are installed. This behaviour is the source of the following dependency conflicts.\n",
      "numba 0.60.0 requires numpy<2.1,>=1.22, but you have numpy 2.2.5 which is incompatible.\n",
      "tensorflow 2.18.0 requires numpy<2.1.0,>=1.26.0, but you have numpy 2.2.5 which is incompatible.\u001b[0m\u001b[31m\n",
      "\u001b[0m"
     ]
    }
   ],
   "source": [
    "# Installation for GPU llama-cpp-python\n",
    "# uncomment and run the following code in case GPU is being used\n",
    "!CMAKE_ARGS=\"-DLLAMA_CUBLAS=on\" FORCE_CMAKE=1 pip install llama-cpp-python==0.1.85 --force-reinstall --no-cache-dir -q\n"
   ]
  },
  {
   "cell_type": "code",
   "execution_count": 4,
   "metadata": {
    "colab": {
     "base_uri": "https://localhost:8080/"
    },
    "id": "0VOckDVkWGei",
    "outputId": "89ab392d-9034-45c3-f4ca-d8b231a33f9b"
   },
   "outputs": [
    {
     "name": "stdout",
     "output_type": "stream",
     "text": [
      "\u001b[?25l     \u001b[90m━━━━━━━━━━━━━━━━━━━━━━━━━━━━━━━━━━━━━━━━\u001b[0m \u001b[32m0.0/67.3 kB\u001b[0m \u001b[31m?\u001b[0m eta \u001b[36m-:--:--\u001b[0m\r",
      "\u001b[2K     \u001b[90m━━━━━━━━━━━━━━━━━━━━━━━━━━━━━━━━━━━━━━━━\u001b[0m \u001b[32m67.3/67.3 kB\u001b[0m \u001b[31m6.3 MB/s\u001b[0m eta \u001b[36m0:00:00\u001b[0m\n",
      "\u001b[?25h  Installing build dependencies ... \u001b[?25l\u001b[?25hdone\n",
      "  Getting requirements to build wheel ... \u001b[?25l\u001b[?25hdone\n",
      "  Preparing metadata (pyproject.toml) ... \u001b[?25l\u001b[?25hdone\n",
      "\u001b[2K   \u001b[90m━━━━━━━━━━━━━━━━━━━━━━━━━━━━━━━━━━━━━━━━\u001b[0m \u001b[32m20.0/20.0 MB\u001b[0m \u001b[31m113.0 MB/s\u001b[0m eta \u001b[36m0:00:00\u001b[0m\n",
      "\u001b[2K   \u001b[90m━━━━━━━━━━━━━━━━━━━━━━━━━━━━━━━━━━━━━━━━\u001b[0m \u001b[32m2.5/2.5 MB\u001b[0m \u001b[31m71.2 MB/s\u001b[0m eta \u001b[36m0:00:00\u001b[0m\n",
      "\u001b[2K   \u001b[90m━━━━━━━━━━━━━━━━━━━━━━━━━━━━━━━━━━━━━━━━\u001b[0m \u001b[32m18.9/18.9 MB\u001b[0m \u001b[31m111.7 MB/s\u001b[0m eta \u001b[36m0:00:00\u001b[0m\n",
      "\u001b[2K   \u001b[90m━━━━━━━━━━━━━━━━━━━━━━━━━━━━━━━━━━━━━━━━\u001b[0m \u001b[32m94.9/94.9 kB\u001b[0m \u001b[31m10.2 MB/s\u001b[0m eta \u001b[36m0:00:00\u001b[0m\n",
      "\u001b[2K   \u001b[90m━━━━━━━━━━━━━━━━━━━━━━━━━━━━━━━━━━━━━━━━\u001b[0m \u001b[32m284.2/284.2 kB\u001b[0m \u001b[31m26.0 MB/s\u001b[0m eta \u001b[36m0:00:00\u001b[0m\n",
      "\u001b[2K   \u001b[90m━━━━━━━━━━━━━━━━━━━━━━━━━━━━━━━━━━━━━━━━\u001b[0m \u001b[32m2.0/2.0 MB\u001b[0m \u001b[31m87.6 MB/s\u001b[0m eta \u001b[36m0:00:00\u001b[0m\n",
      "\u001b[2K   \u001b[90m━━━━━━━━━━━━━━━━━━━━━━━━━━━━━━━━━━━━━━━━\u001b[0m \u001b[32m101.6/101.6 kB\u001b[0m \u001b[31m11.1 MB/s\u001b[0m eta \u001b[36m0:00:00\u001b[0m\n",
      "\u001b[2K   \u001b[90m━━━━━━━━━━━━━━━━━━━━━━━━━━━━━━━━━━━━━━━━\u001b[0m \u001b[32m16.4/16.4 MB\u001b[0m \u001b[31m110.1 MB/s\u001b[0m eta \u001b[36m0:00:00\u001b[0m\n",
      "\u001b[2K   \u001b[90m━━━━━━━━━━━━━━━━━━━━━━━━━━━━━━━━━━━━━━━━\u001b[0m \u001b[32m65.8/65.8 kB\u001b[0m \u001b[31m7.1 MB/s\u001b[0m eta \u001b[36m0:00:00\u001b[0m\n",
      "\u001b[2K   \u001b[90m━━━━━━━━━━━━━━━━━━━━━━━━━━━━━━━━━━━━━━━━\u001b[0m \u001b[32m55.9/55.9 kB\u001b[0m \u001b[31m5.2 MB/s\u001b[0m eta \u001b[36m0:00:00\u001b[0m\n",
      "\u001b[2K   \u001b[90m━━━━━━━━━━━━━━━━━━━━━━━━━━━━━━━━━━━━━━━━\u001b[0m \u001b[32m194.9/194.9 kB\u001b[0m \u001b[31m18.9 MB/s\u001b[0m eta \u001b[36m0:00:00\u001b[0m\n",
      "\u001b[2K   \u001b[90m━━━━━━━━━━━━━━━━━━━━━━━━━━━━━━━━━━━━━━━━\u001b[0m \u001b[32m119.0/119.0 kB\u001b[0m \u001b[31m7.3 MB/s\u001b[0m eta \u001b[36m0:00:00\u001b[0m\n",
      "\u001b[2K   \u001b[90m━━━━━━━━━━━━━━━━━━━━━━━━━━━━━━━━━━━━━━━━\u001b[0m \u001b[32m92.0/92.0 kB\u001b[0m \u001b[31m7.4 MB/s\u001b[0m eta \u001b[36m0:00:00\u001b[0m\n",
      "\u001b[2K   \u001b[90m━━━━━━━━━━━━━━━━━━━━━━━━━━━━━━━━━━━━━━━━\u001b[0m \u001b[32m44.4/44.4 kB\u001b[0m \u001b[31m3.8 MB/s\u001b[0m eta \u001b[36m0:00:00\u001b[0m\n",
      "\u001b[2K   \u001b[90m━━━━━━━━━━━━━━━━━━━━━━━━━━━━━━━━━━━━━━━━\u001b[0m \u001b[32m62.5/62.5 kB\u001b[0m \u001b[31m6.1 MB/s\u001b[0m eta \u001b[36m0:00:00\u001b[0m\n",
      "\u001b[2K   \u001b[90m━━━━━━━━━━━━━━━━━━━━━━━━━━━━━━━━━━━━━━━━\u001b[0m \u001b[32m459.8/459.8 kB\u001b[0m \u001b[31m38.2 MB/s\u001b[0m eta \u001b[36m0:00:00\u001b[0m\n",
      "\u001b[2K   \u001b[90m━━━━━━━━━━━━━━━━━━━━━━━━━━━━━━━━━━━━━━━━\u001b[0m \u001b[32m50.9/50.9 kB\u001b[0m \u001b[31m4.9 MB/s\u001b[0m eta \u001b[36m0:00:00\u001b[0m\n",
      "\u001b[2K   \u001b[90m━━━━━━━━━━━━━━━━━━━━━━━━━━━━━━━━━━━━━━━━\u001b[0m \u001b[32m71.5/71.5 kB\u001b[0m \u001b[31m7.0 MB/s\u001b[0m eta \u001b[36m0:00:00\u001b[0m\n",
      "\u001b[2K   \u001b[90m━━━━━━━━━━━━━━━━━━━━━━━━━━━━━━━━━━━━━━━━\u001b[0m \u001b[32m4.0/4.0 MB\u001b[0m \u001b[31m103.0 MB/s\u001b[0m eta \u001b[36m0:00:00\u001b[0m\n",
      "\u001b[2K   \u001b[90m━━━━━━━━━━━━━━━━━━━━━━━━━━━━━━━━━━━━━━━━\u001b[0m \u001b[32m454.8/454.8 kB\u001b[0m \u001b[31m31.7 MB/s\u001b[0m eta \u001b[36m0:00:00\u001b[0m\n",
      "\u001b[2K   \u001b[90m━━━━━━━━━━━━━━━━━━━━━━━━━━━━━━━━━━━━━━━━\u001b[0m \u001b[32m46.0/46.0 kB\u001b[0m \u001b[31m4.0 MB/s\u001b[0m eta \u001b[36m0:00:00\u001b[0m\n",
      "\u001b[2K   \u001b[90m━━━━━━━━━━━━━━━━━━━━━━━━━━━━━━━━━━━━━━━━\u001b[0m \u001b[32m86.8/86.8 kB\u001b[0m \u001b[31m3.6 MB/s\u001b[0m eta \u001b[36m0:00:00\u001b[0m\n",
      "\u001b[?25h  Building wheel for pypika (pyproject.toml) ... \u001b[?25l\u001b[?25hdone\n"
     ]
    }
   ],
   "source": [
    "# For installing the libraries & downloading models from HF Hub\n",
    "!pip install huggingface_hub tiktoken pymupdf langchain langchain-community chromadb numpy  -q"
   ]
  },
  {
   "cell_type": "code",
   "execution_count": 5,
   "metadata": {
    "id": "RTY9GN4oWK3g"
   },
   "outputs": [],
   "source": [
    "#Libraries for processing dataframes,text\n",
    "import json,os\n",
    "import tiktoken\n",
    "import pandas as pd\n",
    "\n",
    "#Libraries for Loading Data, Chunking, Embedding, and Vector Databases\n",
    "from langchain.text_splitter import RecursiveCharacterTextSplitter\n",
    "from langchain_community.document_loaders import PyMuPDFLoader\n",
    "from langchain_community.embeddings.sentence_transformer import SentenceTransformerEmbeddings\n",
    "from langchain_community.vectorstores import Chroma\n",
    "\n",
    "#Libraries for downloading and loading the llm\n",
    "from huggingface_hub import hf_hub_download\n",
    "from llama_cpp import Llama"
   ]
  },
  {
   "cell_type": "markdown",
   "metadata": {
    "id": "TtZWqj0wFTS1"
   },
   "source": [
    "## Question Answering using LLM"
   ]
  },
  {
   "cell_type": "markdown",
   "metadata": {
    "id": "Uq1lhM4WFTS2"
   },
   "source": [
    "#### Downloading and Loading the model"
   ]
  },
  {
   "cell_type": "code",
   "execution_count": 6,
   "metadata": {
    "colab": {
     "base_uri": "https://localhost:8080/",
     "height": 173,
     "referenced_widgets": [
      "0687839e69ed4dadac52ba423f18faae",
      "c757f95500bd4775a69d26811e816643",
      "89d2b5cd440c491486bb7a8a3789b968",
      "288f8c4821794043a00180e41442f135",
      "7fa2870830a84087970a92c803eb7ff3",
      "071f7926d6e74779835481b342715584",
      "14ae945ea8984d7aa3299cc4fbab211c",
      "c0aa87f379fb408ea778957ee570a1d2",
      "c5df7bca363b483dabcd579fae9eb832",
      "f5af85e60b6b4d8a8569b0522205ef3f",
      "c272b8026aea48cc9ae58bbf71026c11"
     ]
    },
    "id": "dA3XQMWmQLJp",
    "outputId": "a0351fa1-cb11-4fba-a8bf-74709ed85a39"
   },
   "outputs": [
    {
     "name": "stderr",
     "output_type": "stream",
     "text": [
      "/usr/local/lib/python3.11/dist-packages/huggingface_hub/utils/_auth.py:94: UserWarning: \n",
      "The secret `HF_TOKEN` does not exist in your Colab secrets.\n",
      "To authenticate with the Hugging Face Hub, create a token in your settings tab (https://huggingface.co/settings/tokens), set it as secret in your Google Colab and restart your session.\n",
      "You will be able to reuse this secret in all of your notebooks.\n",
      "Please note that authentication is recommended but still optional to access public models or datasets.\n",
      "  warnings.warn(\n"
     ]
    },
    {
     "data": {
      "application/vnd.jupyter.widget-view+json": {
       "model_id": "0687839e69ed4dadac52ba423f18faae",
       "version_major": 2,
       "version_minor": 0
      },
      "text/plain": [
       "llama-2-13b-chat.Q5_K_M.gguf:   0%|          | 0.00/9.23G [00:00<?, ?B/s]"
      ]
     },
     "metadata": {},
     "output_type": "display_data"
    }
   ],
   "source": [
    "#model configuration\n",
    "model_name_path=\"TheBloke/Llama-2-13B-chat-GGUF\"\n",
    "model_filename=\"llama-2-13b-chat.Q5_K_M.gguf\"\n",
    "model_path=hf_hub_download(repo_id=model_name_path,filename=model_filename)"
   ]
  },
  {
   "cell_type": "code",
   "execution_count": 7,
   "metadata": {
    "colab": {
     "base_uri": "https://localhost:8080/"
    },
    "id": "pNr6bBI4uEvn",
    "outputId": "f37a3038-43d8-48e0-e172-b7ce2c69c820"
   },
   "outputs": [
    {
     "name": "stderr",
     "output_type": "stream",
     "text": [
      "AVX = 1 | AVX2 = 1 | AVX512 = 0 | AVX512_VBMI = 0 | AVX512_VNNI = 0 | FMA = 1 | NEON = 0 | ARM_FMA = 0 | F16C = 1 | FP16_VA = 0 | WASM_SIMD = 0 | BLAS = 1 | SSE3 = 1 | SSSE3 = 1 | VSX = 0 | \n"
     ]
    }
   ],
   "source": [
    "llm=Llama(model_path=model_path,n_threads=2,n_batch=512,n_ctx=4096,n_gpu_layers=43)"
   ]
  },
  {
   "cell_type": "markdown",
   "metadata": {
    "id": "EzzkvIXvFTS4"
   },
   "source": [
    "#### Response"
   ]
  },
  {
   "cell_type": "code",
   "execution_count": 8,
   "metadata": {
    "id": "hG_IaZj0QLw4"
   },
   "outputs": [],
   "source": [
    "def response(query,max_tokens=128,temperature=0,top_p=0.95,top_k=50):\n",
    "    model_output = llm(\n",
    "      prompt=query,\n",
    "      max_tokens=max_tokens,\n",
    "      temperature=temperature,\n",
    "      top_p=top_p,\n",
    "      top_k=top_k\n",
    "    )\n",
    "\n",
    "    return model_output['choices'][0]['text']"
   ]
  },
  {
   "cell_type": "markdown",
   "metadata": {
    "id": "K8YgK91SFjVY"
   },
   "source": [
    "### Query 1: What is the protocol for managing sepsis in a critical care unit?"
   ]
  },
  {
   "cell_type": "code",
   "execution_count": 9,
   "metadata": {
    "colab": {
     "base_uri": "https://localhost:8080/"
    },
    "id": "-JLIVmpPQH0f",
    "outputId": "f6a1670f-4237-47d7-eb9f-70e8c4785280"
   },
   "outputs": [
    {
     "name": "stdout",
     "output_type": "stream",
     "text": [
      "\n",
      "Sepsis is a life-threatening condition that can arise from an infection, and it is a leading cause of death in hospitals. The management of sepsis in a critical care unit (CCU) requires a systematic approach that includes early recognition, prompt treatment, and ongoing monitoring. Here is a general protocol for managing sepsis in a CCU:\n",
      "\n",
      "1. Early recognition:\n",
      "\t* Use a standardized screening tool, such as the Sepsis-3 definition, to identify patients who are at risk of developing sepsis.\n",
      "\t* Monitor vital signs, particularly temperature, blood pressure, tachycardia, and tachypnea, as well as other signs of infection, such as purulent drainage or wound redness.\n",
      "2. Initial assessment:\n",
      "\t* Evaluate the patient's level of consciousness, respiratory and cardiovascular function, and peripheral circulation.\n",
      "\t* Check for signs of organ dysfunction, such as altered mental status, renal impairment, or hepatic dysfunction.\n",
      "3. Rapid infusion of fluids and medications:\n",
      "\t* Administer broad-spectrum antibiotics within the first hour of recognition of sepsis, and continue until the patient is stable or has received a minimum of 24 hours of antibiotic therapy.\n",
      "\t* Initiate fluid resuscitation with crystalloid solutions, such as normal saline or lactated Ringer's solution, to restore intravascular volume and improve cardiac output.\n",
      "\t* Consider the use of vasopressors, such as norepinephrine or dopamine, to maintain mean arterial pressure (MAP) ≥65 mmHg and to optimize cardiac output.\n",
      "4. Monitoring and reassessment:\n",
      "\t* Continuously monitor the patient's vital signs, particularly temperature, blood pressure, tachycardia, and tachypnea.\n",
      "\t* Reassess the patient's level of consciousness, respiratory and cardiovascular function, and peripheral circulation every 4-8 hours.\n",
      "\t* Check for signs of organ dysfunction, such as altered mental status, renal impairment, or hepatic dysfunction.\n",
      "5. Goals of therapy:\n",
      "\t* Maintain MAP ≥65 mmHg and serum lactate levels <2 mmol/L.\n",
      "\t* Improve oxygenation, as indicated by an increase in PaO2/FiO2 ratio.\n",
      "\t* Reduce the dose of vasopressors and/or the rate of fluid administration as the patient's condition improves.\n",
      "6. Additional interventions:\n",
      "\t* Consider the use of invasive or non-invasive mechanical ventilation, as needed.\n",
      "\t* Manage any coexisting medical conditions, such as diabetes or heart failure.\n",
      "7. Monitoring for organ dysfunction:\n",
      "\t* Use a standardized scoring system, such as the Sequential Organ Failure Assessment (SOFA) score, to monitor for signs of organ dysfunction.\n",
      "\t* Check for signs of acute kidney injury (AKI), such as an increase in serum creatinine level or a decrease in urine output.\n",
      "8. Escalation of care:\n",
      "\t* If the patient's condition does not improve despite initial therapy, escalate care to a higher level of intensity, such as transfer to an intensive care unit (ICU) or cardiovascular surgical intensive care unit (CVSICU).\n",
      "9. Follow-up and discharge planning:\n",
      "\t* Once the patient's condition has stabilized, initiate follow-up care with a multidisciplinary team, including intensivists, infectious disease specialists, and primary care physicians.\n",
      "\t* Develop a discharge plan that includes ongoing antibiotic therapy, wound care, and any other necessary interventions to prevent readmission.\n",
      "\n",
      "It is important to note that the management of sepsis is highly individualized and may vary depending on the patient's specific needs and clinical presentation. This protocol should be used as a general guide and not as a substitute for clinical judgment and expertise.\n"
     ]
    }
   ],
   "source": [
    "query_1=\"What is the protocol for managing sepsis in a critical care unit?\"\n",
    "res=response(query_1,1024,0.07)\n",
    "print(res)"
   ]
  },
  {
   "cell_type": "markdown",
   "metadata": {
    "id": "J6yxICeVFjVc"
   },
   "source": [
    "### Query 2: What are the common symptoms for appendicitis, and can it be cured via medicine? If not, what surgical procedure should be followed to treat it?"
   ]
  },
  {
   "cell_type": "code",
   "execution_count": 10,
   "metadata": {
    "colab": {
     "base_uri": "https://localhost:8080/"
    },
    "id": "BdiHRgEqQIP9",
    "outputId": "50fba4f8-cd69-4b55-844c-16871a864326"
   },
   "outputs": [
    {
     "name": "stderr",
     "output_type": "stream",
     "text": [
      "Llama.generate: prefix-match hit\n"
     ]
    },
    {
     "name": "stdout",
     "output_type": "stream",
     "text": [
      "\n",
      "\n",
      "Answer:\n",
      "\n",
      "Appendicitis is a medical emergency that requires prompt treatment. The most common symptoms of appendicitis include:\n",
      "\n",
      "1. Severe pain in the abdomen, usually starting near the belly button and then moving to the lower right side of the abdomen.\n",
      "2. Nausea and vomiting.\n",
      "3. Loss of appetite.\n",
      "4. Fever.\n",
      "5. Abdominal tenderness and guarding (muscle tension).\n",
      "6. Abdominal swelling.\n",
      "7. Diarrhea or constipation.\n",
      "\n",
      "If you suspect that you or someone else may have appendicitis, it is essential to seek medical attention immediately. Appendicitis can be cured via surgery, but not with medicine. In fact, delaying treatment can lead to serious complications, such as the appendix rupturing and spreading infection throughout the abdominal cavity.\n",
      "\n",
      "The surgical procedure used to treat appendicitis is called an appendectomy. There are two types of appendectomies: open and laparoscopic.\n",
      "\n",
      "1. Open Appendectomy: This is the traditional method, where a single incision is made in the lower right abdomen to remove the inflamed appendix. The wound is then closed with sutures or staples.\n",
      "2. Laparoscopic Appendectomy: This is a less invasive procedure, where several small incisions are made in the abdomen, and a laparoscope (a thin tube with a camera and light) is inserted to visualize the appendix. The inflamed appendix is then removed through one of the small incisions.\n",
      "\n",
      "Both procedures are effective in treating appendicitis, and the choice between them depends on the patient's age, the severity of the condition, and the surgeon's preference. In general, laparoscopic appendectomy is preferred for patients with mild appendicitis, while open appendectomy may be necessary for more severe cases or those with complications.\n",
      "\n",
      "After the surgery, patients may need to stay in the hospital for a few days to recover. They may experience some pain and discomfort, which can be managed with pain medication. It is essential to follow the surgeon's instructions carefully to ensure a smooth recovery.\n"
     ]
    }
   ],
   "source": [
    "query_2=\"What are the common symptoms for appendicitis, and can it be cured via medicine? If not, what surgical procedure should be followed to treat it?\"\n",
    "res2=response(query_2,1024,0.07)\n",
    "print(res2)"
   ]
  },
  {
   "cell_type": "markdown",
   "metadata": {
    "id": "oflaoOGiFjVd"
   },
   "source": [
    "### Query 3: What are the effective treatments or solutions for addressing sudden patchy hair loss, commonly seen as localized bald spots on the scalp, and what could be the possible causes behind it?"
   ]
  },
  {
   "cell_type": "code",
   "execution_count": 11,
   "metadata": {
    "colab": {
     "base_uri": "https://localhost:8080/"
    },
    "id": "N-mx9yboQIt-",
    "outputId": "5e5d4917-e183-4302-8c91-4a108c434cd1"
   },
   "outputs": [
    {
     "name": "stderr",
     "output_type": "stream",
     "text": [
      "Llama.generate: prefix-match hit\n"
     ]
    },
    {
     "name": "stdout",
     "output_type": "stream",
     "text": [
      "\n",
      "\n",
      "Sudden patchy hair loss, also known as alopecia areata, is a common condition that can cause localized bald spots on the scalp. While there is no cure for this condition, there are several effective treatments and solutions that can help promote hair growth and reduce the size of the bald spots. Here are some possible causes and treatment options:\n",
      "\n",
      "Causes:\n",
      "\n",
      "1. Autoimmune disorder: Alopecia areata is believed to be caused by an autoimmune response, where the body's immune system mistakenly attacks healthy hair follicles, leading to hair loss.\n",
      "2. Hormonal imbalance: Hormonal changes, such as those experienced during pregnancy or menopause, can cause sudden patchy hair loss.\n",
      "3. Stress: Prolonged stress can lead to an increase in the production of cortisol, a hormone that can disrupt the normal hair growth cycle and cause hair loss.\n",
      "4. Nutritional deficiencies: Deficiencies in essential nutrients such as iron, zinc, or biotin can contribute to hair loss.\n",
      "5. Skin conditions: Certain skin conditions, such as eczema or psoriasis, can cause patchy hair loss.\n",
      "\n",
      "Treatment options:\n",
      "\n",
      "1. Corticosteroid injections: Injecting corticosteroids into the affected area can help reduce inflammation and promote hair growth.\n",
      "2. Topical medications: Applying minoxidil or anthralin to the affected area can help stimulate hair growth and reduce inflammation.\n",
      "3. Oral medications: In severe cases, oral medications such as prednisone or cyclosporine may be prescribed to suppress the immune system and promote hair growth.\n",
      "4. Platelet-rich plasma (PRP) therapy: PRP therapy involves injecting platelet-rich plasma into the affected area to stimulate hair growth.\n",
      "5. Low-level laser therapy (LLLT): LLLT involves the use of a low-level laser or light-emitting device to stimulate hair growth and reduce inflammation.\n",
      "6. Dietary changes: Eating a balanced diet rich in essential nutrients can help promote hair growth and reduce the risk of hair loss.\n",
      "7. Reducing stress: Engaging in stress-reducing activities such as meditation, yoga, or exercise can help reduce the production of cortisol and promote hair growth.\n",
      "\n",
      "It's important to note that these treatments may not work for everyone, and it's best to consult a dermatologist to determine the underlying cause of the patchy hair loss and develop an appropriate treatment plan. Additionally, it's important to be patient, as hair growth can take time and may not be immediate.\n"
     ]
    }
   ],
   "source": [
    "query_3=\" What are the effective treatments or solutions for addressing sudden patchy hair loss, commonly seen as localized bald spots on the scalp, and what could be the possible causes behind it?\"\n",
    "res3=response(query_3,1024,0.07)\n",
    "print(res3)"
   ]
  },
  {
   "cell_type": "markdown",
   "metadata": {
    "id": "WUUqY4FbFjVe"
   },
   "source": [
    "### Query 4:  What treatments are recommended for a person who has sustained a physical injury to brain tissue, resulting in temporary or permanent impairment of brain function?"
   ]
  },
  {
   "cell_type": "code",
   "execution_count": 12,
   "metadata": {
    "colab": {
     "base_uri": "https://localhost:8080/"
    },
    "id": "TEsVMaKaQJzh",
    "outputId": "472048d5-45ac-4482-d7fa-009722c02562"
   },
   "outputs": [
    {
     "name": "stderr",
     "output_type": "stream",
     "text": [
      "Llama.generate: prefix-match hit\n"
     ]
    },
    {
     "name": "stdout",
     "output_type": "stream",
     "text": [
      "\n",
      "\n",
      "Answer: Treatment options for a person with a physical injury to brain tissue depend on the severity and location of the injury, as well as the individual's age, overall health, and other factors. Some common treatments for brain injuries include:\n",
      "\n",
      "1. Medications: To manage symptoms such as pain, anxiety, or depression.\n",
      "2. Rehabilitation therapy: To improve cognitive, physical, and emotional functioning. This may include physical therapy, occupational therapy, speech therapy, and psychotherapy.\n",
      "3. Surgery: To repair damaged brain tissue or relieve pressure on the brain.\n",
      "4. Lifestyle changes: To help manage symptoms and improve overall health, such as getting regular exercise, eating a healthy diet, and getting enough sleep.\n",
      "5. Cognitive training: To improve cognitive functioning and memory.\n",
      "6. Neuropsychological rehabilitation: To address specific cognitive and behavioral issues, such as attention, memory, and problem-solving.\n",
      "7. Alternative therapies: Such as acupuncture, massage, and meditation, to help manage symptoms and improve quality of life.\n",
      "8. Support groups: To provide emotional support and connect with others who have experienced similar injuries.\n",
      "9. Home modifications: To make the home environment safer and more accessible for individuals with physical disabilities.\n",
      "10. Assistive technology: Such as wheelchairs, walkers, and communication devices, to help individuals with physical disabilities perform daily activities and communicate effectively.\n",
      "\n",
      "It's important to note that each individual's treatment plan will be unique and may involve a combination of these treatments. It's also important to work closely with a healthcare team to monitor progress and make adjustments as needed.\n"
     ]
    }
   ],
   "source": [
    "query_4=\" What treatments are recommended for a person who has sustained a physical injury to brain tissue, resulting in temporary or permanent impairment of brain function?\"\n",
    "res4=response(query_4,1024,0.07)\n",
    "print(res4)"
   ]
  },
  {
   "cell_type": "markdown",
   "metadata": {
    "id": "5laPFTHrFjVf"
   },
   "source": [
    "### Query 5: What are the necessary precautions and treatment steps for a person who has fractured their leg during a hiking trip, and what should be considered for their care and recovery?"
   ]
  },
  {
   "cell_type": "code",
   "execution_count": 13,
   "metadata": {
    "colab": {
     "base_uri": "https://localhost:8080/"
    },
    "id": "VfrlmrP5QKJz",
    "outputId": "52a08e8c-7128-4758-9280-b5e3a1f39028"
   },
   "outputs": [
    {
     "name": "stderr",
     "output_type": "stream",
     "text": [
      "Llama.generate: prefix-match hit\n"
     ]
    },
    {
     "name": "stdout",
     "output_type": "stream",
     "text": [
      "\n",
      "\n",
      "A fracture of the leg can be a serious injury that requires prompt medical attention. If you suspect that someone has fractured their leg while hiking, it is important to call for emergency medical services immediately. In the meantime, there are several precautions and treatment steps that can be taken to ensure proper care and recovery.\n",
      "\n",
      "Precautions:\n",
      "\n",
      "1. Immobilize the affected limb: Use a splint or brace to immobilize the fractured leg and prevent further movement or damage.\n",
      "2. Apply ice: Apply ice packs to the affected area to reduce swelling and pain.\n",
      "3. Elevate the affected limb: Elevate the fractured leg above the level of the heart to reduce swelling and improve blood flow.\n",
      "4. Monitor vital signs: Monitor the person's vital signs, including their pulse, breathing rate, and blood pressure.\n",
      "5. Keep them warm: Keep the person warm with a blanket or other covering to prevent hypothermia.\n",
      "6. Stay calm and reassure them: Keep the person as calm and comfortable as possible, and reassure them that medical help is on the way.\n",
      "\n",
      "Treatment steps:\n",
      "\n",
      "1. X-rays: Once medical help arrives, the person will need to undergo X-rays to confirm the fracture and determine the extent of the injury.\n",
      "2. Splinting or casting: Depending on the type and severity of the fracture, the leg may be splinted or cast to immobilize it and promote healing.\n",
      "3. Pain management: The person will likely need pain medication to manage their discomfort and inflammation.\n",
      "4. Rest and recovery: The person will need to rest and avoid putting weight on the affected leg for several weeks to allow it to heal properly.\n",
      "5. Follow-up care: After the initial treatment, the person will need follow-up care with a healthcare provider to monitor their progress and ensure that the fracture is healing properly.\n",
      "\n",
      "Considerations for care and recovery:\n",
      "\n",
      "1. Rehabilitation: Once the fracture has healed, the person will need physical therapy to regain strength and mobility in their leg.\n",
      "2. Follow-up appointments: Regular follow-up appointments with a healthcare provider are necessary to monitor the person's progress and address any complications or concerns.\n",
      "3. Lifestyle modifications: Depending on the severity of the fracture, the person may need to make lifestyle modifications, such as avoiding certain activities or using assistive devices, to ensure proper healing and prevent further injury.\n",
      "4. Emotional support: A fractured leg can be a traumatic experience, and it is important to provide emotional support and reassurance to the person during their recovery.\n",
      "5. Prevention of complications: It is important to monitor for any signs of complications, such as infection or nerve damage, and seek medical attention immediately if any are detected.\n",
      "\n",
      "In conclusion, a fractured leg can be a serious injury that requires prompt medical attention and proper care and treatment. By following these precautions and treatment steps, you can help ensure the person's recovery and prevent any complications. Additionally, it is important to consider the necessary follow-up care and lifestyle modifications to ensure proper healing and prevent further injury.\n"
     ]
    }
   ],
   "source": [
    "query_5=\" What are the necessary precautions and treatment steps for a person who has fractured their leg during a hiking trip, and what should be considered for their care and recovery?\"\n",
    "res5=response(query_5,1024,0.07)\n",
    "print(res5)"
   ]
  },
  {
   "cell_type": "markdown",
   "metadata": {
    "id": "57NJ6_V01BqD"
   },
   "source": [
    "### Observations:\n",
    "\n",
    "- **Legibility of Outputs**:\n",
    "  - The outputs of the five questions appear to be legible and well-structured even with the change in parameters.\n",
    "\n",
    "- **Reliability of Information**:\n",
    "  - Since the models are trained on web-scale data:\n",
    "    - Some information may be true.\n",
    "    - Certain information may not be accurate.\n",
    "    - Some outputs might be hallucinated or fabricated by the model.\n",
    "\n",
    "- **Conclusion**:\n",
    "  - While outputs are presented in a concise and structured manner even with the change in parameters, caution is necessary when validating the information.\n",
    "\n"
   ]
  },
  {
   "cell_type": "markdown",
   "metadata": {
    "id": "g5myZ5dOOefc"
   },
   "source": [
    "## Question Answering using LLM with Prompt Engineering"
   ]
  },
  {
   "cell_type": "markdown",
   "metadata": {
    "id": "9Jg3r_LWOeff"
   },
   "source": [
    "### Query 1: What is the protocol for managing sepsis in a critical care unit?"
   ]
  },
  {
   "cell_type": "markdown",
   "metadata": {
    "id": "Z1Ab6Sfp9Dk_"
   },
   "source": [
    "**1. Direct Prompting**"
   ]
  },
  {
   "cell_type": "code",
   "execution_count": 14,
   "metadata": {
    "colab": {
     "base_uri": "https://localhost:8080/"
    },
    "id": "YqM4VMw5ROhX",
    "outputId": "a113a73d-932c-490b-851e-f4225f4ecdca"
   },
   "outputs": [
    {
     "name": "stderr",
     "output_type": "stream",
     "text": [
      "Llama.generate: prefix-match hit\n"
     ]
    },
    {
     "name": "stdout",
     "output_type": "stream",
     "text": [
      "\n",
      "Sepsis is a life-threatening condition that can arise from an infection, and it is a leading cause of death in hospitals worldwide. The management of sepsis in a critical care unit requires a systematic approach that includes early recognition, prompt treatment, and ongoing monitoring. Here is a detailed step-by-step protocol for managing sepsis in a critical care unit:\n",
      "\n",
      "Step 1: Early Recognition (within 1 hour of admission)\n",
      "\n",
      "* Assess the patient's vital signs, including temperature, blood pressure, tachycardia, and tachypnea.\n",
      "* Check for signs of infection, such as fever, chills, or purulent drainage.\n",
      "* Evaluate the patient's level of consciousness and mental status.\n",
      "* Perform a rapid bedside assessment using a sepsis screening tool, such as the Systemic Inflammatory Response Syndrome (SIRS) criteria or the Quick Sequential Organ Failure Assessment (qSOFA).\n",
      "\n",
      "Step 2: Confirmation of Sepsis (within 2 hours of admission)\n",
      "\n",
      "* Obtain blood cultures and other appropriate specimens for microbiological analysis.\n",
      "* Perform a comprehensive blood count (CBC) and serum chemistry tests to assess the patient's overall physiological status.\n",
      "* Measure the levels of inflammatory markers, such as white blood cell count (WBC), neutrophil-to-lymphocyte ratio (NLR), and C-reactive protein (CRP).\n",
      "* Evaluate the patient's organ function using a scoring system, such as the Sequential Organ Failure Assessment (SOFA) score.\n",
      "\n",
      "Step 3: Initial Treatment (within 4 hours of admission)\n",
      "\n",
      "* Administer broad-spectrum antibiotics effective against common causes of sepsis, such as Gram-positive and Gram-negative bacteria, and fungi.\n",
      "* Provide fluid resuscitation with isotonic fluids to maintain mean arterial pressure (MAP) ≥ 65 mmHg.\n",
      "* Administer vasopressors if necessary to maintain MAP ≥ 65 mmHg.\n",
      "* Consider the use of corticosteroids in patients with severe sepsis or septic shock.\n",
      "\n",
      "Step 4: Ongoing Monitoring and Adjustment of Therapy\n",
      "\n",
      "* Continuously monitor the patient's vital signs, including temperature, blood pressure, tachycardia, and tachypnea.\n",
      "* Assess the patient's level of consciousness and mental status regularly.\n",
      "* Perform frequent bedside assessments using a sepsis screening tool to identify any changes in the patient's condition.\n",
      "* Adjust therapy as needed based on the patient's response to treatment, including changes in antibiotics, fluid management, and vasopressor support.\n",
      "\n",
      "Step 5: Management of Organ Dysfunction\n",
      "\n",
      "* Identify any organ dysfunction, such as acute kidney injury (AKI), respiratory failure, or cardiovascular instability.\n",
      "* Manage organ dysfunction using appropriate interventions, such as fluid management, vasopressor support, and dialysis.\n",
      "\n",
      "Step 6: Surgical Intervention\n",
      "\n",
      "* Consider surgical intervention if the patient has a source of infection that requires drainage or debridement.\n",
      "\n",
      "Step 7: Close Monitoring and Follow-up\n",
      "\n",
      "* Continuously monitor the patient's condition and adjust therapy as needed.\n",
      "* Perform frequent blood cultures and other appropriate diagnostic tests to guide treatment.\n",
      "* Provide close follow-up care in a critical care unit or intensive care unit (ICU) until the patient's condition has stabilized.\n",
      "\n",
      "This step-by-step protocol provides a systematic approach to managing sepsis in a critical care unit, with early recognition, prompt treatment, and ongoing monitoring being key components of effective management. It is important to note that this protocol should be tailored to the individual patient's needs and may require modification based on the patient's clinical status and other factors.\n"
     ]
    }
   ],
   "source": [
    "prompt1=\"What is the protocol for managing sepsis in a critical care unit? Provide a detailed step-by-step protocol.\"\n",
    "res=response(prompt1,1024,0.07)\n",
    "print(res)"
   ]
  },
  {
   "cell_type": "markdown",
   "metadata": {
    "id": "Zw0u9uxT-Ps_"
   },
   "source": [
    "**2.Role-based Prompt**"
   ]
  },
  {
   "cell_type": "code",
   "execution_count": 15,
   "metadata": {
    "colab": {
     "base_uri": "https://localhost:8080/"
    },
    "id": "Z_NkOKQH-M7R",
    "outputId": "aeb0e044-f8ef-4a42-9649-4dd36d39371e"
   },
   "outputs": [
    {
     "name": "stderr",
     "output_type": "stream",
     "text": [
      "Llama.generate: prefix-match hit\n"
     ]
    },
    {
     "name": "stdout",
     "output_type": "stream",
     "text": [
      "\n",
      "\n",
      "Sepsis is a life-threatening condition that can arise from an infection, and it is a medical emergency that requires prompt recognition and treatment. The management of sepsis in a critical care unit involves a multidisciplinary approach, involving intensivists, nurses, and other healthcare professionals. Here is the protocol for managing sepsis in a critical care unit, emphasizing the importance of each step:\n",
      "\n",
      "Step 1: Early recognition and prompt activation of the sepsis team\n",
      "The first step in managing sepsis is to recognize the signs and symptoms early and activate the sepsis team immediately. This includes monitoring patients for signs of sepsis, such as fever, tachycardia, tachypnea, confusion, and hypotension. The sepsis team should be activated when there is a suspicion of sepsis, regardless of the patient's age or underlying condition.\n",
      "\n",
      "Step 2: Rapid administration of antibiotics and fluid resuscitation\n",
      "Once the sepsis team is activated, the patient should receive rapid administration of broad-spectrum antibiotics and fluid resuscitation. The antibiotics should be administered within the first hour of recognition of sepsis, and the fluid resuscitation should be initiated within the first three hours. The goal of fluid resuscitation is to maintain mean arterial pressure (MAP) ≥ 65 mmHg and urine output ≥ 0.5 mL/kg/hour.\n",
      "\n",
      "Step 3: Vasopressor support if needed\n",
      "If the patient's blood pressure remains low despite fluid resuscitation, vasopressor support may be necessary. The choice of vasopressor should be based on the patient's clinical status and hemodynamic parameters. Vasopressors should be titrated to maintain MAP ≥ 65 mmHg and mean central venous oxygen saturation (SCVO2) ≥ 70%.\n",
      "\n",
      "Step 4: Management of underlying infection\n",
      "The management of the underlying infection is critical in managing sepsis. The type of antibiotics used should be based on the suspected pathogen, and the dose and duration of treatment should be guided by the severity of sepsis and the patient's clinical response. In addition to antibiotics, other supportive measures such as surgical drainage or wound care may be necessary to manage the underlying infection.\n",
      "\n",
      "Step 5: Monitoring and titration of therapy\n",
      "Close monitoring of the patient's clinical status, hemodynamic parameters, and laboratory values is essential to ensure that therapy is effective and to detect any signs of complications early. The patient's response to therapy should be closely monitored, and the treatment plan should be adjusted as needed based on the patient's clinical status and laboratory values.\n",
      "\n",
      "Step 6: Management of organ dysfunction\n",
      "Sepsis can lead to multiple organ dysfunctions, such as acute kidney injury (AKI), cardiac dysfunction, and respiratory failure. These complications should be recognized early and managed appropriately. For example, AKI should be managed with fluid management, electrolyte replacement, and dialysis if necessary. Cardiac dysfunction should be managed with vasopressor support, oxygen therapy, and other supportive measures as needed.\n",
      "\n",
      "Step 7: Early recognition and management of sepsis-induced cardiovascular dysfunction\n",
      "Sepsis can lead to cardiovascular dysfunction, which can be life-threatening if not recognized and managed early. The patient should be closely monitored for signs of cardiovascular dysfunction, such as tachycardia, tachypnea, and decreased systolic blood pressure. Early recognition and management of sepsis-induced cardiovascular dysfunction can help prevent complications and improve outcomes.\n",
      "\n",
      "Step 8: Management of delirium and other psychological complications\n",
      "Sepsis can lead to delirium, a common complication that can have long-lasting effects on the patient's cognitive function and quality of life. Other psychological complications such as anxiety, depression, and post-traumatic stress disorder (PTSD) may also occur. These complications should be recognized early and managed appropriately with a multidisciplinary approach involving intensivists, nurses, psychologists, and other healthcare professionals.\n",
      "\n",
      "Step 9: Family support and communication\n",
      "Family support and communication are critical in managing sepsis. The patient's family should be informed about the diagnosis, treatment plan, and prognosis. They should also be involved in the care of the patient and provided with emotional support. Effective communication can help reduce anxiety and improve outcomes.\n",
      "\n",
      "Step 10: Follow-up and referral to rehabilitation services\n",
      "After the patient has recovered from sepsis, follow-up care is essential to ensure that they do not experience any long-term complications. The patient should be referred to rehabilitation services if necessary, and their clinical status should be closely monitored for signs of complications or recurrence of sepsis.\n",
      "\n",
      "In conclusion, the management of sepsis in a critical care unit involves a multidisciplinary approach that emphasizes early recognition, prompt activation of the sepsis team, and aggressive treatment of the underlying infection and organ dysfunction. Each step is critical in improving outcomes for patients with sepsis. The importance of each step cannot be overemphasized, and any deviation from these steps can have serious consequences. Therefore, it is essential to follow this protocol carefully and consistently to ensure the best possible outcomes for patients with sepsis.\n"
     ]
    }
   ],
   "source": [
    "prompt1=\"You are a critical care specialist. Explain the protocol for managing sepsis in a critical care unit in detail, emphasizing the importance of each step.\"\n",
    "res=response(prompt1,1500,0.7,.8)\n",
    "print(res)"
   ]
  },
  {
   "cell_type": "markdown",
   "metadata": {
    "id": "Bdp5xpy1-8TT"
   },
   "source": [
    "**3.Instruction prompt**"
   ]
  },
  {
   "cell_type": "code",
   "execution_count": 16,
   "metadata": {
    "colab": {
     "base_uri": "https://localhost:8080/"
    },
    "id": "lmv5RT6I8cdA",
    "outputId": "329dde5d-7fae-4dea-b21c-a69b9e4f37e6"
   },
   "outputs": [
    {
     "name": "stderr",
     "output_type": "stream",
     "text": [
      "Llama.generate: prefix-match hit\n"
     ]
    },
    {
     "name": "stdout",
     "output_type": "stream",
     "text": [
      "Sepsis is a life-threatening condition caused by an immune response to an infection, which can lead to organ dysfunction and death. The management of sepsis requires prompt recognition, early intervention, and aggressive treatment. Here is a structured protocol for managing sepsis in a critical care unit:\n",
      "\n",
      "Step 1: Early Recognition (0-2 hours)\n",
      "\n",
      "* Assess patients with signs of systemic inflammatory response syndrome (SIRS) or suspected infection.\n",
      "* Use clinical criteria such as SIRS, sepsis definition, and quick Sequential Organ Failure Assessment (qSOFA) to identify patients at risk for sepsis.\n",
      "* Check blood cultures if central venous access is available.\n",
      "\n",
      "Step 2: Resuscitation (0-2 hours)\n",
      "\n",
      "* Administer broad-spectrum antibiotics within the first hour of recognition, ideally within 30 minutes.\n",
      "* Initiate fluid resuscitation with crystalloid solutions to restore mean arterial pressure (MAP) ≥ 65 mmHg and serum lactate level < 2 mmol/L.\n",
      "* Consider vasopressors if fluid resuscitation is ineffective or if MAP remains < 65 mmHg despite adequate fluid resuscitation.\n",
      "\n",
      "Step 3: Source Control (0-4 hours)\n",
      "\n",
      "* Identify and manage the source of infection, such as removing any infected devices or performing surgical debridement.\n",
      "* Drain any abscesses or purulent collections.\n",
      "* Manage any co-morbidities that may be contributing to sepsis, such as hypertension or diabetes.\n",
      "\n",
      "Step 4: Monitoring (0-24 hours)\n",
      "\n",
      "* Monitor vital signs, including temperature, blood pressure, tachycardia/tachypnea, and oxygen saturation.\n",
      "* Assess for signs of organ dysfunction, such as altered mentation, respiratory failure, or renal insufficiency.\n",
      "* Use early warning systems, such as the Modified Early Warning Score (MEWS) or the Quick Sequential Organ Failure Assessment (qSOFA), to detect deterioration early.\n",
      "\n",
      "Step 5: Adjunctive Therapies (0-24 hours)\n",
      "\n",
      "* Consider adjunctive therapies, such as vasopressors, mechanical ventilation, or dialysis, if organ dysfunction persists despite resuscitation and source control.\n",
      "* Use corticosteroids in patients with severe sepsis who are hypotensive and have a high risk of mortality.\n",
      "* Consider the use of activated protein C (APC) in patients with severe sepsis and multiple organ dysfunction.\n",
      "\n",
      "Step 6: Follow-up Care (24 hours to discharge or transfer)\n",
      "\n",
      "* Monitor vital signs and clinical status closely, and adjust treatment as needed.\n",
      "* Manage any complications that arise, such as pneumonia, acute kidney injury, or shock.\n",
      "* Consider weaning patients from vasopressors or mechanical ventilation when appropriate.\n",
      "\n",
      "Examples:\n",
      "\n",
      "Example 1: A 65-year-old male patient is admitted to the critical care unit with a diagnosis of pneumonia and sepsis. His vital signs are: temperature, 38.5°C (101.3°F); blood pressure, 90/60 mmHg; heart rate, 120 beats per minute; and respiratory rate, 24 breaths per minute. The patient's serum lactate level is 4 mmol/L.\n",
      "\n",
      "Step 1: Early Recognition - The patient meets the criteria for sepsis (SIRS and elevated lactate) and is started on broad-spectrum antibiotics and fluid resuscitation with crystalloid solutions.\n",
      "\n",
      "Step 2: Resuscitation - The patient's fluid resuscitation is continued, and vasopressors are initiated to maintain mean arterial pressure (MAP) ≥ 65 mmHg.\n",
      "\n",
      "Step 3: Source Control - The patient undergoes surgical debridement of the infected tissue and device removal.\n",
      "\n",
      "Step 4: Monitoring - The patient's vital signs are closely monitored, and early warning scores are used to detect any deterioration.\n",
      "\n",
      "Step 5: Adjunctive Therapies - The patient is started on vasopressors and mechanical ventilation due to persistent organ dysfunction. Corticosteroids are considered but not initiated due to the patient's history of gastritis.\n",
      "\n",
      "Step 6: Follow-up Care - The patient is monitored closely, and his treatment is adjusted as needed. He is weaned off vasopressors and mechanical ventilation when appropriate.\n",
      "\n",
      "Example 2: A 30-year-old female patient is admitted to the critical care unit with a diagnosis of severe sepsis and purulent pericardial effusion. Her vital signs are: temperature, 40°C (104°F); blood pressure, 60/40 mmHg; heart rate, 140 beats per minute; and respiratory rate, 32 breaths per minute. The patient's serum lactate level is 8 mmol/L.\n",
      "\n",
      "Step 1: Early Recognition - The patient meets the criteria for sepsis (SIRS and elevated lactate) and is started on broad-spectrum antibiotics and fluid resuscitation with crystalloid solutions.\n",
      "\n",
      "Step 2: Resuscitation - The patient's fluid resuscitation is continued, and vasopressors are initiated to maintain MAP ≥ 65 mmHg.\n",
      "\n",
      "Step 3: Source Control - Pericardiocentesis is performed to drain the purulent effusion.\n",
      "\n",
      "Step 4: Monitoring - The patient's vital signs are closely monitored, and early warning scores are used to detect any deterioration.\n",
      "\n",
      "Step 5: Adjunctive Therapies - The patient is started on mechanical ventilation due to persistent respiratory failure. Corticosteroids are considered but not initiated due to the patient's history of diabetes.\n",
      "\n",
      "Step 6: Follow-up Care - The patient is monitored closely, and her treatment is adjusted as needed. She is weaned off vasopressors and mechanical ventilation when appropriate.\n"
     ]
    }
   ],
   "source": [
    "prompt1=\"\"\"Provide a structured, step-by-step protocol for managing sepsis in a critical care unit. Include key steps like early recognition, resuscitation, source control, and monitoring, with examples where necessary.\n",
    "\"\"\"\n",
    "res=response(prompt1,1500,0.7,1)\n",
    "print(res)"
   ]
  },
  {
   "cell_type": "markdown",
   "metadata": {
    "id": "oi-VCj8j_ITQ"
   },
   "source": [
    "**4.Multi-number prompts**"
   ]
  },
  {
   "cell_type": "code",
   "execution_count": 17,
   "metadata": {
    "colab": {
     "base_uri": "https://localhost:8080/"
    },
    "id": "6pJ6sM9o8cpP",
    "outputId": "35ac3cff-5197-4dc8-bc00-3dded21577dc"
   },
   "outputs": [
    {
     "name": "stderr",
     "output_type": "stream",
     "text": [
      "Llama.generate: prefix-match hit\n"
     ]
    },
    {
     "name": "stdout",
     "output_type": "stream",
     "text": [
      "\n",
      "Early Recognition of Sepsis\n",
      "\n",
      "In order to initiate timely and appropriate treatment, it is crucial to recognize sepsis at an early stage. This involves identifying subtle signs and symptoms, which may not be immediately obvious, but can indicate the onset of sepsis. Key components of early recognition include:\n",
      "\n",
      "1. Temperature assessment: Check for elevated body temperature (≥38°C) or hypothermia (<36°C).\n",
      "2. Heart rate evaluation: Monitor heart rate and detect any signs of tachycardia or bradycardia.\n",
      "3. Tissue perfusion evaluation: Assess peripheral perfusion, including the presence of peripheral edema, coolness of the skin, or decreased peripheral pulses.\n",
      "4. Respiratory rate assessment: Monitor respiratory rate and detect any signs of tachypnea or hyperpnea.\n",
      "5. Mental status evaluation: Assess the patient’s level of consciousness, including confusion, disorientation, or lethargy.\n",
      "6. Signs of infection: Observe for signs of infection, such as purulent secretions, redness, swelling, or localized pain.\n",
      "7. Urine output assessment: Monitor urine output and detect any signs of oliguria or anuria.\n",
      "8. Capillary refill evaluation: Assess capillary refill time (>2 seconds indicates sepsis)\n",
      "9. Point-of-care lactate measurement (if available): Measure serum lactate levels (>2 mmol/L indicates sepsis)\n",
      "10. Neutrophil-lymphocyte ratio (if available): Measure the NLR (>5 indicates sepsis)\n",
      "\n",
      "Initial Assessment of Sepsis\n",
      "\n",
      "Once sepsis is suspected, a comprehensive initial assessment should be performed to identify the source of infection, evaluate organ dysfunction, and determine the severity of illness. Key components of the initial assessment include:\n",
      "\n",
      "1. Complete blood count (CBC) with differential: Evaluate for leukocytosis, anemia, or thrombocytopenia.\n",
      "2. Electrolyte panel: Assess serum electrolytes, including sodium, potassium, chloride, and bicarbonate.\n",
      "3. Creatinine and hematuria assessment: Evaluate for acute kidney injury (AKI).\n",
      "4. Blood cultures: Collect blood cultures to identify the causative pathogen(s).\n",
      "5. Urinalysis: Assess urinary casts, red blood cells, or white blood cells in the urine.\n",
      "6. Chest radiograph (CXR) or ultrasound: Evaluate for evidence of pneumonia or other respiratory abnormalities.\n",
      "7. Point-of-care lactate measurement (if available): Measure serum lactate levels to assess adequacy of perfusion.\n",
      "8. Sepsis severity score (SSS) calculation: Use a validated scoring system, such as the SOFA score or qSOFA score, to assess organ dysfunction.\n",
      "\n",
      "Treatment Initiation for Sepsis\n",
      "\n",
      "Once sepsis is confirmed, prompt treatment should be initiated to address the underlying infection and prevent further progression of organ dysfunction. Key components of treatment initiation include:\n",
      "\n",
      "1. Antibiotics: Administer broad-spectrum antibiotics effective against common causes of sepsis, such as Gram-positive and Gram-negative bacteria, and fungi.\n",
      "2. Fluid resuscitation: Provide crystalloid or colloid fluids to restore intravascular volume and maintain mean arterial pressure (MAP) ≥65 mmHg.\n",
      "3. Vasopressors: Use vasopressors to maintain MAP ≥65 mmHg if fluid resuscitation is ineffective or contraindicated.\n",
      "4. Pain management: Provide adequate pain management with opioids or non-steroidal anti-inflammatory drugs (NSAIDs).\n",
      "5. Sedation: If necessary, administer sedatives to reduce agitation and promote rest.\n",
      "6. Mechanical ventilation: Consider mechanical ventilation if the patient is hypoxemic or has evidence of respiratory failure.\n",
      "7. Dialysis: Initiate dialysis if there is evidence of AKI or if serum creatinine levels are ≥4 mg/dL.\n",
      "8. Blood product transfusion: Consider blood product transfusions if hemoglobin levels <7 g/dL or platelet counts <20 x 10^9/L.\n",
      "\n",
      "Monitoring for Sepsis\n",
      "\n",
      "Close monitoring is essential to assess the response to treatment and detect any changes in the patient’s condition. Key components of sepsis monitoring include:\n",
      "\n",
      "1. Temperature monitoring: Assess body temperature every 4-6 hours, with frequent (every 2-3 hour) assessments in patients with fever.\n",
      "2. Heart rate and blood pressure monitoring: Monitor heart rate and blood pressure every 4-6 hours, with frequent (every 2-3 hour) assessments in patients with tachycardia or hypotension.\n",
      "3. Respiratory rate monitoring: Assess respiratory rate every 4-6 hours, with frequent (every 2-3 hour) assessments in patients with tachypnea.\n",
      "4. Oxygen saturation monitoring: Monitor oxygen saturation every 4-6 hours, with frequent (every 2-3 hour) assessments in patients with hypoxia.\n",
      "5. Pulse oximetry: Use pulse oximetry to monitor oxygen saturation and detect any changes in respiratory or cardiovascular status.\n",
      "6. Capillary refill evaluation: Assess capillary refill time every 4-6 hours, with frequent (every 2-3 hour) assessments in patients with sepsis.\n",
      "7. Point-of-care lactate measurement (if available): Measure serum lactate levels every 4-6 hours to assess adequacy of perfusion and response to treatment.\n",
      "8. Sepsis severity score (SSS) reassessment: Reassess SSS every 4-6 hours to evaluate the patient’s organ dysfunction and response to treatment.\n",
      "9. Serial blood cultures: Collect serial blood cultures to monitor for growth of the causative pathogen(s) and guide antibiotic therapy.\n",
      "10. Monitoring for signs of sepsis: Continuously monitor the patient for signs of sepsis, such as changes in mental status, respiratory or cardiovascular dysfunction, or new organ dysfunction.\n"
     ]
    }
   ],
   "source": [
    "prompt1=\"\"\"Let’s think step-by-step. Managing sepsis in a critical care unit involves multiple stages:\n",
    "1. Early recognition.\n",
    "2. Initial assessment.\n",
    "3. Treatment initiation.\n",
    "4. Monitoring.\n",
    "\n",
    "Expand on each stage in detail and provide a comprehensive protocol.\n",
    "\"\"\"\n",
    "res=response(prompt1,2000,0.9,1)\n",
    "print(res)"
   ]
  },
  {
   "cell_type": "markdown",
   "metadata": {
    "id": "YdU2FB3c_Jjh"
   },
   "source": [
    "**5. Categorize into major steps**"
   ]
  },
  {
   "cell_type": "code",
   "execution_count": 18,
   "metadata": {
    "colab": {
     "base_uri": "https://localhost:8080/"
    },
    "id": "JY-lSSVC8c1t",
    "outputId": "5bbc9eb8-d3b3-4009-f918-c7a47fa85dad"
   },
   "outputs": [
    {
     "name": "stderr",
     "output_type": "stream",
     "text": [
      "Llama.generate: prefix-match hit\n"
     ]
    },
    {
     "name": "stdout",
     "output_type": "stream",
     "text": [
      "Sepsis is a life-threatening condition that arises from an immune response to an infection, leading to organ dysfunction and potential death. The management of sepsis in a critical care unit requires a systematic approach that includes early recognition and diagnosis, initial assessment and resuscitation, antibiotic therapy and source control, monitoring and reassessment, and supportive care and follow-up.\n",
      "\n",
      "1. Early recognition and diagnosis:\n",
      "Early recognition of sepsis is crucial to prevent morbidity and mortality. Signs of sepsis include fever, tachycardia, tachypnea, confusion, and hypotension. The Sepsis-3 definition should be used for early identification: \"Sepsis is defined as suspected infection plus signs of organ dysfunction (e.g., altered mental status, significant changes in vital signs, or laboratory abnormalities) within 24 hours after initial presentation.\"\n",
      "2. Initial assessment and resuscitation:\n",
      "Upon recognition of sepsis, a prompt and comprehensive initial assessment should be performed to identify the source of infection, degree of organ dysfunction, and severity of sepsis. This includes a thorough physical examination, laboratory tests (e.g., blood cultures, complete blood count, serum electrolytes), and imaging studies (e.g., chest X-ray, computed tomography). Resuscitation should be initiated promptly with fluid replacement, oxygen therapy, and vasopressor support if necessary.\n",
      "3. Antibiotic therapy and source control:\n",
      "Empiric antibiotics should be administered as soon as possible based on the suspected site of infection and the patient's clinical condition. The choice of antibiotics should cover the most likely pathogens, and the administration of broad-spectrum antibiotics is recommended until the etiology of sepsis is identified. Source control measures (e.g., surgical drainage, wound closure) should be implemented to eliminate or reduce the source of infection.\n",
      "4. Monitoring and reassessment:\n",
      "Close monitoring of the patient's clinical status, laboratory values, and response to therapy is essential. Reassessment of the patient's condition should be performed regularly, and any changes in the severity of sepsis or organ dysfunction should be promptly addressed. Serial assessments using tools such as the Sequential Organ Failure Assessment (SOFA) score can help evaluate the effectiveness of treatment and guide management decisions.\n",
      "5. Supportive care and follow-up:\n",
      "In addition to antibiotic therapy and source control, supportive care is critical for managing sepsis. This includes mechanical ventilation, dialysis, and other interventions as needed. Follow-up care should be provided after discharge from the critical care unit to ensure that the patient's condition remains stable and that any complications are addressed promptly.\n",
      "\n",
      "In summary, the protocol for managing sepsis in a critical care unit involves early recognition and diagnosis, initial assessment and resuscitation, antibiotic therapy and source control, monitoring and reassessment, and supportive care and follow-up. A systematic approach to sepsis management can improve patient outcomes and reduce the risk of complications and mortality.\n"
     ]
    }
   ],
   "source": [
    "prompt1=\"\"\"Categorize the protocol for managing sepsis in a critical care unit into 5 major points. Cover the following aspects:\n",
    "1. Early recognition and diagnosis.\n",
    "2. Initial assessment and resuscitation.\n",
    "3. Antibiotic therapy and source control.\n",
    "4. Monitoring and reassessment.\n",
    "5. Supportive care and follow-up.\n",
    "Provide a concise and detailed response.\n",
    "\"\"\"\n",
    "res=response(prompt1,1000,.3,.7)\n",
    "print(res)"
   ]
  },
  {
   "cell_type": "markdown",
   "metadata": {
    "id": "b8CNlQ8Q27qX"
   },
   "source": [
    "### Observations:\n",
    "- **Dynamic Sentence and Tone Adjustment**:\n",
    "  - The starting points and structure of each output vary based on the prompt.\n",
    "  - For instance, in a role-playing prompt, the LLM adapts its wording and tone accordingly.\n",
    "\n",
    "- **Prompt Understanding**:\n",
    "  - The LLM demonstrates proper comprehension of the prompts.\n",
    "  - Outputs are aligned with the context and requirements of the prompts.\n",
    "\n",
    "- **Possibility of Hallucination**:\n",
    "  - Despite the outputs being contextually relevant, there is a possibility of hallucination.\n",
    "  - Some information provided may be fabricated or inaccurate, necessitating validation.\n"
   ]
  },
  {
   "cell_type": "markdown",
   "metadata": {
    "id": "iYpyw4HjOeff"
   },
   "source": [
    "### Query 2: What are the common symptoms for appendicitis, and can it be cured via medicine? If not, what surgical procedure should be followed to treat it?"
   ]
  },
  {
   "cell_type": "markdown",
   "metadata": {
    "id": "P_TxEUX5CcmP"
   },
   "source": [
    "**1. Direct Prompting**"
   ]
  },
  {
   "cell_type": "code",
   "execution_count": 19,
   "metadata": {
    "colab": {
     "base_uri": "https://localhost:8080/"
    },
    "id": "_hAqI9SdCcmQ",
    "outputId": "47a7f5f7-2131-4ed6-8a03-233b380dff1e"
   },
   "outputs": [
    {
     "name": "stderr",
     "output_type": "stream",
     "text": [
      "Llama.generate: prefix-match hit\n"
     ]
    },
    {
     "name": "stdout",
     "output_type": "stream",
     "text": [
      "\n",
      "Answer:\n",
      "\n",
      "The most common symptoms of appendicitis include severe pain in the abdomen, nausea, vomiting, fever, loss of appetite, and constipation. However, some people may experience only mild symptoms or no symptoms at all. In such cases, the diagnosis is often made based on a physical examination and medical imaging tests like CT scans or ultrasound.\n",
      "\n",
      "While appendicitis can be treated with antibiotics in some cases, surgery is usually necessary to remove the inflamed appendix. The most common surgical procedure for appendicitis is an appendectomy, which involves removing the inflamed appendix through a small incision in the abdomen.\n",
      "\n",
      "There are two types of appendectomies: open and laparoscopic. An open appendectomy involves a larger incision to allow the surgeon to see the appendix more clearly, while a laparoscopic appendectomy involves several small incisions and the use of a camera and specialized instruments to remove the appendix.\n",
      "\n",
      "In some cases, the inflamed appendix may be removed through a natural opening in the abdomen, such as the belly button. This is called a laparoscopic-assisted appendectomy. The choice of surgical procedure depends on the severity of the appendicitis and the patient's overall health.\n",
      "\n",
      "It's important to note that delaying treatment can lead to complications such as the appendix rupturing, which can cause infection throughout the abdominal cavity (peritonitis). Therefore, if you suspect you or someone else may have appendicitis, it's essential to seek medical attention immediately.\n"
     ]
    }
   ],
   "source": [
    "prompt2=\"\"\"What are the common symptoms of appendicitis, and can it be cured via medicine? If not, what surgical procedure is typically followed to treat it?\n",
    "\"\"\"\n",
    "res=response(prompt2,1024,0.07)\n",
    "print(res)"
   ]
  },
  {
   "cell_type": "markdown",
   "metadata": {
    "id": "bdq8EpEoCcmQ"
   },
   "source": [
    "**2.Role-based Prompt**"
   ]
  },
  {
   "cell_type": "code",
   "execution_count": 20,
   "metadata": {
    "colab": {
     "base_uri": "https://localhost:8080/"
    },
    "id": "Ym2UurM2CcmQ",
    "outputId": "2fe5b8ba-f17d-4528-ea8b-a9445f0f7308"
   },
   "outputs": [
    {
     "name": "stderr",
     "output_type": "stream",
     "text": [
      "Llama.generate: prefix-match hit\n"
     ]
    },
    {
     "name": "stdout",
     "output_type": "stream",
     "text": [
      "Hello there! As a general surgeon specializing in appendicitis issues, I'd be happy to explain the common symptoms of appendicitis, the treatment options available, and the surgical procedure typically used to treat it.\n",
      "Common Symptoms of Appendicitis:\n",
      "The most common symptom of appendicitis is abdominal pain, which can start near the belly button and then move to the lower right side of the abdomen. This pain can be severe and may worsen over time. Other symptoms may include:\n",
      "\n",
      "* Nausea and vomiting\n",
      "* Loss of appetite\n",
      "* Fever\n",
      "* Abdominal tenderness and swelling\n",
      "* Inability to pass gas\n",
      "\n",
      "Treatment with Medicine:\n",
      "In some cases, appendicitis can be treated with antibiotics and other medications to manage the symptoms. However, if the inflammation is severe or the appendix has already ruptured, surgery may be necessary.\n",
      "\n",
      "Surgical Procedure for Appendicitis:\n",
      "The most common surgical procedure for appendicitis is a laparoscopic appendectomy, where a small incision is made in the abdomen and a laparoscope (a thin, lighted tube with a camera) is inserted to visualize the appendix. The inflamed appendix is then removed through the small incision.\n",
      "\n",
      "If the appendix has already ruptured, an open appendectomy may be necessary, which involves a larger incision to allow for better visualization of the affected area. In some cases, the surgeon may also need to remove any inflamed tissue or abscesses that have formed as a result of the infection.\n",
      "\n",
      "After the surgery, you may need to stay in the hospital for a few days to recover and receive antibiotics to prevent any further infections. You will be advised to rest and avoid any strenuous activities for a few weeks to allow your body to heal properly.\n",
      "\n",
      "It's important to note that if you suspect you or someone else may have appendicitis, it's crucial to seek medical attention immediately, as prompt treatment can help prevent complications and improve outcomes.\n"
     ]
    }
   ],
   "source": [
    "prompt2=\"\"\"You are a general surgeon specializing in appendicitis issues.\n",
    "Explain to a patient the common symptoms of appendicitis, whether it can be treated with medicine, and if not, describe the surgical procedure typically used to treat it.\n",
    "\"\"\"\n",
    "res=response(prompt2,1500,0.7,.8)\n",
    "print(res)"
   ]
  },
  {
   "cell_type": "markdown",
   "metadata": {
    "id": "jrnRUuEQCcmQ"
   },
   "source": [
    "**3.Instruction prompt**"
   ]
  },
  {
   "cell_type": "code",
   "execution_count": 21,
   "metadata": {
    "colab": {
     "base_uri": "https://localhost:8080/"
    },
    "id": "xxP0tlkoCcmQ",
    "outputId": "ec3bf176-a541-41e6-9136-975e0ae9ccb9"
   },
   "outputs": [
    {
     "name": "stderr",
     "output_type": "stream",
     "text": [
      "Llama.generate: prefix-match hit\n"
     ]
    },
    {
     "name": "stdout",
     "output_type": "stream",
     "text": [
      "Please include references to reliable sources.\n",
      "\n",
      "Symptoms of appendicitis:\n",
      "------------------------\n",
      "\n",
      "Appendicitis is a medical emergency that requires prompt diagnosis and treatment to prevent complications and death. The common symptoms of appendicitis include:\n",
      "\n",
      "1. Sudden and severe pain in the abdomen, usually in the lower right area, which may begin as a dull ache and then progress to a sharp, stabbing pain. (1)\n",
      "2. Nausea and vomiting, which may be accompanied by fever and chills. (2)\n",
      "3. Abdominal tenderness and guarding, where the muscles in the abdomen tighten to protect the area from the inflamed appendix. (3)\n",
      "4. Loss of appetite and difficulty eating or drinking due to abdominal pain. (4)\n",
      "5. Fever over 100°F (38°C), which may indicate that the infection has spread to other parts of the body. (5)\n",
      "6. Abdominal swelling, which may be visible as a bulge in the lower right abdomen. (6)\n",
      "7. Diarrhea or constipation, depending on the severity of the inflammation. (7)\n",
      "8. In severe cases, appendicitis may cause sepsis, which can lead to shock, organ failure, and even death if left untreated. (8)\n",
      "\n",
      "Can appendicitis be cured via medicine?\n",
      "-----------------------------------------\n",
      "\n",
      "In some cases, mild cases of appendicitis may be treated with antibiotics and other supportive care measures, such as intravenous fluids and pain management. However, most cases of appendicitis require surgical intervention to remove the inflamed appendix. (2)\n",
      "\n",
      "Surgical procedure for treating appendicitis:\n",
      "---------------------------------------------\n",
      "\n",
      "The standard surgical procedure for treating appendicitis is a laparoscopic appendectomy, where a small incision is made in the abdomen to remove the inflamed appendix. In some cases, an open appendectomy may be necessary if the appendix has ruptured or if there are other complications present. (3)\n",
      "\n",
      "References:\n",
      "-----------\n",
      "\n",
      "(1) Mayo Clinic. (2022). Appendicitis. Retrieved from <https://www.mayoclinic.org/diseases-conditions/appendicitis/symptoms-causes/syc-20376485>\n",
      "\n",
      "(2) MedlinePlus. (2022). Appendicitis. Retrieved from <https://medlineplus.gov/ency/article/000029.htm>\n",
      "\n",
      "(3) Healthline. (2022). Appendicitis: Symptoms, Causes, and Treatment. Retrieved from <https://www.healthline.com/health/appendicitis>\n",
      "\n",
      "(4) Cleveland Clinic. (2022). Appendicitis. Retrieved from <https://my.clevelandclinic.org/health/diseases/17683-appendicitis>\n",
      "\n",
      "(5) WebMD. (2022). Appendicitis. Retrieved from <https://www.webmd.com/digestive-disorders/understanding-appendicitis-basics>\n",
      "\n",
      "(6) National Institute of Diabetes and Digestive and Kidney Diseases. (2018). Appendicitis and Other Inflammatory Bowel Diseases. Retrieved from <https://www.niddk.nih.gov/health-information/digestive-diseases/appendicitis-other-inflammatory-bowel-diseases>\n",
      "\n",
      "(7) American Family Physician. (2019). Appendicitis: Diagnosis and Management. Retrieved from <https://www.aafp.org/afp/2019/0315/p343.html>\n",
      "\n",
      "(8) Sepsis Alliance. (2022). Sepsis and Appendicitis. Retrieved from <https://sepsis.org/sepsis-and/appendicitis/>\n"
     ]
    }
   ],
   "source": [
    "prompt2=\"\"\"Provide a detailed answer to the following questions:\n",
    "1. What are the common symptoms of appendicitis?\n",
    "2. Can appendicitis be cured via medicine?\n",
    "3. If not, what surgical procedure should be performed to treat it?\n",
    "\n",
    "Ensure the response is well-structured, concise, and includes relevant medical details.\n",
    "\"\"\"\n",
    "res=response(prompt2,1500,0.7,1)\n",
    "print(res)"
   ]
  },
  {
   "cell_type": "markdown",
   "metadata": {
    "id": "flzuuFPMCcmR"
   },
   "source": [
    "**4.Multi-number prompts**"
   ]
  },
  {
   "cell_type": "code",
   "execution_count": 22,
   "metadata": {
    "colab": {
     "base_uri": "https://localhost:8080/"
    },
    "id": "3tLUbIfgCcmR",
    "outputId": "f1077893-3450-4f2c-8430-c840248a7e97"
   },
   "outputs": [
    {
     "name": "stderr",
     "output_type": "stream",
     "text": [
      "Llama.generate: prefix-match hit\n"
     ]
    },
    {
     "name": "stdout",
     "output_type": "stream",
     "text": [
      "Hello! I'd be happy to help you understand the symptoms, treatment options, and standard surgical procedures for appendicitis. Let's dive in!\n",
      "\n",
      "1. Symptoms of Appendicitis:\n",
      "The most common symptoms of appendicitis include:\n",
      "\t* Severe pain in the lower right abdomen that begins suddenly and worsens over time\n",
      "\t* Nausea and vomiting\n",
      "\t* Loss of appetite\n",
      "\t* Fever (usually above 101°F)\n",
      "\t* Abdominal tenderness and swelling\n",
      "\t* Inability to pass gas or have a bowel movement\n",
      "2. Medication Treatment:\n",
      "In some cases, appendicitis can be treated with antibiotics and pain management medication. However, this approach is only effective if the inflammation is caught early, and the appendix has not yet ruptured. The goal of medication treatment is to reduce the inflammation and prevent further complications.\n",
      "3. Surgical Treatment:\n",
      "If the symptoms persist or worsen after initial treatment with antibiotics and pain management medication, surgery may be necessary. The standard surgical procedure for appendicitis is an appendectomy, which involves the removal of the inflamed appendix. This procedure is typically performed under general anesthesia, and the recovery time varies depending on the patient's overall health.\n",
      "\n",
      "It's worth noting that if the appendix ruptures, the infection can spread to other parts of the abdominal cavity, leading to potentially life-threatening complications. In such cases, emergency surgery may be necessary to remove the inflamed tissue and repair any damage to the intestines or other organs.\n",
      "\n",
      "I hope this information helps you understand appendicitis and its treatment options better. Do you have any further questions or would you like me to elaborate on any of these points?\n"
     ]
    }
   ],
   "source": [
    "prompt2=\"\"\"Let’s think step-by-step.\n",
    "1. What are the most common symptoms of appendicitis?\n",
    "2. Is it possible to cure appendicitis with medicines alone, and under what circumstances?\n",
    "3. If medicine isn’t an option, what is the standard surgical treatment?\n",
    "Explain each point in detail before moving to the next step.\n",
    "\n",
    "\"\"\"\n",
    "res=response(prompt2,2000,0.9,1)\n",
    "print(res)"
   ]
  },
  {
   "cell_type": "markdown",
   "metadata": {
    "id": "hVpG_FLQCcmR"
   },
   "source": [
    "**5. Categorize into major steps**"
   ]
  },
  {
   "cell_type": "code",
   "execution_count": 23,
   "metadata": {
    "colab": {
     "base_uri": "https://localhost:8080/"
    },
    "id": "DqcuJz8mCcmR",
    "outputId": "ba397db3-93bd-4181-dc83-bba444055f59"
   },
   "outputs": [
    {
     "name": "stderr",
     "output_type": "stream",
     "text": [
      "Llama.generate: prefix-match hit\n"
     ]
    },
    {
     "name": "stdout",
     "output_type": "stream",
     "text": [
      "Common symptoms of appendicitis:\n",
      "\n",
      "1. Severe pain in the abdomen, usually starting near the belly button and then moving to the lower right side of the abdomen.\n",
      "2. Nausea and vomiting.\n",
      "3. Loss of appetite.\n",
      "4. Fever and chills.\n",
      "5. Abdominal tenderness and guarding (muscle tension).\n",
      "6. Abdominal swelling.\n",
      "7. Inability to pass gas.\n",
      "8. Inability to pass urine (in severe cases).\n",
      "\n",
      "Initial diagnostic methods used to confirm appendicitis:\n",
      "\n",
      "1. Medical history and physical examination.\n",
      "2. Laboratory tests, such as a complete blood count (CBC) and a urinalysis, to rule out other conditions that may cause similar symptoms.\n",
      "3. Imaging studies, such as an X-ray of the abdomen or a CT scan, to confirm the diagnosis and identify any complications.\n",
      "4. Blood tests to check for infection and inflammation.\n",
      "\n",
      "Whether appendicitis can be treated using medicine:\n",
      "\n",
      "1. In some cases, appendicitis may be treated with antibiotics if the patient is otherwise healthy and the appendix has not yet ruptured.\n",
      "2. The goal of treatment with antibiotics is to reduce the risk of complications and promote healing.\n",
      "3. However, if the appendix has already ruptured or the patient has other underlying medical conditions, surgery may be necessary.\n",
      "\n",
      "The surgical procedure for treating appendicitis if medicine isn't effective:\n",
      "\n",
      "1. Appendectomy: This is the most common surgical procedure for treating appendicitis.\n",
      "2. Laparoscopic appendectomy: This is a minimally invasive surgical procedure that uses a laparoscope (a thin tube with a camera and light) to remove the inflamed appendix.\n",
      "3. Open appendectomy: This is an open surgery that involves a larger incision in the abdomen to remove the inflamed appendix.\n",
      "4. Robotic appendectomy: This is a type of laparoscopic surgery that uses a robotic system to assist the surgeon in removing the inflamed appendix.\n",
      "\n",
      "Post-treatment care and recovery guidelines for patients after surgery:\n",
      "\n",
      "1. Rest and recovery: Patients will need to rest and avoid strenuous activities for several days or weeks after surgery.\n",
      "2. Pain management: Patients may experience some pain and discomfort after surgery, which can be managed with pain medication.\n",
      "3. Diet and fluid intake: Patients should follow a soft diet and drink plenty of fluids to stay hydrated.\n",
      "4. Monitoring for complications: Patients will need to be monitored for any signs of complications, such as infection or bleeding.\n",
      "5. Follow-up appointments: Patients will need to follow up with their doctor for post-surgical check-ups and to remove any stitches or staples.\n"
     ]
    }
   ],
   "source": [
    "prompt2=\"\"\"Categorize the answer into 5 major points:\n",
    "1. Common symptoms of appendicitis.\n",
    "2. Initial diagnostic methods used to confirm appendicitis.\n",
    "3. Whether appendicitis can be treated using medicine.\n",
    "4. The surgical procedure for treating appendicitis if medicine isn't effective.\n",
    "5. Post-treatment care and recovery guidelines for patients after surgery.\n",
    "Provide a detailed response under each category.\n",
    "\"\"\"\n",
    "res=response(prompt2,1000,.3,.7)\n",
    "print(res)"
   ]
  },
  {
   "cell_type": "markdown",
   "metadata": {
    "id": "V_u0YVGB4MV9"
   },
   "source": [
    "### Observations:\n",
    "- **Dynamic Sentence and Tone Adjustment**:\n",
    "  - The starting points and structure of each output vary based on the prompt.\n",
    "  - For instance, in a role-playing prompt, the LLM adapts its wording and tone accordingly.\n",
    "\n",
    "- **Prompt Understanding**:\n",
    "  - The LLM demonstrates proper comprehension of the prompts.\n",
    "  - Outputs are aligned with the context and requirements of the prompts.\n",
    "\n",
    "- **Possibility of Hallucination**:\n",
    "  - Despite the outputs being contextually relevant, there is a possibility of hallucination.\n",
    "  - Some information provided may be fabricated or inaccurate, necessitating validation.\n"
   ]
  },
  {
   "cell_type": "markdown",
   "metadata": {
    "id": "dRp92JQZOeff"
   },
   "source": [
    "### Query 3: What are the effective treatments or solutions for addressing sudden patchy hair loss, commonly seen as localized bald spots on the scalp, and what could be the possible causes behind it?"
   ]
  },
  {
   "cell_type": "markdown",
   "metadata": {
    "id": "COJ1-0QFCe6M"
   },
   "source": [
    "**1. Direct Prompting**"
   ]
  },
  {
   "cell_type": "code",
   "execution_count": 75,
   "metadata": {
    "colab": {
     "base_uri": "https://localhost:8080/"
    },
    "id": "6atqhvOvCe6M",
    "outputId": "f2111ed9-82b9-44a0-d2cf-61592a379523"
   },
   "outputs": [
    {
     "name": "stderr",
     "output_type": "stream",
     "text": [
      "Llama.generate: prefix-match hit\n"
     ]
    },
    {
     "name": "stdout",
     "output_type": "stream",
     "text": [
      "Sudden patchy hair loss, also known as alopecia areata, can be caused by a variety of factors, including autoimmune disorders, hormonal imbalances, and stress. Here are some effective treatments and solutions for addressing this condition:\n",
      "1. Corticosteroid injections: These injections can help suppress the immune system and promote hair growth. They are usually administered every 4-6 weeks.\n",
      "2. Topical corticosteroids: Over-the-counter or prescription creams, gels, or ointments can be applied directly to the affected area to reduce inflammation and promote hair growth.\n",
      "3. Minoxidil (Rogaine): This medication is available over-the-counter and can help stimulate hair growth by increasing blood flow to the scalp.\n",
      "4. Anthralin (Psoralen): This medication can be applied to the skin to reduce inflammation and promote hair growth.\n",
      "5. Phototherapy: Exposure to ultraviolet light, either from natural sunlight or a specialized light therapy device, can help stimulate hair growth.\n",
      "6. Wigs or hairpieces: If the hair loss is severe, wearing a wig or hairpiece can provide a natural-looking solution.\n",
      "7. Hair transplantation: This surgical procedure involves transplanting healthy hair follicles from one part of the scalp to another.\n",
      "8. Platelet-rich plasma (PRP) therapy: This treatment involves injecting platelet-rich plasma, which contains growth factors, into the affected area to stimulate hair growth.\n",
      "9. Dietary changes: Eating a balanced diet rich in vitamins and minerals, such as biotin, vitamin D, and iron, can help promote hair growth.\n",
      "10. Reducing stress: High levels of stress have been linked to alopecia areata, so finding ways to manage stress, such as through exercise, meditation, or therapy, may help prevent or treat the condition.\n",
      "Possible causes of sudden patchy hair loss include:\n",
      "1. Autoimmune disorders: In these conditions, the immune system mistakenly attacks healthy cells and tissues, including hair follicles.\n",
      "2. Hormonal imbalances: Changes in hormone levels, such as those that occur during pregnancy or menopause, can cause hair loss.\n",
      "3. Stress: Prolonged stress can lead to inflammation and hair loss.\n",
      "4. Genetics: Inheritance plays a role in many cases of alopecia areata.\n",
      "5. Skin conditions: Certain skin conditions, such as eczema or psoriasis, can cause hair loss.\n",
      "6. Medications: Some medications, such as those used to treat depression, high blood pressure, or cancer, can cause hair loss as a side effect.\n",
      "7. Infections: Fungal infections of the scalp, such as ringworm, can cause patchy hair loss.\n",
      "8. Traction alopecia: This is a type of hair loss that occurs when the hair is pulled tight, such as with tight hairstyles or hair extensions.\n",
      "9. Telogen effluvium: This is a condition in which there is a sudden increase in the number of hair follicles that stop growing and enter the resting phase, leading to excessive hair shedding.\n"
     ]
    }
   ],
   "source": [
    "prompt3=\"\"\"What are the effective treatments or solutions for addressing sudden patchy hair loss, commonly seen as localized bald spots on the scalp?\n",
    "Additionally, explain the possible causes behind it.\n",
    "\"\"\"\n",
    "res=response(prompt3,1500,0.07)\n",
    "print(res)"
   ]
  },
  {
   "cell_type": "markdown",
   "metadata": {
    "id": "obblPF-ZCe6M"
   },
   "source": [
    "**2.Role-based Prompt**"
   ]
  },
  {
   "cell_type": "code",
   "execution_count": 25,
   "metadata": {
    "colab": {
     "base_uri": "https://localhost:8080/"
    },
    "id": "Sh9wDjxuCe6N",
    "outputId": "a79266b7-fb4f-466f-b886-97770c7e040c"
   },
   "outputs": [
    {
     "name": "stderr",
     "output_type": "stream",
     "text": [
      "Llama.generate: prefix-match hit\n"
     ]
    },
    {
     "name": "stdout",
     "output_type": "stream",
     "text": [
      "\n",
      "Sudden patchy hair loss can be a distressing and challenging condition to manage, but there are several effective treatments available. The first step in addressing this issue is understanding its potential causes.\n",
      "\n",
      "Potential Causes:\n",
      "\n",
      "1. Telogen effluvium: This is a common cause of sudden patchy hair loss, where there is an increase in the number of hair follicles that stop growing and enter the resting phase. This can be triggered by physical or emotional stress, hormonal imbalances, or certain medications.\n",
      "2. Alopecia areata: This is an autoimmune condition that causes hair loss in patches. It occurs when the immune system mistakenly attacks healthy hair follicles, leading to hair loss.\n",
      "3. Ringworm infection: This fungal infection can cause patchy hair loss, especially on the scalp.\n",
      "4. Traction alopecia: This is a type of hair loss caused by constant pulling or tension on the hair shaft, often seen in people who wear tight hairstyles such as braids or ponytails.\n",
      "5. Nutritional deficiencies: Deficiencies in essential nutrients like iron, zinc, or biotin can contribute to hair loss.\n",
      "\n",
      "Effective Treatments:\n",
      "\n",
      "1. Medications: Minoxidil (Rogaine) and finasteride (Propecia) are two medications that have been approved by the FDA for treating hair loss. Minoxidil is applied topically to the scalp and can help stimulate hair growth and slow down hair loss. Finasteride is an oral medication that works by blocking dihydrotestosterone (DHT), a hormone that contributes to hair loss.\n",
      "2. Platelet-rich plasma (PRP) therapy: This is a non-surgical treatment that involves injecting platelet-rich plasma into the scalp. PRP contains growth factors that promote hair growth and can be effective in treating patchy hair loss.\n",
      "3. Low-level laser therapy (LLLT): LLLT uses low-level lasers or light-emitting diodes to stimulate hair growth. It is thought that the light energy increases blood flow to the scalp, promoting hair growth.\n",
      "4. Diet and lifestyle changes: Addressing underlying causes such as nutritional deficiencies, stress, and hormonal imbalances can help resolve patchy hair loss. Eating a balanced diet rich in essential nutrients, reducing stress through relaxation techniques, and managing hormonal imbalances can all contribute to hair growth.\n",
      "5. Hair transplantation: This is a surgical procedure that involves moving healthy hair follicles from the back and sides of the scalp to the balding areas. It can be effective in restoring hair growth in patchy hair loss.\n",
      "\n",
      "Related Medical Advice:\n",
      "\n",
      "1. Consult a dermatologist: If you are experiencing sudden patchy hair loss, it is essential to consult a dermatologist to determine the underlying cause and develop an appropriate treatment plan.\n",
      "2. Avoid excessive stress: High stress levels can contribute to hair loss, so finding ways to manage stress through relaxation techniques such as meditation, yoga, or deep breathing exercises can be helpful.\n",
      "3. Use gentle hair care products: Using harsh hair care products can damage the hair and scalp, leading to hair loss. Use gentle shampoos and conditioners that are formulated for your hair type.\n",
      "4. Avoid excessive heat styling: Excessive heat styling can damage the hair and cause hair loss. Use heat protectants and avoid using high heat settings on your hair dryer or flat iron.\n",
      "5. Consider a scalp biopsy: If the cause of patchy hair loss is unclear, a scalp biopsy may be necessary to diagnose the underlying condition.\n",
      "\n",
      "In conclusion, sudden patchy hair loss can be challenging to manage, but there are several effective treatments available. Understanding the potential causes and seeking medical advice from a dermatologist can help determine the best course of treatment. Additionally, making lifestyle changes such as reducing stress, using gentle hair care products, and avoiding excessive heat styling can contribute to hair growth and overall scalp health.\n"
     ]
    }
   ],
   "source": [
    "prompt3=\"\"\"As a dermatologist, provide a detailed response to the following question: What are the effective treatments for sudden patchy hair loss,\n",
    "commonly seen as localized bald spots on the scalp? Also, explain the potential causes of this condition and any related medical advice.\n",
    "\"\"\"\n",
    "res=response(prompt3,1500,0.7,.8)\n",
    "print(res)"
   ]
  },
  {
   "cell_type": "markdown",
   "metadata": {
    "id": "rHQT6u9sCe6N"
   },
   "source": [
    "**3.Instruction prompt**"
   ]
  },
  {
   "cell_type": "code",
   "execution_count": 26,
   "metadata": {
    "colab": {
     "base_uri": "https://localhost:8080/"
    },
    "id": "I086uVqRCe6N",
    "outputId": "f94d0a94-3b58-4448-e80c-858a1e914a2f"
   },
   "outputs": [
    {
     "name": "stderr",
     "output_type": "stream",
     "text": [
      "Llama.generate: prefix-match hit\n"
     ]
    },
    {
     "name": "stdout",
     "output_type": "stream",
     "text": [
      "Sudden patchy hair loss, also known as alopecia areata, is a common condition that can cause localized bald spots on the scalp. While it can be distressing, there are several effective treatments available. In this response, we will discuss possible causes, practical solutions, and medical interventions for sudden patchy hair loss.\n",
      "Possible Causes:\n",
      "Alopecia areata is an autoimmune condition that occurs when the body's immune system mistakenly attacks healthy hair follicles, leading to hair loss. It can be triggered by a variety of factors, including:\n",
      "\n",
      "1. Genetics: A family history of alopecia areata increases the risk of developing the condition.\n",
      "2. Stress: Stressful events, such as childbirth, divorce, or job change, can trigger alopecia areata in susceptible individuals.\n",
      "3. Hormonal changes: Hormonal fluctuations during pregnancy, menopause, or thyroid disorders can contribute to hair loss.\n",
      "4. Skin conditions: Certain skin conditions, such as eczema, psoriasis, or fungal infections, can lead to inflammation and hair loss.\n",
      "5. Medications: Certain medications, including antidepressants, blood thinners, and chemotherapy drugs, can cause hair loss as a side effect.\n",
      "Practical Solutions:\n",
      "While there is no cure for alopecia areata, there are several practical solutions that can help manage the condition and promote hair growth. These include:\n",
      "\n",
      "1. Minoxidil (Rogaine): Over-the-counter topical solutions containing minoxidil can help stimulate hair growth and slow down hair loss.\n",
      "2. Corticosteroid injections: Injecting corticosteroids into the affected area can help suppress the immune system and promote hair growth.\n",
      "3. Topical corticosteroids: Applying topical corticosteroids to the affected area can reduce inflammation and promote hair growth.\n",
      "4. Wigs or hairpieces: Using wigs or hairpieces can help conceal bald spots and boost confidence.\n",
      "5. Hair fibers: Hair fibers can be used to cover bald spots and give the appearance of thicker hair.\n",
      "Medical Interventions:\n",
      "In some cases, medical interventions may be necessary to manage sudden patchy hair loss. These include:\n",
      "\n",
      "1. Immunotherapy: This involves injecting a substance into the affected area to stimulate the immune system and promote hair growth.\n",
      "2. Phototherapy: Exposure to specific wavelengths of light can help reduce inflammation and promote hair growth.\n",
      "3. Chemical peels: Applying chemical solutions to the affected area can help remove damaged skin cells and promote hair growth.\n",
      "4. Platelet-rich plasma (PRP) therapy: Injecting platelet-rich plasma into the affected area can stimulate hair growth by promoting cell regeneration.\n",
      "5. Hair transplantation: This involves transferring healthy hair follicles from one part of the scalp to another to restore hair growth.\n",
      "In conclusion, sudden patchy hair loss, or alopecia areata, is a common condition that can be distressing but is manageable with practical solutions and medical interventions. By identifying the underlying causes and seeking appropriate treatment, individuals can promote hair growth and regain their confidence. It's essential to consult a dermatologist for an accurate diagnosis and personalized treatment plan.\n"
     ]
    }
   ],
   "source": [
    "prompt3=\"\"\"Provide an answer discussing effective treatments for sudden patchy hair loss,\n",
    "commonly seen as localized bald spots on the scalp. Additionally, identify and explain the possible causes of this condition.\n",
    "Ensure the response includes practical solutions, underlying reasons, and medical interventions where applicable.\n",
    "\"\"\"\n",
    "res=response(prompt3,1500,0.7,1)\n",
    "print(res)"
   ]
  },
  {
   "cell_type": "markdown",
   "metadata": {
    "id": "sE_8vLpjCe6N"
   },
   "source": [
    "**4.Multi-number prompts**"
   ]
  },
  {
   "cell_type": "code",
   "execution_count": 27,
   "metadata": {
    "colab": {
     "base_uri": "https://localhost:8080/"
    },
    "id": "jJHvilG-Ce6N",
    "outputId": "82026fec-772c-4f1e-c243-2b24c3eb3209"
   },
   "outputs": [
    {
     "name": "stderr",
     "output_type": "stream",
     "text": [
      "Llama.generate: prefix-match hit\n"
     ]
    },
    {
     "name": "stdout",
     "output_type": "stream",
     "text": [
      "\n",
      "Sudden patchy hair loss, also known as alopecia areata, can be a distressing condition that affects both men and women. While it may not be life-threatening, it can significantly impact one's self-esteem and quality of life. To address this issue effectively, we need to understand its causes, diagnose the condition correctly, and develop an appropriate treatment plan.\n",
      "\n",
      "I. Identify possible causes\n",
      "\n",
      "1. Autoimmune disorders (e.g., alopecia areata, lupus)\n",
      "2. Hormonal imbalances (e.g., thyroid disorders)\n",
      "3. Infections (e.g., fungal, bacterial)\n",
      "4. Skin conditions (e.g., eczema, psoriasis)\n",
      "5. Allergies\n",
      "6. Stress and emotional factors\n",
      "7. Poor diet and nutritional deficiencies\n",
      "8. Genetic predisposition\n",
      "\n",
      "II. Diagnosis methods\n",
      "\n",
      "1. Physical examination and medical history\n",
      "2. Blood tests (e.g., to rule out hormonal imbalances, infections, or autoimmune disorders)\n",
      "3. Skin scraping or biopsy for a definitive diagnosis of alopecia areata\n",
      "4. Imaging studies (e.g., to rule out other skin conditions or diseases)\n",
      "\n",
      "III. Treatment options\n",
      "\n",
      "1. Topical treatments:\n",
      "a. Corticosteroid creams, ointments, or foams to suppress the immune system and promote hair growth\n",
      "b. Minoxidil solution to stimulate hair growth and slow down hair loss\n",
      "c. Antifungal creams or shampoos for fungal infections\n",
      "2. Medications:\n",
      "a. Oral corticosteroids for short-term use to suppress the immune system\n",
      "b. Immunomodulators to reduce inflammation and promote hair growth\n",
      "c. Retinoids to stimulate hair growth and slow down hair loss\n",
      "3. Lifestyle changes:\n",
      "a. Reduce stress through relaxation techniques, exercise, or therapy\n",
      "b. Maintain a balanced diet rich in vitamins and minerals, especially those essential for hair growth (e.g., biotin, iron)\n",
      "c. Avoid excessive heat styling or harsh chemical treatments that can damage the hair and scalp\n",
      "4. Alternative therapies:\n",
      "a. Acupuncture to reduce inflammation and promote hair growth\n",
      "b. Herbal supplements (e.g., saw palmetto, fish oil) with alleged hair-promoting properties\n",
      "\n",
      "IV. Preventive measures\n",
      "\n",
      "1. Practice good scalp hygiene (e.g., regular shampooing, avoid sharing personal items)\n",
      "2. Protect the skin and hair from excessive sun exposure\n",
      "3. Manage stress through healthy habits and self-care techniques\n",
      "4. Maintain a balanced diet and address any underlying nutritional deficiencies\n",
      "5. Avoid harsh chemical treatments or excessive heat styling that can damage the hair and scalp\n",
      "\n",
      "V. When to consult a specialist\n",
      "\n",
      "1. The condition fails to respond to self-care measures and home remedies.\n",
      "2. The patchy hair loss is extensive or widespread.\n",
      "3. There are accompanying symptoms such as itching, pain, or redness.\n",
      "4. The patient has a history of allergies or autoimmune disorders.\n",
      "5. There are signs of infection or inflammation (e.g., pus, redness, swelling).\n"
     ]
    }
   ],
   "source": [
    "prompt3=\"\"\"1. Describe step-by-step how to address sudden patchy hair loss, commonly seen as localized bald spots on the scalp.\n",
    "2. Begin with the identification of possible causes, followed by diagnosis methods.\n",
    "3. Then discuss the treatment options, including topical treatments, medications, and lifestyle changes.\n",
    "4. Conclude with preventive measures and when to consult a specialist.\n",
    "\"\"\"\n",
    "res=response(prompt3,2000,0.9,1)\n",
    "print(res)"
   ]
  },
  {
   "cell_type": "markdown",
   "metadata": {
    "id": "4UDZyiTfCe6N"
   },
   "source": [
    "**5. Categorize into major steps**"
   ]
  },
  {
   "cell_type": "code",
   "execution_count": 28,
   "metadata": {
    "colab": {
     "base_uri": "https://localhost:8080/"
    },
    "id": "dB21xbFXCe6N",
    "outputId": "7dab2242-f9b9-4b25-98c1-5cdde290963b"
   },
   "outputs": [
    {
     "name": "stderr",
     "output_type": "stream",
     "text": [
      "Llama.generate: prefix-match hit\n"
     ]
    },
    {
     "name": "stdout",
     "output_type": "stream",
     "text": [
      "\n",
      "Sudden patchy hair loss, commonly seen as localized bald spots on the scalp, can be a distressing condition that affects both men and women. To effectively address this issue, it is essential to categorize the effective treatments and possible causes into 5 major points:\n",
      "\n",
      "1. Identification of symptoms and causes:\n",
      "\t* Patchy hair loss on the scalp, often with a distinct border.\n",
      "\t* Hair thinning or balding in specific areas.\n",
      "\t* Itching, redness, or inflammation on the affected skin.\n",
      "\t* Family history of similar conditions.\n",
      "\t* Recent stress, illness, or changes in diet/lifestyle.\n",
      "2. Diagnosis and medical evaluation:\n",
      "\t* Physical examination and medical history review.\n",
      "\t* Blood tests to rule out underlying medical conditions (e.g., thyroid disorders, autoimmune diseases).\n",
      "\t* Skin scrapings or biopsies for microscopic examination.\n",
      "3. Treatment options (topical and systemic):\n",
      "\t* Topical treatments:\n",
      "\t\t+ Minoxidil (Rogaine) solution or foam to stimulate hair growth and slow down hair loss.\n",
      "\t\t+ Corticosteroid creams or ointments to reduce inflammation.\n",
      "\t\t+ Antifungal shampoos or creams for fungal infections.\n",
      "\t* Systemic treatments:\n",
      "\t\t+ Finasteride (Propecia) tablets to slow down hair loss and promote regrowth.\n",
      "\t\t+ Spironolactone (Aldactone) tablets to block the production of androgens, which can contribute to hair loss.\n",
      "4. Preventive measures and lifestyle recommendations:\n",
      "\t* Maintain a balanced diet rich in vitamins and minerals essential for healthy hair growth.\n",
      "\t* Reduce stress through relaxation techniques or therapies.\n",
      "\t* Avoid excessive heat styling, tight hairstyles, or harsh chemical treatments that can damage the hair and scalp.\n",
      "\t* Use gentle, sulfate-free shampoos and conditioners.\n",
      "5. When to seek specialist care and advanced treatments:\n",
      "\t* If symptoms persist or worsen despite self-care measures.\n",
      "\t* If there is no improvement after 6-12 months of treatment.\n",
      "\t* If the hair loss is extensive or accompanied by other signs of systemic illness (e.g., fever, weight loss).\n",
      "\n",
      "In conclusion, sudden patchy hair loss can be a complex condition with various underlying causes and effective treatments. By understanding the symptoms, seeking medical evaluation, and adopting preventive measures, individuals can effectively address this issue and promote healthy hair growth. If symptoms persist or worsen, specialist care and advanced treatments may be necessary to achieve optimal results.\n"
     ]
    }
   ],
   "source": [
    "prompt3=\"\"\"Categorize the effective treatments and possible causes of sudden patchy hair loss, commonly seen as localized bald spots on the scalp, into 5 major points. Cover the following aspects:\n",
    "1. Identification of symptoms and causes.\n",
    "2. Diagnosis and medical evaluation.\n",
    "3. Treatment options (topical and systemic).\n",
    "4. Preventive measures and lifestyle recommendations.\n",
    "5. When to seek specialist care and advanced treatments.\n",
    "Provide a concise and structured response.\n",
    "\"\"\"\n",
    "res=response(prompt3,1000,.3,.7)\n",
    "print(res)"
   ]
  },
  {
   "cell_type": "markdown",
   "metadata": {
    "id": "FnCypeAD4m6b"
   },
   "source": [
    "### Observations:\n",
    "- **Dynamic Sentence and Tone Adjustment**:\n",
    "  - The starting points and structure of each output vary based on the prompt.\n",
    "  - For instance, in a role-playing prompt, the LLM adapts its wording and tone accordingly.\n",
    "\n",
    "- **Prompt Understanding**:\n",
    "  - The LLM demonstrates proper comprehension of the prompts.\n",
    "  - Outputs are aligned with the context and requirements of the prompts.\n",
    "\n",
    "- **Possibility of Hallucination**:\n",
    "  - Despite the outputs being contextually relevant, there is a possibility of hallucination.\n",
    "  - Some information provided may be fabricated or inaccurate, necessitating validation.\n"
   ]
  },
  {
   "cell_type": "markdown",
   "metadata": {
    "id": "AA45zwyUOefg"
   },
   "source": [
    "### Query 4:  What treatments are recommended for a person who has sustained a physical injury to brain tissue, resulting in temporary or permanent impairment of brain function?"
   ]
  },
  {
   "cell_type": "markdown",
   "metadata": {
    "id": "Lda-Nx1KCfwX"
   },
   "source": [
    "**1. Direct Prompting**"
   ]
  },
  {
   "cell_type": "code",
   "execution_count": 29,
   "metadata": {
    "colab": {
     "base_uri": "https://localhost:8080/"
    },
    "id": "-c95yRyTCfwX",
    "outputId": "1038a439-b357-405e-d3b4-fa6ca6c89aed"
   },
   "outputs": [
    {
     "name": "stderr",
     "output_type": "stream",
     "text": [
      "Llama.generate: prefix-match hit\n"
     ]
    },
    {
     "name": "stdout",
     "output_type": "stream",
     "text": [
      "\n",
      "There are several treatments that may be recommended for a person who has sustained a physical injury to brain tissue, resulting in temporary or permanent impairment of brain function. The specific treatment plan will depend on the location and severity of the injury, as well as the individual's overall health and medical history. Some common treatments for brain injuries include:\n",
      "\n",
      "1. Medications: To manage symptoms such as pain, inflammation, and anxiety.\n",
      "2. Rehabilitation therapy: To help regain lost function and improve cognitive, physical, and emotional abilities. This may include physical therapy, occupational therapy, speech therapy, and cognitive therapy.\n",
      "3. Surgery: To repair damaged brain tissue or relieve pressure on the brain.\n",
      "4. Neurostimulation therapies: Such as transcranial magnetic stimulation (TMS) or transcranial direct current stimulation (tDCS), which can help improve cognitive function and reduce symptoms of depression.\n",
      "5. Cognitive rehabilitation: To help the individual learn new strategies and techniques to compensate for any lost cognitive abilities.\n",
      "6. Behavioral interventions: Such as cognitive-behavioral therapy (CBT) or behavioral activation, which can help improve mood and reduce symptoms of depression and anxiety.\n",
      "7. Lifestyle changes: Such as regular exercise, a healthy diet, and stress management techniques, which can help improve overall health and well-being.\n",
      "8. Assistive technology: Such as wheelchairs, walkers, or communication devices, which can help the individual with daily activities and communication.\n",
      "9. Home modifications: Such as installing handrails or widening doorways, which can help the individual navigate their environment more safely and easily.\n",
      "10. Support groups: Which can provide a sense of community and support for the individual and their family members.\n",
      "\n",
      "It's important to note that the most effective treatment plan for a brain injury will be highly individualized and may involve a combination of these treatments. It's important to work with a healthcare team to develop a personalized treatment plan that addresses the individual's specific needs and goals.\n"
     ]
    }
   ],
   "source": [
    "prompt4=\"What treatments are recommended for a person who has sustained a physical injury to brain tissue, resulting in temporary or permanent impairment of brain function?\"\n",
    "res=response(prompt4,1024,0.07)\n",
    "print(res)"
   ]
  },
  {
   "cell_type": "markdown",
   "metadata": {
    "id": "ky0b2vlaCfwX"
   },
   "source": [
    "**2.Role-based Prompt**"
   ]
  },
  {
   "cell_type": "code",
   "execution_count": 30,
   "metadata": {
    "colab": {
     "base_uri": "https://localhost:8080/"
    },
    "id": "DlKT8BejCfwX",
    "outputId": "6c928e01-cc57-4d93-f18d-fef6f59d61d3"
   },
   "outputs": [
    {
     "name": "stderr",
     "output_type": "stream",
     "text": [
      "Llama.generate: prefix-match hit\n"
     ]
    },
    {
     "name": "stdout",
     "output_type": "stream",
     "text": [
      "\n",
      "\n",
      "As a neurologist, the treatment plan for a patient with a brain tissue injury causing temporary or permanent impairment of brain function would depend on several factors, including the severity and location of the injury, the age and overall health of the patient, and the specific symptoms and deficits present. However, here are some common treatments that may be recommended:\n",
      "\n",
      "1. Supportive care: This includes providing oxygen, fluids, and nutrition to support the patient's general health and well-being.\n",
      "2. Medications: Various medications may be used to manage symptoms such as pain, seizures, or inflammation. These may include analgesics, anticonvulsants, and anti-inflammatory drugs.\n",
      "3. Rehabilitation therapy: This includes physical, occupational, and speech therapy to help the patient regain lost function and improve their quality of life. The goal of rehabilitation is to help the patient achieve independence in daily activities and improve their cognitive, emotional, and behavioral functions.\n",
      "4. Surgery: In some cases, surgery may be necessary to relieve pressure on the brain or repair damaged tissue. This may involve procedures such as craniotomy, craniectomy, or stereotactic surgery.\n",
      "5. Stem cell therapy: This is a promising area of research that involves using stem cells to repair damaged brain tissue. While still experimental, stem cell therapy has shown promise in improving functional outcomes in patients with brain injuries.\n",
      "6. Neuroplasticity-based interventions: These interventions aim to promote the brain's ability to adapt and compensate for lost function. This may include cognitive training, non-invasive brain stimulation techniques such as transcranial magnetic stimulation (TMS) or transcranial direct current stimulation (tDCS), and other innovative approaches.\n",
      "7. Advanced imaging: Techniques such as functional MRI (fMRI), diffusion tensor imaging (DTI), and magnetoencephalography (MEG) can provide valuable insights into the location and extent of brain damage, which can help guide treatment decisions.\n",
      "8. Neurocritical care: This involves close monitoring and management of the patient's vital signs, particularly in the acute phase of injury.\n",
      "9. Alternative therapies: Some patients may benefit from alternative therapies such as acupuncture, massage, or music therapy to manage symptoms and improve their quality of life.\n",
      "\n",
      "It is important to note that each patient's treatment plan will be unique and may involve a combination of these interventions. The goal of treatment is to maximize functional recovery, improve quality of life, and minimize the impact of the injury on the patient's daily activities and well-being.\n"
     ]
    }
   ],
   "source": [
    "prompt4=\"As a neurologist, what treatments would you recommend for a person with a brain tissue injury causing temporary or permanent impairment of brain function?\"\n",
    "res=response(prompt4,1500,0.7,.8)\n",
    "print(res)"
   ]
  },
  {
   "cell_type": "markdown",
   "metadata": {
    "id": "HxjfZ5wkCfwY"
   },
   "source": [
    "**3.Instruction prompt**"
   ]
  },
  {
   "cell_type": "code",
   "execution_count": 31,
   "metadata": {
    "colab": {
     "base_uri": "https://localhost:8080/"
    },
    "id": "FQEvA5jKCfwY",
    "outputId": "1a0bc463-5227-4b46-c452-efc3fba6d364"
   },
   "outputs": [
    {
     "name": "stderr",
     "output_type": "stream",
     "text": [
      "Llama.generate: prefix-match hit\n"
     ]
    },
    {
     "name": "stdout",
     "output_type": "stream",
     "text": [
      "Brain tissue injuries can result in a range of short-term and long-term consequences, including cognitive, emotional, and behavioral changes. Treatment approaches for managing these injuries and associated impairments typically involve a multidisciplinary team of healthcare professionals, including neurologists, rehabilitation specialists, and mental health providers. Here are some common treatment recommendations for managing physical brain tissue injuries and their associated functional impairments:\n",
      "\n",
      "1. Medications: Various medications may be prescribed to manage the symptoms of brain tissue injuries, such as pain relievers, anti-anxiety drugs, and antidepressants. These medications can help alleviate discomfort, reduce stress, and improve mood, which can facilitate the recovery process.\n",
      "2. Rehabilitation therapies: Physical, occupational, and speech therapy can help individuals regain lost functions and skills, improve cognitive abilities, and enhance overall quality of life. These therapies may include exercises to strengthen affected muscles, balance training, and activities to improve memory, attention, and processing speed.\n",
      "3. Cognitive rehabilitation: This type of therapy focuses on improving cognitive functions such as memory, attention, problem-solving, and decision-making. Cognitive rehabilitation can help individuals with brain tissue injuries manage daily activities, improve communication skills, and enhance social interactions.\n",
      "4. Behavioral interventions: Behavioral therapies, such as cognitive-behavioral therapy (CBT), can help individuals cope with the emotional and behavioral changes that often result from brain tissue injuries. CBT can assist in managing symptoms of depression, anxiety, and irritability, among others.\n",
      "5. Lifestyle modifications: Making healthy lifestyle changes, such as regular exercise, a balanced diet, and adequate sleep, can support the recovery process. These modifications can improve overall physical and mental well-being, enhancing the effectiveness of other treatments.\n",
      "6. Rest and relaxation: Allowing the brain time to rest and recover is crucial after a brain tissue injury. This may involve taking breaks from activities that exacerbate symptoms, engaging in relaxation techniques like meditation or deep breathing, and maintaining a consistent sleep schedule.\n",
      "7. Neuropsychological rehabilitation: This type of therapy focuses on improving cognitive and emotional functioning, problem-solving, and social skills. Neuropsychological rehabilitation can help individuals with brain tissue injuries regain independence in daily activities and improve overall quality of life.\n",
      "8. Advanced technologies: Emerging technologies like transcranial magnetic stimulation (TMS) and functional near-infrared spectroscopy (fNIRS) may be used to enhance recovery from brain tissue injuries. These non-invasive techniques can promote neurorecovery by stimulating specific brain areas and improving blood flow.\n",
      "9. Brain training: Engaging in cognitive training programs, such as computer-based exercises or puzzles, can help improve cognitive functions and enhance overall brain health. These interventions may be particularly beneficial for individuals with permanent functional impairments.\n",
      "10. Support groups: Joining support groups for individuals with brain injuries can provide a sense of community and understanding, helping individuals cope with the emotional challenges associated with these conditions. Support groups can also offer practical advice and resources for managing daily life.\n",
      "\n",
      "It's important to note that each individual's treatment plan will be unique and may involve a combination of these interventions. The severity and location of the brain tissue injury, as well as the person's age, overall health, and other factors, will influence the specific treatments recommended. A comprehensive assessment by a multidisciplinary team of healthcare professionals is essential to determine the most appropriate treatment approach for each individual.\n"
     ]
    }
   ],
   "source": [
    "prompt4=\"\"\"List and explain the treatments recommended for managing physical brain tissue injuries and associated functional impairments, covering both temporary and permanent effects.\n",
    "\"\"\"\n",
    "res=response(prompt4,1500,0.7,1)\n",
    "print(res)"
   ]
  },
  {
   "cell_type": "markdown",
   "metadata": {
    "id": "HQtn0pCxCfwY"
   },
   "source": [
    "**4.Multi-number prompts**"
   ]
  },
  {
   "cell_type": "code",
   "execution_count": 32,
   "metadata": {
    "colab": {
     "base_uri": "https://localhost:8080/"
    },
    "id": "t4XjU3T5CfwY",
    "outputId": "b740f89c-af18-41ff-c748-b578d33a890a"
   },
   "outputs": [
    {
     "name": "stderr",
     "output_type": "stream",
     "text": [
      "Llama.generate: prefix-match hit\n"
     ]
    },
    {
     "name": "stdout",
     "output_type": "stream",
     "text": [
      "Sustaining a brain tissue injury can be a life-altering event that requires prompt and appropriate medical attention. The recommended treatments for such an injury depend on the severity of the injury, the age of the patient, and the specific effects of the injury on the brain. Here is a step-by-step guide to the recommended treatments for a person who has sustained a brain tissue injury:\n",
      "\n",
      "Step 1: Identify the Severity of the Injury and Immediate Interventions\n",
      "The first step in treating a brain tissue injury is to determine the severity of the injury. This is typically done using imaging tests such as computerized tomography (CT) or magnetic resonance imaging (MRI). The severity of the injury will help guide the choice of treatments and interventions.\n",
      "\n",
      "For mild injuries, immediate interventions may include:\n",
      "\n",
      "* Rest and avoidance of strenuous activities\n",
      "* Over-the-counter pain medications to manage headaches or other symptoms\n",
      "* Monitoring for any changes in mental status or neurological function\n",
      "\n",
      "For moderate to severe injuries, immediate interventions may include:\n",
      "\n",
      "* Surgery to relieve pressure on the brain or remove a blood clot\n",
      "* Medications to manage swelling, bleeding, or other complications\n",
      "* Mechanical ventilation if the patient is unable to breathe on their own\n",
      "\n",
      "Step 2: Discuss Acute-Phase Treatments (Surgery or Medication) to Stabilize the Patient\n",
      "The acute phase of treatment for a brain tissue injury typically involves surgery and medications to stabilize the patient and manage any complications. Surgical interventions may include:\n",
      "\n",
      "* Decompressive craniectomy to relieve pressure on the brain\n",
      "* Craniotomy to remove a blood clot or scar tissue\n",
      "* Brain stereotactic surgery to relieve pressure on specific areas of the brain\n",
      "\n",
      "Medications used during the acute phase may include:\n",
      "\n",
      "* Analgesics to manage pain\n",
      "* Anti-seizure medications to prevent seizures\n",
      "* Corticosteroids to reduce swelling in the brain\n",
      "\n",
      "Step 3: Cover Rehabilitation Therapies (Physical, Occupational, and Cognitive Therapy) for Recovery\n",
      "Rehabilitation therapies are a critical component of recovery after a brain tissue injury. These therapies can help the patient regain lost function and improve their quality of life. Common rehabilitation therapies include:\n",
      "\n",
      "* Physical therapy to improve mobility, balance, and coordination\n",
      "* Occupational therapy to improve daily living skills and activities\n",
      "* Cognitive therapy to improve memory, attention, and problem-solving abilities\n",
      "\n",
      "The timing and intensity of rehabilitation therapies will depend on the severity of the injury and the patient's response to treatment. It is important to work with a rehabilitation team that specializes in brain injuries to develop an individualized recovery plan.\n",
      "\n",
      "Step 4: Explain Lifestyle Modifications and Supportive Care to Enhance Recovery Outcomes\n",
      "In addition to medical treatments, lifestyle modifications and supportive care can also enhance recovery outcomes after a brain tissue injury. These may include:\n",
      "\n",
      "* Restricting activities that exacerbate the injury\n",
      "* Managing stress and anxiety through relaxation techniques or therapy\n",
      "* Improving sleep quality and duration\n",
      "* Adjusting diet and nutrition to support recovery\n",
      "* Engaging in regular exercise and physical activity\n",
      "\n",
      "Step 5: Strategies to Manage Long-Term or Permanent Impairments and Improve Quality of Life\n",
      "For patients who experience long-term or permanent impairments after a brain tissue injury, there are several strategies that can help improve quality of life. These may include:\n",
      "\n",
      "* Adaptive equipment such as wheelchairs or walkers to assist with mobility\n",
      "* Home modifications to enhance accessibility and safety\n",
      "* Assistive technology devices such as computers or smartphones to aid communication and daily living activities\n",
      "* Cognitive rehabilitation therapy to improve memory, attention, and problem-solving abilities\n",
      "* Support groups for the patient and their family members to connect with others who have experienced similar injuries.\n",
      "\n",
      "In conclusion, the recommended treatments for a person who has sustained a brain tissue injury depend on the severity of the injury and the specific effects of the injury on the brain. A comprehensive treatment plan should include acute-phase interventions to stabilize the patient, rehabilitation therapies to promote recovery, lifestyle modifications and supportive care to enhance recovery outcomes, and strategies to manage long-term or permanent impairments. With appropriate medical attention and support, many people are able to recover from brain tissue injuries and lead fulfilling lives.\n"
     ]
    }
   ],
   "source": [
    "prompt4=\"\"\"Explain the recommended treatments for a person who has sustained a brain tissue injury step-by-step:\n",
    "1. Start by identifying the severity of the injury and immediate interventions.\n",
    "2. Discuss acute-phase treatments, such as surgery or medication, to stabilize the patient.\n",
    "3. Cover rehabilitation therapies, such as physical, occupational, and cognitive therapy, for recovery.\n",
    "4. Explain lifestyle modifications and supportive care to enhance recovery outcomes.\n",
    "5. End with strategies to manage long-term or permanent impairments and improve quality of life.\n",
    "\n",
    "\"\"\"\n",
    "res=response(prompt4,2000,0.9,1)\n",
    "print(res)"
   ]
  },
  {
   "cell_type": "markdown",
   "metadata": {
    "id": "_yMn_ueZCfwY"
   },
   "source": [
    "**5. Categorize into major steps**"
   ]
  },
  {
   "cell_type": "code",
   "execution_count": 33,
   "metadata": {
    "colab": {
     "base_uri": "https://localhost:8080/"
    },
    "id": "1SEOcqEUCfwY",
    "outputId": "dfed56f9-abd0-4002-e187-9869c153149b"
   },
   "outputs": [
    {
     "name": "stderr",
     "output_type": "stream",
     "text": [
      "Llama.generate: prefix-match hit\n"
     ]
    },
    {
     "name": "stdout",
     "output_type": "stream",
     "text": [
      "\n",
      "A person with a brain tissue injury requires a comprehensive treatment plan that addresses the various aspects of their condition. The following are five major points to categorize the recommended treatments:\n",
      "\n",
      "1. Emergency Medical Interventions:\n",
      "\t* Surgery to relieve pressure, remove blood clots, or repair damaged tissue\n",
      "\t* Medications to manage symptoms such as seizures, fever, and pain\n",
      "2. Rehabilitation Therapies:\n",
      "\t* Cognitive therapy to improve memory, attention, and problem-solving skills\n",
      "\t* Physical therapy to regain strength, balance, and mobility\n",
      "\t* Occupational therapy to relearn daily living skills and activities\n",
      "3. Supportive Care and Lifestyle Modifications:\n",
      "\t* Monitoring of vital signs and fluid intake\n",
      "\t* Nutritional support to ensure adequate calorie and nutrient intake\n",
      "\t* Rest and relaxation techniques to manage fatigue and stress\n",
      "4. Psychological Support and Counseling:\n",
      "\t* Individual and group therapy to cope with emotional challenges and improve mental health\n",
      "\t* Family counseling to support caregivers and loved ones\n",
      "5. Long-term Care Strategies for Managing Permanent Impairments:\n",
      "\t* Assistive technology and adaptive devices to enhance independence\n",
      "\t* Home modifications to improve accessibility and safety\n",
      "\t* Ongoing rehabilitation and therapy to maintain functional abilities and slow disease progression.\n",
      "\n",
      "By addressing these five major points, a person with a brain tissue injury can receive comprehensive care that addresses their physical, emotional, and social needs, helping them to recover and adapt to their condition.\n"
     ]
    }
   ],
   "source": [
    "prompt4=\"\"\"Categorize the recommended treatments for a person with a brain tissue injury into 5 major points. Cover the following aspects:\n",
    "1. Emergency medical interventions (e.g., surgery, medications).\n",
    "2. Rehabilitation therapies (e.g., cognitive, physical, occupational).\n",
    "3. Supportive care and lifestyle modifications.\n",
    "4. Psychological support and counseling.\n",
    "5. Long-term care strategies for managing permanent impairments.\n",
    "\n",
    "Provide a concise and structured explanation.\n",
    "\"\"\"\n",
    "res=response(prompt4,1000,.3,.7)\n",
    "print(res)"
   ]
  },
  {
   "cell_type": "markdown",
   "metadata": {
    "id": "poz9k2jG4sPG"
   },
   "source": [
    "### Observations:\n",
    "- **Dynamic Sentence and Tone Adjustment**:\n",
    "  - The starting points and structure of each output vary based on the prompt.\n",
    "  - For instance, in a role-playing prompt, the LLM adapts its wording and tone accordingly.\n",
    "\n",
    "- **Prompt Understanding**:\n",
    "  - The LLM demonstrates proper comprehension of the prompts.\n",
    "  - Outputs are aligned with the context and requirements of the prompts.\n",
    "\n",
    "- **Possibility of Hallucination**:\n",
    "  - Despite the outputs being contextually relevant, there is a possibility of hallucination.\n",
    "  - Some information provided may be fabricated or inaccurate, necessitating validation.\n"
   ]
  },
  {
   "cell_type": "markdown",
   "metadata": {
    "id": "TYXxiSuBOefg"
   },
   "source": [
    "### Query 5: What are the necessary precautions and treatment steps for a person who has fractured their leg during a hiking trip, and what should be considered for their care and recovery?"
   ]
  },
  {
   "cell_type": "markdown",
   "metadata": {
    "id": "Rn2pY4yzCg34"
   },
   "source": [
    "**1. Direct Prompting**"
   ]
  },
  {
   "cell_type": "code",
   "execution_count": 34,
   "metadata": {
    "colab": {
     "base_uri": "https://localhost:8080/"
    },
    "id": "qwl3HrgvCg34",
    "outputId": "fed3f935-6236-4ba0-fbca-ebfbcf6189a1"
   },
   "outputs": [
    {
     "name": "stderr",
     "output_type": "stream",
     "text": [
      "Llama.generate: prefix-match hit\n"
     ]
    },
    {
     "name": "stdout",
     "output_type": "stream",
     "text": [
      "\n",
      "A fracture of the leg is a serious injury that requires prompt medical attention. The following are some necessary precautions and treatment steps for a person who has fractured their leg during a hiking trip:\n",
      "\n",
      "1. Stop activity: If you suspect that you or someone else has fractured their leg, stop all physical activity immediately to prevent further injury.\n",
      "2. Seek medical attention: It is essential to seek medical attention as soon as possible, especially if the fracture is displaced or if there are any signs of nerve or blood vessel damage. A healthcare professional will assess the severity of the fracture and provide appropriate treatment.\n",
      "3. Immobilize the leg: To prevent further injury and promote healing, it is crucial to immobilize the affected leg using a splint or cast. This will help keep the bones in place and reduce pain.\n",
      "4. Manage pain: Pain management is essential to ensure that the patient can tolerate the immobilization and undergo any necessary treatment. Medication such as analgesics or nonsteroidal anti-inflammatory drugs (NSAIDs) may be prescribed to manage pain.\n",
      "5. Monitor for complications: It is essential to monitor the patient for any signs of complications, such as infection, nerve damage, or blood vessel damage. If any of these complications occur, prompt medical attention is necessary.\n",
      "6. Follow-up care: After the initial treatment, it is crucial to follow up with a healthcare professional to ensure that the fracture is healing properly and to address any concerns or complications that may arise.\n",
      "7. Rehabilitation: Once the fracture has healed, rehabilitation is essential to regain strength, flexibility, and range of motion in the affected leg. This may involve physical therapy and exercises to help the patient recover fully.\n",
      "8. Prevention: To prevent future fractures, it is important to take precautions when hiking, such as wearing appropriate footwear and protective gear, staying on designated trails, and being aware of your surroundings.\n",
      "\n",
      "In addition to these medical steps, there are also some general considerations for the care and recovery of a person who has fractured their leg during a hiking trip:\n",
      "\n",
      "1. Rest: It is essential to rest the affected leg as much as possible to allow it to heal properly. This may involve taking a break from hiking or other physical activities for several weeks.\n",
      "2. Elevation: Elevating the affected leg above the level of the heart can help reduce swelling and promote healing.\n",
      "3. Ice: Applying ice to the affected area can help reduce pain and swelling.\n",
      "4. Compression: Using a compression bandage or wrap can help reduce swelling and immobilize the affected leg.\n",
      "5. Elevation: Elevating the affected leg above the level of the heart can help reduce swelling and promote healing.\n",
      "6. Hydration: It is essential to stay hydrated by drinking plenty of water to help the body recover from the injury.\n",
      "7. Nutrition: A balanced diet that includes essential nutrients such as calcium and vitamin D is important for bone health and healing.\n",
      "8. Support: It is important to have a support system in place, such as family and friends, to help with daily tasks and provide emotional support during the recovery process.\n",
      "\n",
      "Overall, prompt medical attention and proper care are essential for a person who has fractured their leg during a hiking trip. By following these necessary precautions and treatment steps, the patient can recover fully and return to their normal activities as soon as possible.\n"
     ]
    }
   ],
   "source": [
    "prompt5=\"\"\"What are the necessary precautions and treatment steps for a person who has fractured their leg during a hiking trip,\n",
    "and what should be considered for their care and recovery?\n",
    "\"\"\"\n",
    "res=response(prompt5,1024,0.07)\n",
    "print(res)"
   ]
  },
  {
   "cell_type": "markdown",
   "metadata": {
    "id": "-gNjSZSGCg35"
   },
   "source": [
    "**2.Role-based Prompt**"
   ]
  },
  {
   "cell_type": "code",
   "execution_count": 35,
   "metadata": {
    "colab": {
     "base_uri": "https://localhost:8080/"
    },
    "id": "TmxweMvpCg35",
    "outputId": "e886aba5-8a6c-4ea7-9285-f5015b9c14f5"
   },
   "outputs": [
    {
     "name": "stderr",
     "output_type": "stream",
     "text": [
      "Llama.generate: prefix-match hit\n"
     ]
    },
    {
     "name": "stdout",
     "output_type": "stream",
     "text": [
      "\n",
      "As an experienced emergency medical professional, I understand the importance of prompt and appropriate care when dealing with injuries sustained during outdoor activities like hiking. A fractured leg can be a serious injury that requires careful assessment, immobilization, and timely intervention to prevent further complications. Here are the necessary precautions and treatment steps for someone who has fractured their leg during a hiking trip, focusing on both immediate and long-term care:\n",
      "\n",
      "I. Immediate Care (Within the First 24 Hours)\n",
      "\n",
      "1. Stabilize the patient: Keep the patient warm, calm, and still to prevent further injury or shock.\n",
      "2. Assess airway, breathing, and circulation (ABCs): Check for any signs of respiratory distress or cardiac arrest.\n",
      "3. Immobilize the affected limb: Use a splint or brace to immobilize the fractured leg and prevent further movement.\n",
      "4. Control bleeding: Apply direct pressure to any wounds to control bleeding.\n",
      "5. Pain management: Administer pain medication as needed to alleviate discomfort.\n",
      "6. Monitor vital signs: Check the patient's pulse, blood pressure, respiratory rate, and oxygen saturation regularly.\n",
      "7. Communicate with emergency services: Call for medical evacuation or transport the patient to a nearby hospital if necessary.\n",
      "\n",
      "II. Long-term Care (After the First 24 Hours)\n",
      "\n",
      "1. Follow-up imaging: Obtain X-rays or other imaging studies to confirm the fracture and assess the extent of the injury.\n",
      "2. Fracture reduction: If the fracture is displaced, reduce the fracture under sterile conditions to restore proper alignment.\n",
      "3. Immobilization: Keep the affected limb immobilized with a cast or brace for several weeks to allow the bone to heal properly.\n",
      "4. Pain management: Continue pain medication as needed to manage discomfort during the healing process.\n",
      "5. Monitoring and follow-up: Schedule regular check-ups with an orthopedic specialist to monitor the patient's progress and address any complications or concerns.\n",
      "6. Physical therapy: Once the fracture has healed, initiate a rehabilitation program to regain strength, flexibility, and range of motion in the affected limb.\n",
      "7. Prevention of complications: Monitor for signs of infection, nerve damage, or other complications and address them promptly if they arise.\n",
      "\n",
      "In addition to these immediate and long-term care steps, it is essential to ensure that the patient understands the severity of their injury, the importance of proper healing, and any necessary precautions to avoid further harm or complications. As an emergency medical expert, I would emphasize the need for prompt and appropriate care, as well as ongoing monitoring and follow-up to ensure the best possible outcome for the patient.\n"
     ]
    }
   ],
   "source": [
    "prompt5=\"\"\"As an emergency medical expert, outline the necessary precautions and treatment steps for someone who has fractured their leg during a hiking trip,\n",
    "focusing on both immediate and long-term care.\n",
    "\"\"\"\n",
    "res=response(prompt5,1500,0.7,.8)\n",
    "print(res)"
   ]
  },
  {
   "cell_type": "markdown",
   "metadata": {
    "id": "6u1WsXSHCg35"
   },
   "source": [
    "**3.Instruction prompt**"
   ]
  },
  {
   "cell_type": "code",
   "execution_count": 36,
   "metadata": {
    "colab": {
     "base_uri": "https://localhost:8080/"
    },
    "id": "BaxSxb4fCg35",
    "outputId": "9c6c3782-2d0f-43c5-cbac-9b4a69f2a521"
   },
   "outputs": [
    {
     "name": "stderr",
     "output_type": "stream",
     "text": [
      "Llama.generate: prefix-match hit\n"
     ]
    },
    {
     "name": "stdout",
     "output_type": "stream",
     "text": [
      "\n",
      "Hiking is an excellent way to explore nature and maintain physical fitness, but it also carries inherent risks like injuries. One of the most common injuries hikers may encounter is a leg fracture, which can be debilitating and potentially dangerous if not managed promptly and properly. In this article, we will list the precautions and treatment steps for managing a leg fracture during a hiking trip, covering immediate actions, medical treatment, and recovery considerations.\n",
      "Precautions to prevent leg fractures while hiking:\n",
      "1. Wear appropriate footwear: Choose sturdy, waterproof hiking boots with good tread and ankle support to reduce the risk of twisting or rolling an ankle.\n",
      "2. Check the weather forecast: Avoid hiking in extreme weather conditions like heavy rain, thunderstorms, or snow, as these can increase the risk of slipping and falling.\n",
      "3. Bring a first-aid kit: Pack a basic first-aid kit with essentials like bandages, antiseptic wipes, pain relievers, and any medications you may need.\n",
      "4. Know your limits: Be aware of your physical capabilities and choose trails that match your fitness level to avoid overexertion or fatigue.\n",
      "5. Use trekking poles: Trail poles can help improve balance and stability on uneven terrain, reducing the risk of falls.\n",
      "6. Stay hydrated: Drink plenty of water throughout your hike to prevent dehydration and maintain energy levels.\n",
      "7. Watch for hazards: Be mindful of potential hazards like rocky terrain, loose gravel, and wildlife habitats.\n",
      "8. Bring a map and compass: Carry a detailed trail map and compass to help you navigate, especially in unfamiliar territory.\n",
      "9. Tell someone your itinerary: Leave a copy of your hiking plan with a responsible person, including the route, expected return time, and any emergency contact information.\n",
      "10. Know basic first aid: Familiarize yourself with basic first-aid techniques, such as splinting and CPR, in case of an emergency.\n",
      "Treatment steps for managing a leg fracture during a hiking trip:\n",
      "Immediate actions:\n",
      "1. Assess the injury: Check the affected limb for swelling, deformity, or open wounds. If the fracture is displaced or there are any signs of nerve or blood vessel damage, call for emergency medical assistance immediately.\n",
      "2. Immobilize the leg: Use a splint or make a stiff bandage to immobilize the affected limb and reduce pain.\n",
      "3. Elevate the leg: Elevate the injured leg above heart level to reduce swelling and improve blood flow.\n",
      "4. Apply ice: Apply ice packs wrapped in cloth to reduce pain and inflammation.\n",
      "5. Pain management: Administer pain medication, such as acetaminophen or ibuprofen, as directed by a medical professional.\n",
      "6. Keep the patient warm: Keep the patient warm with extra layers of clothing or a space blanket to prevent hypothermia.\n",
      "Medical treatment:\n",
      "1. Seek medical attention: If you are in a remote area, call for emergency medical evacuation if necessary. In urban areas, go to the nearest hospital or urgent care center.\n",
      "2. X-rays and diagnosis: Undergo x-ray imaging to confirm the fracture and determine its severity.\n",
      "3. Cast application: If the fracture is stable, a cast may be applied to immobilize the affected limb.\n",
      "4. Reduction procedure: If the fracture is displaced, a reduction procedure may be necessary to realign the bones.\n",
      "5. Surgical intervention: In some cases, surgery may be required to stabilize the fracture with plates, screws, or rods.\n",
      "Recovery considerations:\n",
      "1. Rest and recovery: Follow your healthcare provider's advice on rest and rehabilitation to allow the bone to heal properly.\n",
      "2. Physical therapy: After the initial healing phase, engage in physical therapy exercises to regain strength, flexibility, and range of motion.\n",
      "3. Monitoring: Regularly check for signs of infection, such as redness, swelling, or increased pain, and report any concerns to your healthcare provider.\n",
      "4. Follow-up appointments: Schedule follow-up appointments with your healthcare provider to ensure the fracture is healing properly and address any concerns or complications.\n",
      "5. Return to hiking: Gradually resume hiking activities after consulting with your healthcare provider, starting with short, easy trails and gradually increasing difficulty and duration.\n",
      "Remember that prevention is better than cure, so always prioritize safety and precaution when embarking on a hiking trip. By being aware of the risks and taking appropriate measures, you can minimize the likelihood of a leg fracture and ensure a safe and enjoyable hiking experience.\n"
     ]
    }
   ],
   "source": [
    "prompt5=\"List the precautions and treatment steps for managing a leg fracture during a hiking trip, covering immediate actions, medical treatment, and recovery considerations.\"\n",
    "res=response(prompt5,1500,0.7,1)\n",
    "print(res)"
   ]
  },
  {
   "cell_type": "markdown",
   "metadata": {
    "id": "M9bDQ9ZPCg35"
   },
   "source": [
    "**4.Multi-number prompts**"
   ]
  },
  {
   "cell_type": "code",
   "execution_count": 37,
   "metadata": {
    "colab": {
     "base_uri": "https://localhost:8080/"
    },
    "id": "MBxSjMFHCg35",
    "outputId": "f63ad1d9-ef12-4f02-b1d0-0666c0a0b527"
   },
   "outputs": [
    {
     "name": "stderr",
     "output_type": "stream",
     "text": [
      "Llama.generate: prefix-match hit\n"
     ]
    },
    {
     "name": "stdout",
     "output_type": "stream",
     "text": [
      "The following is a logical sequence of precautions and treatment steps for managing a leg fracture during a hiking trip:\n",
      "\n",
      "Step 1: Immediate First Aid (Stabilize the Injury and Minimize Further Harm)\n",
      "a) Check for other injuries or medical conditions that may require immediate attention.\n",
      "b) Stop any bleeding by applying direct pressure or using a clean cloth.\n",
      "c) Elevate the fractured leg above heart level to reduce swelling.\n",
      "d) Apply ice packs or cold compresses to reduce pain and inflammation.\n",
      "e) Immobilize the fractured limb to prevent further movement and manipulation.\n",
      "\n",
      "Step 2: Immobilization Techniques (Splinting or Using Makeshift Supports)\n",
      "a) Use a splint or make a makeshift support with available materials, such as sticks, branches, or rocks.\n",
      "b) Secure the splint with bandages or tape to prevent movement.\n",
      "c) Check for proper fit and adjust as needed to avoid causing further injury.\n",
      "\n",
      "Step 3: Arranging Safe Evacuation and Transportation (Get to Medical Facility)\n",
      "a) Call for emergency assistance using a cell phone, satellite phone, or radio if possible.\n",
      "b) If unable to call for help, signal for assistance by using flares, mirrors, or brightly colored clothing.\n",
      "c) Stabilize the fractured leg to prevent further movement during transportation.\n",
      "d) Transport the injured person to a medical facility as quickly and safely as possible.\n",
      "\n",
      "Step 4: Medical Treatments (Imaging, Casting, Surgery)\n",
      "a) Receive appropriate imaging tests, such as X-rays or CT scans, to confirm the diagnosis and assess the extent of the fracture.\n",
      "b) Based on the severity and type of fracture, receive appropriate medical treatment, which may include casting or surgery.\n",
      "c) Follow recommended pain management strategies to minimize discomfort during recovery.\n",
      "\n",
      "Step 5: Recovery Steps (Physical Therapy, Pain Management, Preventing Complications During Rehabilitation)\n",
      "a) Participate in physical therapy exercises to regain strength and mobility in the affected limb.\n",
      "b) Manage pain effectively with medication or alternative methods as recommended by medical professionals.\n",
      "c) Follow instructions for wound care, dressing changes, and mobility aids as needed.\n",
      "d) Prevent complications during rehabilitation by attending follow-up appointments, adhering to medication regimens, and avoiding excessive strain or stress on the fractured limb.\n",
      "\n",
      "By following these steps in a logical sequence, hikers can effectively manage a leg fracture during a hiking trip and minimize further harm until medical assistance is available.\n"
     ]
    }
   ],
   "source": [
    "prompt5=\"\"\"Explain the necessary precautions and treatment steps for managing a leg fracture during a hiking trip in a logical sequence:\n",
    "1. Start with immediate first-aid measures to stabilize the injury and minimize further harm.\n",
    "2. Describe ways to immobilize the fractured leg, such as splinting or using makeshift supports.\n",
    "3. Detail the process for arranging safe evacuation and transportation to a medical facility.\n",
    "4. Discuss medical treatments, such as imaging, casting, or surgery, that may be required.\n",
    "5. Conclude with advice on recovery steps, including physical therapy, pain management, and preventing complications during rehabilitation.\n",
    "\n",
    "\"\"\"\n",
    "res=response(prompt5,2000,0.9,1)\n",
    "print(res)"
   ]
  },
  {
   "cell_type": "markdown",
   "metadata": {
    "id": "YMsV4GDXCg35"
   },
   "source": [
    "**5. Categorize into major steps**"
   ]
  },
  {
   "cell_type": "code",
   "execution_count": 38,
   "metadata": {
    "colab": {
     "base_uri": "https://localhost:8080/"
    },
    "id": "NaIJ8E6lCg36",
    "outputId": "3fb2ba48-aa8d-4d56-f8fa-844f580b64a8"
   },
   "outputs": [
    {
     "name": "stderr",
     "output_type": "stream",
     "text": [
      "Llama.generate: prefix-match hit\n"
     ]
    },
    {
     "name": "stdout",
     "output_type": "stream",
     "text": [
      "1. Immediate first-aid measures to stabilize the injury:\n",
      "\t* Check airway, breathing, and circulation (ABCs) and call for emergency assistance if necessary.\n",
      "\t* Apply direct pressure to any bleeding wounds to control hemorrhage.\n",
      "\t* Use a splint or other immobile device to stabilize the affected limb and prevent further movement.\n",
      "\t* Elevate the injured leg above heart level to reduce swelling.\n",
      "2. Immobilization techniques to prevent further damage:\n",
      "\t* Use a rigid or flexible splint to maintain the reduced position of the fractured limb.\n",
      "\t* Apply an ice pack wrapped in a towel to reduce pain and swelling.\n",
      "\t* Monitor the patient's vital signs, including pulse, breathing rate, and blood pressure.\n",
      "3. Evacuation and transportation to a healthcare facility:\n",
      "\t* Use a backboard or stretcher to immobilize the patient and prevent further injury during transport.\n",
      "\t* Keep the affected limb elevated and immobile during transport.\n",
      "\t* Monitor the patient's vital signs and provide oxygen as needed.\n",
      "4. Medical interventions, such as casting, surgery, or pain management:\n",
      "\t* Casting may be necessary to immobilize the fractured limb and promote healing.\n",
      "\t* Surgery may be required for more complex fractures or those that do not respond to conservative treatment.\n",
      "\t* Pain management techniques, such as medication or nerve blocks, can help alleviate discomfort during recovery.\n",
      "5. Recovery plan, including rehabilitation, follow-up care, and precautions for future hikes:\n",
      "\t* Develop a rehabilitation plan with a healthcare provider to regain strength and mobility in the affected limb.\n",
      "\t* Schedule follow-up appointments with a healthcare provider to monitor progress and address any complications.\n",
      "\t* Provide precautions for future hikes, such as avoiding strenuous activities or using assistive devices like crutches or a walker.\n"
     ]
    }
   ],
   "source": [
    "prompt5=\"\"\"Categorize the necessary precautions and treatment steps for a fractured leg sustained during a hiking trip into 5 major points:\n",
    "1. Immediate first-aid measures to stabilize the injury.\n",
    "2. Immobilization techniques to prevent further damage.\n",
    "3. Evacuation and transportation to a healthcare facility.\n",
    "4. Medical interventions, such as casting, surgery, or pain management.\n",
    "5. Recovery plan, including rehabilitation, follow-up care, and precautions for future hikes.\n",
    "\n",
    "Provide a concise and structured explanation for each category.\n",
    "\n",
    "\"\"\"\n",
    "res=response(prompt5,1000,.3,.7)\n",
    "print(res)"
   ]
  },
  {
   "cell_type": "markdown",
   "metadata": {
    "id": "t8er6ZOM4wKP"
   },
   "source": [
    "### Observations:\n",
    "- **Dynamic Sentence and Tone Adjustment**:\n",
    "  - The starting points and structure of each output vary based on the prompt.\n",
    "  - For instance, in a role-playing prompt, the LLM adapts its wording and tone accordingly.\n",
    "\n",
    "- **Prompt Understanding**:\n",
    "  - The LLM demonstrates proper comprehension of the prompts.\n",
    "  - Outputs are aligned with the context and requirements of the prompts.\n",
    "\n",
    "- **Possibility of Hallucination**:\n",
    "  - Despite the outputs being contextually relevant, there is a possibility of hallucination.\n",
    "  - Some information provided may be fabricated or inaccurate, necessitating validation.\n"
   ]
  },
  {
   "cell_type": "markdown",
   "metadata": {
    "id": "t_O1PGdNO2M9"
   },
   "source": [
    "## Data Preparation for RAG"
   ]
  },
  {
   "cell_type": "markdown",
   "metadata": {
    "id": "uTpWESc53dL9"
   },
   "source": [
    "### Loading the Data"
   ]
  },
  {
   "cell_type": "code",
   "execution_count": 39,
   "metadata": {
    "colab": {
     "base_uri": "https://localhost:8080/"
    },
    "id": "ybj2cEnzRSXq",
    "outputId": "c22b119e-a0f0-4020-f397-db41596c1587"
   },
   "outputs": [
    {
     "name": "stdout",
     "output_type": "stream",
     "text": [
      "Mounted at /content/drive\n"
     ]
    }
   ],
   "source": [
    "from google.colab import drive\n",
    "drive.mount('/content/drive')\n",
    "path=\"/content/drive/MyDrive/Dataset/medical_diagnosis_manual.pdf\"\n",
    "pdf_load=PyMuPDFLoader(path)\n",
    "pages=pdf_load.load()"
   ]
  },
  {
   "cell_type": "markdown",
   "metadata": {
    "id": "p6gtx5rJ6S__"
   },
   "source": [
    "-Loading the merck manual."
   ]
  },
  {
   "cell_type": "markdown",
   "metadata": {
    "id": "ffj0ca3eZT4u"
   },
   "source": [
    "### Data Overview"
   ]
  },
  {
   "cell_type": "markdown",
   "metadata": {
    "id": "f9weTDzMxRRS"
   },
   "source": [
    "#### Checking the first 5 pages"
   ]
  },
  {
   "cell_type": "code",
   "execution_count": 40,
   "metadata": {
    "colab": {
     "base_uri": "https://localhost:8080/"
    },
    "id": "MSEiL--bRTZT",
    "outputId": "a5878a47-a5a3-4c55-8a59-1735a80f64fe"
   },
   "outputs": [
    {
     "name": "stdout",
     "output_type": "stream",
     "text": [
      "0\n",
      "paulpappen12@gmail.com\n",
      "2RCT5V0BNF\n",
      "ant for personal use by paulpappen12@g\n",
      "shing the contents in part or full is liable\n",
      "1\n",
      "paulpappen12@gmail.com\n",
      "2RCT5V0BNF\n",
      "This file is meant for personal use by paulpappen12@gmail.com only.\n",
      "Sharing or publishing the contents in part or full is liable for legal action.\n",
      "2\n",
      "Table of Contents\n",
      "1\n",
      "Front    ................................................................................................................................................................................................................\n",
      "1\n",
      "Cover    .......................................................................................................................................................................................................\n",
      "2\n",
      "Front Matter    ...........................................................................................................................................................................................\n",
      "53\n",
      "1 - Nutritional Disorders    ...............................................................................................................................................................\n",
      "53\n",
      "Chapter 1. Nutrition: General Considerations    .....................................................................................................................\n",
      "59\n",
      "Chapter 2. Undernutrition    .............................................................................................................................................................\n",
      "69\n",
      "Chapter 3. Nutritional Support    ...................................................................................................................................................\n",
      "76\n",
      "Chapter 4. Vitamin Deficiency, Dependency & Toxicity    ..................................................................................................\n",
      "99\n",
      "Chapter 5. Mineral Deficiency & Toxicity    ..............................................................................................................................\n",
      "108\n",
      "Chapter 6. Obesity & the Metabolic Syndrome    ...............................................................................................................\n",
      "120\n",
      "2 - Gastrointestinal Disorders    ..............................................................................................................................................\n",
      "120\n",
      "Chapter 7. Approach to the Patient With Upper GI Complaints    ...............................................................................\n",
      "132\n",
      "Chapter 8. Approach to the Patient With Lower GI Complaints    ...............................................................................\n",
      "143\n",
      "Chapter 9. Diagnostic & Therapeutic GI Procedures    ....................................................................................................\n",
      "150\n",
      "Chapter 10. GI Bleeding    ............................................................................................................................................................\n",
      "158\n",
      "Chapter 11. Acute Abdomen & Surgical Gastroenterology    .........................................................................................\n",
      "172\n",
      "Chapter 12. Esophageal & Swallowing Disorders    ..........................................................................................................\n",
      "183\n",
      "Chapter 13. Gastritis & Peptic Ulcer Disease    ..................................................................................................................\n",
      "196\n",
      "Chapter 14. Bezoars & Foreign Bodies    ..............................................................................................................................\n",
      "199\n",
      "Chapter 15. Pancreatitis    ............................................................................................................................................................\n",
      "206\n",
      "Chapter 16. Gastroenteritis    ......................................................................................................................................................\n",
      "213\n",
      "Chapter 17. Malabsorption Syndromes    ..............................................................................................................................\n",
      "225\n",
      "Chapter 18. Irritable Bowel Syndrome    ................................................................................................................................\n",
      "229\n",
      "Chapter 19. Inflammatory Bowel Disease    .........................................................................................................................\n",
      "241\n",
      "Chapter 20. Diverticular Disease    ...........................................................................................................................................\n",
      "246\n",
      "Chapter 21. Anorectal Disorders    ............................................................................................................................................\n",
      "254\n",
      "Chapter 22. Tumors of the GI Tract    ......................................................................................................................................\n",
      "275\n",
      "3 - Hepatic & Biliary Disorders    ............................................................................................................................................\n",
      "275\n",
      "Chapter 23. Approach to the Patient With Liver Disease    ...........................................................................................\n",
      "294\n",
      "Chapter 24. Testing for Hepatic & Biliary Disorders    ......................................................................................................\n",
      "305\n",
      "Chapter 25. Drugs & the Liver    ................................................................................................................................................\n",
      "308\n",
      "Chapter 26. Alcoholic Liver Disease    ....................................................................................................................................\n",
      "314\n",
      "Chapter 27. Fibrosis & Cirrhosis    ............................................................................................................................................\n",
      "322\n",
      "Chapter 28. Hepatitis    ..................................................................................................................................................................\n",
      "333\n",
      "Chapter 29. Vascular Disorders of the Liver    .....................................................................................................................\n",
      "341\n",
      "Chapter 30. Liver Masses & Granulomas    ..........................................................................................................................\n",
      "348\n",
      "Chapter 31. Gallbladder & Bile Duct Disorders    ...............................................................................................................\n",
      "362\n",
      "4 - Musculoskeletal & Connective Tissue Disorders    .........................................................................................\n",
      "362\n",
      "Chapter 32. Approach to the Patient With Joint Disease    ............................................................................................\n",
      "373\n",
      "Chapter 33. Autoimmune Rheumatic Disorders    ..............................................................................................................\n",
      "391\n",
      "Chapter 34. Vasculitis    .................................................................................................................................................................\n",
      "416\n",
      "Chapter 35. Joint Disorders    .....................................................................................................................................................\n",
      "435\n",
      "Chapter 36. Crystal-Induced Arthritides    ..............................................................................................................................\n",
      "443\n",
      "Chapter 37. Osteoporosis    .........................................................................................................................................................\n",
      "448\n",
      "Chapter 38. Paget's Disease of Bone    ..................................................................................................................................\n",
      "451\n",
      "Chapter 39. Osteonecrosis    .......................................................................................................................................................\n",
      "455\n",
      "Chapter 40. Infections of Joints & Bones    ...........................................................................................................................\n",
      "463\n",
      "Chapter 41. Bursa, Muscle & Tendon Disorders    .............................................................................................................\n",
      "470\n",
      "Chapter 42. Neck & Back Pain    ...............................................................................................................................................\n",
      "481\n",
      "Chapter 43. Hand Disorders    ....................................................................................................................................................\n",
      "paulpappen12@gmail.com\n",
      "2RCT5V0BNF\n",
      "This file is meant for personal use by paulpappen12@gmail.com only.\n",
      "Sharing or publishing the contents in part or full is liable for legal action.\n",
      "3\n",
      "491\n",
      "Chapter 44. Foot & Ankle Disorders    .....................................................................................................................................\n",
      "502\n",
      "Chapter 45. Tumors of Bones & Joints    ...............................................................................................................................\n",
      "510\n",
      "5 - Ear, Nose, Throat & Dental Disorders    ..................................................................................................................\n",
      "510\n",
      "Chapter 46. Approach to the Patient With Ear Problems    ...........................................................................................\n",
      "523\n",
      "Chapter 47. Hearing Loss    .........................................................................................................................................................\n",
      "535\n",
      "Chapter 48. Inner Ear Disorders    ............................................................................................................................................\n",
      "542\n",
      "Chapter 49. Middle Ear & Tympanic Membrane Disorders    ........................................................................................\n",
      "550\n",
      "Chapter 50. External Ear Disorders    .....................................................................................................................................\n",
      "554\n",
      "Chapter 51. Approach to the Patient With Nasal & Pharyngeal Symptoms    .......................................................\n",
      "567\n",
      "Chapter 52. Oral & Pharyngeal Disorders    .........................................................................................................................\n",
      "578\n",
      "Chapter 53. Nose & Paranasal Sinus Disorders    .............................................................................................................\n",
      "584\n",
      "Chapter 54. Laryngeal Disorders    ...........................................................................................................................................\n",
      "590\n",
      "Chapter 55. Tumors of the Head & Neck    ...........................................................................................................................\n",
      "600\n",
      "Chapter 56. Approach to Dental & Oral Symptoms    .......................................................................................................\n",
      "619\n",
      "Chapter 57. Common Dental Disorders    .............................................................................................................................\n",
      "629\n",
      "Chapter 58. Dental Emergencies    ..........................................................................................................................................\n",
      "635\n",
      "Chapter 59. Temporomandibular Disorders    ......................................................................................................................\n",
      "641\n",
      "6 - Eye Disorders    ............................................................................................................................................................................\n",
      "641\n",
      "Chapter 60. Approach to the Ophthalmologic Patient    ..................................................................................................\n",
      "669\n",
      "Chapter 61. Refractive Error    ...................................................................................................................................................\n",
      "674\n",
      "Chapter 62. Eyelid & Lacrimal Disorders    ...........................................................................................................................\n",
      "680\n",
      "Chapter 63. Conjunctival & Scleral Disorders    .................................................................................................................\n",
      "690\n",
      "Chapter 64. Corneal Disorders    ...............................................................................................................................................\n",
      "703\n",
      "Chapter 65. Glaucoma    ...............................................................................................................................................................\n",
      "710\n",
      "Chapter 66. Cataract    ...................................................................................................................................................................\n",
      "713\n",
      "Chapter 67. Uveitis    ......................................................................................................................................................................\n",
      "719\n",
      "Chapter 68. Retinal Disorders    .................................................................................................................................................\n",
      "731\n",
      "Chapter 69. Optic Nerve Disorders    ......................................................................................................................................\n",
      "737\n",
      "Chapter 70. Orbital Diseases    ..................................................................................................................................................\n",
      "742\n",
      "7 - Dermatologic Disorders    ....................................................................................................................................................\n",
      "742\n",
      "Chapter 71. Approach to the Dermatologic Patient    .......................................................................................................\n",
      "755\n",
      "Chapter 72. Principles of Topical Dermatologic Therapy    ............................................................................................\n",
      "760\n",
      "Chapter 73. Acne & Related Disorders    ...............................................................................................................................\n",
      "766\n",
      "Chapter 74. Bullous Diseases    .................................................................................................................................................\n",
      "771\n",
      "Chapter 75. Cornification Disorders    .....................................................................................................................................\n",
      "775\n",
      "Chapter 76. Dermatitis    ...............................................................................................................................................................\n",
      "786\n",
      "Chapter 77. Reactions to Sunlight    ........................................................................................................................................\n",
      "791\n",
      "Chapter 78. Psoriasis & Scaling Diseases    ........................................................................................................................\n",
      "799\n",
      "Chapter 79. Hypersensitivity & Inflammatory Disorders    .............................................................................................\n",
      "808\n",
      "Chapter 80. Sweating Disorders    ............................................................................................................................................\n",
      "811\n",
      "Chapter 81. Bacterial Skin Infections    ...................................................................................................................................\n",
      "822\n",
      "Chapter 82. Fungal Skin Infections    ......................................................................................................................................\n",
      "831\n",
      "Chapter 83. Parasitic Skin Infections    ...................................................................................................................................\n",
      "836\n",
      "Chapter 84. Viral Skin Diseases    ............................................................................................................................................\n",
      "841\n",
      "Chapter 85. Pigmentation Disorders    ....................................................................................................................................\n",
      "846\n",
      "Chapter 86. Hair Disorders    .......................................................................................................................................................\n",
      "855\n",
      "Chapter 87. Nail Disorders    .......................................................................................................................................................\n",
      "861\n",
      "Chapter 88. Pressure Ulcers    ...................................................................................................................................................\n",
      "867\n",
      "Chapter 89. Benign Tumors    .....................................................................................................................................................\n",
      "874\n",
      "Chapter 90. Cancers of the Skin    ............................................................................................................................................\n",
      "882\n",
      "8 - Endocrine & Metabolic Disorders    .............................................................................................................................\n",
      "882\n",
      "Chapter 91. Principles of Endocrinology    ............................................................................................................................\n",
      "887\n",
      "Chapter 92. Pituitary Disorders    ..............................................................................................................................................\n",
      "901\n",
      "Chapter 93. Thyroid Disorders    ................................................................................................................................................\n",
      "paulpappen12@gmail.com\n",
      "2RCT5V0BNF\n",
      "This file is meant for personal use by paulpappen12@gmail.com only.\n",
      "Sharing or publishing the contents in part or full is liable for legal action.\n",
      "4\n",
      "921\n",
      "Chapter 94. Adrenal Disorders    ................................................................................................................................................\n",
      "936\n",
      "Chapter 95. Polyglandular Deficiency Syndromes    ........................................................................................................\n",
      "939\n",
      "Chapter 96. Porphyrias    ..............................................................................................................................................................\n",
      "949\n",
      "Chapter 97. Fluid & Electrolyte Metabolism    .....................................................................................................................\n",
      "987\n",
      "Chapter 98. Acid-Base Regulation & Disorders    ..............................................................................................................\n",
      "1001\n",
      "Chapter 99. Diabetes Mellitus & Disorders of Carbohydrate Metabolism    ........................................................\n",
      "1024\n",
      "Chapter 100. Lipid Disorders    ................................................................................................................................................\n",
      "1034\n",
      "Chapter 101. Amyloidosis    ......................................................................................................................................................\n",
      "1037\n",
      "Chapter 102. Carcinoid Tumors    ..........................................................................................................................................\n",
      "1040\n",
      "Chapter 103. Multiple Endocrine Neoplasia Syndromes    .........................................................................................\n",
      "1046\n",
      "9 - Hematology & Oncology    ...............................................................................................................................................\n",
      "1046\n",
      "Chapter 104. Approach to the Patient With Anemia    ..................................................................................................\n",
      "1050\n",
      "Chapter 105. Anemias Caused by Deficient Erythropoiesis    ...................................................................................\n",
      "1061\n",
      "Chapter 106. Anemias Caused by Hemolysis    ...............................................................................................................\n",
      "1078\n",
      "Chapter 107. Neutropenia & Lymphocytopenia    ...........................................................................................................\n",
      "1086\n",
      "Chapter 108. Thrombocytopenia & Platelet Dysfunction    .........................................................................................\n",
      "1097\n",
      "Chapter 109. Hemostasis    ......................................................................................................................................................\n",
      "1104\n",
      "Chapter 110. Thrombotic Disorders    ...................................................................................................................................\n",
      "1107\n",
      "Chapter 111. Coagulation Disorders    ..................................................................................................................................\n",
      "1113\n",
      "Chapter 112. Bleeding Due to Abnormal Blood Vessels    ...........................................................................................\n",
      "1116\n",
      "Chapter 113. Spleen Disorders    ............................................................................................................................................\n",
      "1120\n",
      "Chapter 114. Eosinophilic Disorders    .................................................................................................................................\n",
      "1126\n",
      "Chapter 115. Histiocytic Syndromes    .................................................................................................................................\n",
      "1131\n",
      "Chapter 116. Myeloproliferative Disorders    .....................................................................................................................\n",
      "1141\n",
      "Chapter 117. Leukemias    .........................................................................................................................................................\n",
      "1154\n",
      "Chapter 118. Lymphomas    ......................................................................................................................................................\n",
      "1164\n",
      "Chapter 119. Plasma Cell Disorders    .................................................................................................................................\n",
      "1172\n",
      "Chapter 120. Iron Overload    ...................................................................................................................................................\n",
      "1177\n",
      "Chapter 121. Transfusion Medicine    ...................................................................................................................................\n",
      "1186\n",
      "Chapter 122. Overview of Cancer    ......................................................................................................................................\n",
      "1198\n",
      "Chapter 123. Tumor Immunology    .......................................................................................................................................\n",
      "1204\n",
      "Chapter 124. Principles of Cancer Therapy    ...................................................................................................................\n",
      "1215\n",
      "10 - Immunology; Allergic Disorders    ...........................................................................................................................\n",
      "1215\n",
      "Chapter 125. Biology of the Immune System    ...............................................................................................................\n",
      "1227\n",
      "Chapter 126. Immunodeficiency Disorders    ....................................................................................................................\n",
      "1243\n",
      "Chapter 127. Allergic & Other Hypersensitivity Disorders    .......................................................................................\n",
      "1263\n",
      "Chapter 128. Transplantation    ...............................................................................................................................................\n",
      "1281\n",
      "11 - Infectious Diseases    ........................................................................................................................................................\n",
      "1281\n",
      "Chapter 129. Biology of Infectious Disease    ...................................................................................................................\n",
      "1300\n",
      "Chapter 130. Laboratory Diagnosis of Infectious Disease    ......................................................................................\n",
      "1306\n",
      "Chapter 131. Immunization    ...................................................................................................................................................\n",
      "1313\n",
      "Chapter 132. Bacteria & Antibacterial Drugs    .................................................................................................................\n",
      "1353\n",
      "Chapter 133. Gram-Positive Cocci    ....................................................................................................................................\n",
      "1366\n",
      "Chapter 134. Gram-Positive Bacilli    ...................................................................................................................................\n",
      "1376\n",
      "Chapter 135. Gram-Negative Bacilli    .................................................................................................................................\n",
      "1405\n",
      "Chapter 136. Spirochetes    ......................................................................................................................................................\n",
      "1413\n",
      "Chapter 137. Neisseriaceae    .................................................................................................................................................\n",
      "1419\n",
      "Chapter 138. Chlamydia & Mycoplasmas    ......................................................................................................................\n",
      "1421\n",
      "Chapter 139. Rickettsiae & Related Organisms    ..........................................................................................................\n",
      "1431\n",
      "Chapter 140. Anaerobic Bacteria    ........................................................................................................................................\n",
      "1450\n",
      "Chapter 141. Mycobacteria    ...................................................................................................................................................\n",
      "1470\n",
      "Chapter 142. Fungi    ...................................................................................................................................................................\n",
      "1493\n",
      "Chapter 143. Approach to Parasitic Infections    .............................................................................................................\n",
      "1496\n",
      "Chapter 144. Nematodes (Roundworms)    .......................................................................................................................\n",
      "paulpappen12@gmail.com\n",
      "2RCT5V0BNF\n",
      "This file is meant for personal use by paulpappen12@gmail.com only.\n",
      "Sharing or publishing the contents in part or full is liable for legal action.\n"
     ]
    }
   ],
   "source": [
    "for i in range(5):\n",
    "  print(i,end=\"\\n\")\n",
    "  print(pages[i].page_content,end=\"\\n\")"
   ]
  },
  {
   "cell_type": "markdown",
   "metadata": {
    "id": "7-wNNalNxPKT"
   },
   "source": [
    "#### Checking the number of pages"
   ]
  },
  {
   "cell_type": "code",
   "execution_count": 41,
   "metadata": {
    "colab": {
     "base_uri": "https://localhost:8080/"
    },
    "id": "-NuC-6SNRT7K",
    "outputId": "4d5588f9-22b0-4f89-b07d-1e653ba1737b"
   },
   "outputs": [
    {
     "data": {
      "text/plain": [
       "4114"
      ]
     },
     "execution_count": 41,
     "metadata": {},
     "output_type": "execute_result"
    }
   ],
   "source": [
    "len(pages)"
   ]
  },
  {
   "cell_type": "markdown",
   "metadata": {
    "id": "g6vsWQ5S6cUm"
   },
   "source": [
    "**Observations:**\n",
    "- There are 4114 pages present in the document."
   ]
  },
  {
   "cell_type": "markdown",
   "metadata": {
    "id": "LECMxTH-zB-R"
   },
   "source": [
    "### Data Chunking"
   ]
  },
  {
   "cell_type": "code",
   "execution_count": 42,
   "metadata": {
    "id": "ir9Zi8rKRUmG"
   },
   "outputs": [],
   "source": [
    "chunking=RecursiveCharacterTextSplitter.from_tiktoken_encoder(encoding_name='cl100k_base',chunk_size=512,chunk_overlap= 25)\n"
   ]
  },
  {
   "cell_type": "code",
   "execution_count": 43,
   "metadata": {
    "id": "e1wYEcy7inRC"
   },
   "outputs": [],
   "source": [
    "chunks=pdf_load.load_and_split(chunking)"
   ]
  },
  {
   "cell_type": "code",
   "execution_count": 44,
   "metadata": {
    "colab": {
     "base_uri": "https://localhost:8080/"
    },
    "id": "275z7pMRinfM",
    "outputId": "591a8e7b-092e-4dfd-91f3-28f491987c2b"
   },
   "outputs": [
    {
     "data": {
      "text/plain": [
       "8527"
      ]
     },
     "execution_count": 44,
     "metadata": {},
     "output_type": "execute_result"
    }
   ],
   "source": [
    "len(chunks)"
   ]
  },
  {
   "cell_type": "markdown",
   "metadata": {
    "id": "9Etl7eRS6xvs"
   },
   "source": [
    "**Observations :**\n",
    "- The 4114 pages split into 8527 number of chunks with each chunk containing 512 tokens and 25 tokens overlapping with the neighbour chunk."
   ]
  },
  {
   "cell_type": "markdown",
   "metadata": {
    "id": "BvHVejcWz0Bl"
   },
   "source": [
    "### Embedding"
   ]
  },
  {
   "cell_type": "code",
   "execution_count": 45,
   "metadata": {
    "colab": {
     "base_uri": "https://localhost:8080/",
     "height": 458,
     "referenced_widgets": [
      "392acf0f03414021a39285946c7e285f",
      "a96e6c6249514d1d884198ab5fbe558e",
      "1b24ec0019d94749a2013c85cbf2d44e",
      "e6b4bf41db8e45a7bb6907a48146622d",
      "056cda2e9df54245b0602d862f55608c",
      "5889419250b14a799a1789fabe51bb3f",
      "423dc3c30cc14a2e9c8c9d6f116b7c6c",
      "ec5c245f50e14cb7b7c7646e189812af",
      "158d1cf30b3044f18d10b947c4abe8cb",
      "dd1fac49517840a5884ba293a4144795",
      "b40f0e0d033844e793d9f21b3b5caa6b",
      "d029c3ed7dd74dd1b1ae613485f25170",
      "045348c2dd754b9494bdbaacd2b529c9",
      "fb5280ce8e064b0eb3ff4d431c01ac7e",
      "ca2f2b86be8f4ed288f411d7ff734aae",
      "4d58be78cc5f4c679f7c3de28c3986d8",
      "3e3b0d6ef27d4944b20996f151851f64",
      "3ca3a5315b7f40b6b3ad5d936a15fb64",
      "fec3ae5442ae4418acf867562d1b4193",
      "2dcab5bdc7eb43ec968712259974f6f6",
      "df54b815fbe04cd98b835be2cdd6d9bc",
      "7856f029c8174a819da50903b102be26",
      "447da5576aad470fb2ec2ee5737098a7",
      "58a2d7a691694bd3af5f30b7eba6be4b",
      "21dfaec08ea24727a0d92ea2541eed99",
      "2f3b342defb545e399221111ac386a78",
      "2cba97de1ab043db8ecba59034b2c248",
      "ade0f5917dfb4e1791d65ede7e81822a",
      "1145c14cf36e406dbf29d33a7a0e210f",
      "d68843775f7c4d53b28e8a40a5eaff6e",
      "07a21daf2ec6481faa995b7dfddc1cea",
      "c31d800329104a768e171037e5e3413e",
      "fcd24adfcd934176a915d4c6dcfb5b08",
      "c9ce1cce78c7490383ebf0404d94c271",
      "23e0a0960f8e4c51a753fe1015fb5e67",
      "59c4463409644e2f850a44ed90e973b5",
      "c0e42b8093a54c04b3ca9ee7cb571027",
      "b0c8f94d69964f5dabce3c5e048a12d2",
      "f1cc929744ec45aab02c3b2be86f1033",
      "5e06cb7927844457aafbe780485e1607",
      "b4f6a038c601406eb717889029427474",
      "5c291578aa734dd8ae2ace3eafd9a048",
      "1e569f63c2b14071b8f6d01589761f8a",
      "71bb7cfc6c8c4796ab828eeb600d107a",
      "67701044b4c1469fab2e2094e46dea81",
      "641b1dc29b904b2abcb997e1045b33f0",
      "5a7acac40f2448f69b5d1ea32819cdd0",
      "c8836cb1716a463eb9a3258978fe6642",
      "3f7982b786ee4153bc20c05118778bcd",
      "7f764164f9af41618ccb26a5ce86d4e0",
      "cfb81a10efe44098a3527f1497b19bc9",
      "eaa18eb3816140548af3ca44d029ccbc",
      "ec1f5cbf02b64755a0a1690a6f2c6a7f",
      "7cef1dbc673c41d1ad8474ec0b70d7cd",
      "a9c9d65da7b142ddba0df0bc3125ef83",
      "57163e2dfca546bbba9ec22ee108524d",
      "487bf7e3ccaf4e82ae2a5b90094d6f1d",
      "187ebc6307a74b5684a90b6ea5832024",
      "07271c06d5b143e49e2392d297b9d2c5",
      "67da1d1eaeb948bfa4a88d7860257667",
      "673f8cee863e49ccbd9dca692694a214",
      "e835499375f1472a87162831b8f30434",
      "4a7fc260998b4525bb7d54a6112119cd",
      "1f3c0921e41b4105963a5104e8abede8",
      "88f6f824429742eea1dc0790dd74f6cf",
      "2ecb7a0875a04fea9681f3958149e6f6",
      "87ca85b2206343018164feef8cc35bbe",
      "a6d298a8dd724dbcb1547c8f99b5049d",
      "f093c3d1c3754ab7a10fe6dc451d11e3",
      "aa0b613998924531a09a4f1c1a7c3af2",
      "b5e9b4ee07c44936823ec49f74d365f7",
      "40987afab9ed447a8f9cbf2205fdb29e",
      "aca2f02e85c6433987cd43fb976dc57e",
      "1b322d13362645678fcf3a77301f5220",
      "59926d672dcd435f922c5b8b5f62d7a8",
      "67cb7bf68b0c475ba93b8a78a5719c90",
      "c7e6b79bcc2743d69d908dc597fa219b",
      "9b6c6c4169db4da0995adc9fa1072517",
      "9e4b060d06d64c67a15540b513903530",
      "5b6afe7517e84e1a878056ead8dda023",
      "296e78bb6d714001a20904ac2413b56c",
      "8e4b070a5f62434f96ec6a498457074b",
      "35262b2db94b4c28aab8c20e8e80e6eb",
      "bb104449677e4b22a8a1faae8023ca9c",
      "9f20da79abf040d492a345646b103dd1",
      "2b8b60b006ce4aa8bbf06627922fa953",
      "6e2e8cc46cdb4f298e6aeb8bf7959fba",
      "94fad9b82f1142f8bdad479ef93f4f5a",
      "0b5bb73b78b9483aa762d4b3c6e913a3",
      "f1549f263c3a4f189493f90c2bc4c8c0",
      "c0bd6823cdec49f2b5bf035e4087def0",
      "3aa2a855c5ae4707b38e615a6314a6c8",
      "1bbe1cd504ca424f88d9d100a1a2d20b",
      "cf6f6bd53a5a47b2b77f32562665cc68",
      "6feca5a18ef84606aec57c1a176aa44d",
      "2ca0bc90ffe34c8da3641f545be0ae00",
      "40d10db02a8a44db8b1779cf030b72e7",
      "6f351eea180348d595137edba9f95a36",
      "8d9acc46d731457e9ea3e9fa83d78f3e",
      "bbb5e26a9d094dc98450d59b1171561c",
      "ee1c46beaee84bb591feaa4d0658c8b5",
      "e822ab3d6d37497095227d078d39a5ad",
      "675d8dc639e34d2f8c8561208d3eda51",
      "db3d7480e4a84c948e6ec1f24656fd02",
      "a550151c7694408ebbde7c09f8bc90eb",
      "370a79ec537d47a29c319c310a30363f",
      "906e198a45844e15b2c7096d93f77d2e",
      "560dc8a4848e4197874cdbf5aa92ef2a",
      "a042777ad6f74dc8896f4e230cbf5ede",
      "6afea0bf2e9e4e8bb5c4f1637f085b6c",
      "96314b3318a848afa92495c8da4a90d7",
      "f7ccc559088c474db90640545fa1b4ee",
      "7e8a9dfce1ca4434a2f8ebfc58f389ad",
      "7e5c74f4cf894ac19fb599a789375427",
      "aac3f053350b4229942c8754ad183330",
      "95733bb9e28643e0a35dc1c41480a804",
      "1ae7bacd6b4b40f2951c2c8db92f657f",
      "454c8044e8984af9ad97551e4076d9c1",
      "0c7076ce0f214096ad8341a2012d64a5",
      "350cc020d3154c1e9185e96609e74f1c",
      "8aecfb48b9eb4923b5d2394d898550e3"
     ]
    },
    "id": "EljJW6UXimVo",
    "outputId": "57baa10e-bf5e-4fdc-8981-78bdb081d125"
   },
   "outputs": [
    {
     "name": "stderr",
     "output_type": "stream",
     "text": [
      "<ipython-input-45-cb0b1f941976>:2: LangChainDeprecationWarning: The class `HuggingFaceEmbeddings` was deprecated in LangChain 0.2.2 and will be removed in 1.0. An updated version of the class exists in the :class:`~langchain-huggingface package and should be used instead. To use it run `pip install -U :class:`~langchain-huggingface` and import as `from :class:`~langchain_huggingface import HuggingFaceEmbeddings``.\n",
      "  embedding_model = SentenceTransformerEmbeddings(model_name=\"all-MiniLM-L6-v2\")\n"
     ]
    },
    {
     "data": {
      "application/vnd.jupyter.widget-view+json": {
       "model_id": "392acf0f03414021a39285946c7e285f",
       "version_major": 2,
       "version_minor": 0
      },
      "text/plain": [
       "modules.json:   0%|          | 0.00/349 [00:00<?, ?B/s]"
      ]
     },
     "metadata": {},
     "output_type": "display_data"
    },
    {
     "data": {
      "application/vnd.jupyter.widget-view+json": {
       "model_id": "d029c3ed7dd74dd1b1ae613485f25170",
       "version_major": 2,
       "version_minor": 0
      },
      "text/plain": [
       "config_sentence_transformers.json:   0%|          | 0.00/116 [00:00<?, ?B/s]"
      ]
     },
     "metadata": {},
     "output_type": "display_data"
    },
    {
     "data": {
      "application/vnd.jupyter.widget-view+json": {
       "model_id": "447da5576aad470fb2ec2ee5737098a7",
       "version_major": 2,
       "version_minor": 0
      },
      "text/plain": [
       "README.md:   0%|          | 0.00/10.5k [00:00<?, ?B/s]"
      ]
     },
     "metadata": {},
     "output_type": "display_data"
    },
    {
     "data": {
      "application/vnd.jupyter.widget-view+json": {
       "model_id": "c9ce1cce78c7490383ebf0404d94c271",
       "version_major": 2,
       "version_minor": 0
      },
      "text/plain": [
       "sentence_bert_config.json:   0%|          | 0.00/53.0 [00:00<?, ?B/s]"
      ]
     },
     "metadata": {},
     "output_type": "display_data"
    },
    {
     "data": {
      "application/vnd.jupyter.widget-view+json": {
       "model_id": "67701044b4c1469fab2e2094e46dea81",
       "version_major": 2,
       "version_minor": 0
      },
      "text/plain": [
       "config.json:   0%|          | 0.00/612 [00:00<?, ?B/s]"
      ]
     },
     "metadata": {},
     "output_type": "display_data"
    },
    {
     "name": "stderr",
     "output_type": "stream",
     "text": [
      "Xet Storage is enabled for this repo, but the 'hf_xet' package is not installed. Falling back to regular HTTP download. For better performance, install the package with: `pip install huggingface_hub[hf_xet]` or `pip install hf_xet`\n",
      "WARNING:huggingface_hub.file_download:Xet Storage is enabled for this repo, but the 'hf_xet' package is not installed. Falling back to regular HTTP download. For better performance, install the package with: `pip install huggingface_hub[hf_xet]` or `pip install hf_xet`\n"
     ]
    },
    {
     "data": {
      "application/vnd.jupyter.widget-view+json": {
       "model_id": "57163e2dfca546bbba9ec22ee108524d",
       "version_major": 2,
       "version_minor": 0
      },
      "text/plain": [
       "model.safetensors:   0%|          | 0.00/90.9M [00:00<?, ?B/s]"
      ]
     },
     "metadata": {},
     "output_type": "display_data"
    },
    {
     "data": {
      "application/vnd.jupyter.widget-view+json": {
       "model_id": "87ca85b2206343018164feef8cc35bbe",
       "version_major": 2,
       "version_minor": 0
      },
      "text/plain": [
       "tokenizer_config.json:   0%|          | 0.00/350 [00:00<?, ?B/s]"
      ]
     },
     "metadata": {},
     "output_type": "display_data"
    },
    {
     "data": {
      "application/vnd.jupyter.widget-view+json": {
       "model_id": "9b6c6c4169db4da0995adc9fa1072517",
       "version_major": 2,
       "version_minor": 0
      },
      "text/plain": [
       "vocab.txt:   0%|          | 0.00/232k [00:00<?, ?B/s]"
      ]
     },
     "metadata": {},
     "output_type": "display_data"
    },
    {
     "data": {
      "application/vnd.jupyter.widget-view+json": {
       "model_id": "0b5bb73b78b9483aa762d4b3c6e913a3",
       "version_major": 2,
       "version_minor": 0
      },
      "text/plain": [
       "tokenizer.json:   0%|          | 0.00/466k [00:00<?, ?B/s]"
      ]
     },
     "metadata": {},
     "output_type": "display_data"
    },
    {
     "data": {
      "application/vnd.jupyter.widget-view+json": {
       "model_id": "bbb5e26a9d094dc98450d59b1171561c",
       "version_major": 2,
       "version_minor": 0
      },
      "text/plain": [
       "special_tokens_map.json:   0%|          | 0.00/112 [00:00<?, ?B/s]"
      ]
     },
     "metadata": {},
     "output_type": "display_data"
    },
    {
     "data": {
      "application/vnd.jupyter.widget-view+json": {
       "model_id": "96314b3318a848afa92495c8da4a90d7",
       "version_major": 2,
       "version_minor": 0
      },
      "text/plain": [
       "config.json:   0%|          | 0.00/190 [00:00<?, ?B/s]"
      ]
     },
     "metadata": {},
     "output_type": "display_data"
    }
   ],
   "source": [
    "#making the embedding model\n",
    "embedding_model = SentenceTransformerEmbeddings(model_name=\"all-MiniLM-L6-v2\")"
   ]
  },
  {
   "cell_type": "code",
   "execution_count": 46,
   "metadata": {
    "id": "R3CAgoUeRVLa"
   },
   "outputs": [],
   "source": [
    "embed_1= embedding_model.embed_query(chunks[0].page_content)\n",
    "embed_2= embedding_model.embed_query(chunks[1].page_content)"
   ]
  },
  {
   "cell_type": "code",
   "execution_count": 47,
   "metadata": {
    "colab": {
     "base_uri": "https://localhost:8080/"
    },
    "id": "UC1msyB0w8Nq",
    "outputId": "a1a9bc9a-68b9-4cd4-a129-d8807c1601f6"
   },
   "outputs": [
    {
     "data": {
      "text/plain": [
       "True"
      ]
     },
     "execution_count": 47,
     "metadata": {},
     "output_type": "execute_result"
    }
   ],
   "source": [
    "len(embed_1)==len(embed_2)"
   ]
  },
  {
   "cell_type": "markdown",
   "metadata": {
    "id": "xNHZua0D9mAN"
   },
   "source": [
    "**Observations :**\n",
    "- The embedding model installed and checked.\n",
    "- The embeddings are of same dimension."
   ]
  },
  {
   "cell_type": "markdown",
   "metadata": {
    "id": "qiKCOv4X0d7B"
   },
   "source": [
    "### Vector Database"
   ]
  },
  {
   "cell_type": "code",
   "execution_count": 48,
   "metadata": {
    "id": "vHHt1MQQRVzs"
   },
   "outputs": [],
   "source": [
    "out_directory=\"Medical_db\"\n",
    "if not os.path.exists(out_directory):\n",
    "    os.makedirs(out_directory)"
   ]
  },
  {
   "cell_type": "code",
   "execution_count": 49,
   "metadata": {
    "id": "ob1LYL6L3_Yx"
   },
   "outputs": [],
   "source": [
    "vectorstore=Chroma.from_documents(documents=chunks,embedding=embedding_model,persist_directory=out_directory)"
   ]
  },
  {
   "cell_type": "code",
   "execution_count": 50,
   "metadata": {
    "colab": {
     "base_uri": "https://localhost:8080/"
    },
    "id": "7YqFc9Ng3_oO",
    "outputId": "bf406d29-ce60-461b-d360-bbe6aca7852c"
   },
   "outputs": [
    {
     "data": {
      "text/plain": [
       "HuggingFaceEmbeddings(client=SentenceTransformer(\n",
       "  (0): Transformer({'max_seq_length': 256, 'do_lower_case': False}) with Transformer model: BertModel \n",
       "  (1): Pooling({'word_embedding_dimension': 384, 'pooling_mode_cls_token': False, 'pooling_mode_mean_tokens': True, 'pooling_mode_max_tokens': False, 'pooling_mode_mean_sqrt_len_tokens': False, 'pooling_mode_weightedmean_tokens': False, 'pooling_mode_lasttoken': False, 'include_prompt': True})\n",
       "  (2): Normalize()\n",
       "), model_name='all-MiniLM-L6-v2', cache_folder=None, model_kwargs={}, encode_kwargs={}, multi_process=False, show_progress=False)"
      ]
     },
     "execution_count": 50,
     "metadata": {},
     "output_type": "execute_result"
    }
   ],
   "source": [
    "vectorstore.embeddings"
   ]
  },
  {
   "cell_type": "code",
   "execution_count": 51,
   "metadata": {
    "colab": {
     "base_uri": "https://localhost:8080/"
    },
    "id": "VVcrOmsQ4WYR",
    "outputId": "59ede40a-b3b1-4b41-a752-cf09fd7bab80"
   },
   "outputs": [
    {
     "data": {
      "text/plain": [
       "[Document(metadata={'moddate': '2025-05-08T06:37:46+00:00', 'page': 2400, 'modDate': 'D:20250508063746Z', 'format': 'PDF 1.7', 'creator': 'Atop CHM to PDF Converter', 'file_path': '/content/drive/MyDrive/Dataset/medical_diagnosis_manual.pdf', 'creationdate': '2012-06-15T05:44:40+00:00', 'source': '/content/drive/MyDrive/Dataset/medical_diagnosis_manual.pdf', 'author': '', 'keywords': '', 'title': 'The Merck Manual of Diagnosis & Therapy, 19th Edition', 'subject': '', 'producer': 'pdf-lib (https://github.com/Hopding/pdf-lib)', 'total_pages': 4114, 'creationDate': 'D:20120615054440Z', 'trapped': ''}, page_content=\"16 - Critical Care Medicine\\nChapter 222. Approach to the Critically Ill Patient\\nIntroduction\\nCritical care medicine specializes in caring for the most seriously ill patients. These patients are best\\ntreated in an ICU staffed by experienced personnel. Some hospitals maintain separate units for special\\npopulations (eg, cardiac, surgical, neurologic, pediatric, or neonatal patients). ICUs have a high\\nnurse:patient ratio to provide the necessary high intensity of service, including treatment and monitoring\\nof physiologic parameters.\\nSupportive care for the ICU patient includes provision of adequate nutrition (see p. 21) and prevention of\\ninfection, stress ulcers and gastritis (see p. 131), and pulmonary embolism (see p. 1920). Because 15 to\\n25% of patients admitted to ICUs die there, physicians should know how to minimize suffering and help\\ndying patients maintain dignity (see p. 3480).\\nPatient Monitoring and Testing\\nSome monitoring is manual (ie, by direct observation and physical examination) and intermittent, with the\\nfrequency depending on the patient's illness. This monitoring usually includes measurement of vital signs\\n(temperature, BP, pulse, and respiration rate), quantification of all fluid intake and output, and often daily\\nweight. BP may be recorded by an automated sphygmomanometer; a transcutaneous sensor for pulse\\noximetry is used as well.\\nOther monitoring is ongoing and continuous, provided by complex devices that require special training\\nand experience to operate. Most such devices generate an alarm if certain physiologic parameters are\\nexceeded. Every ICU should strictly follow protocols for investigating alarms.\\nBlood Tests\\nAlthough frequent blood draws can destroy veins, cause pain, and lead to anemia, ICU patients typically\\nhave routine daily blood tests to help detect problems early. Generally, patients need a daily set of\\nelectrolytes and a CBC. Patients with arrhythmias should also have Mg, phosphate, and Ca levels\\nmeasured. Patients receiving TPN need weekly liver enzymes and coagulation profiles. Other tests (eg,\\nblood culture for fever, CBC after a bleeding episode) are done as needed.\\nPoint-of-care testing uses miniaturized, highly automated devices to do certain blood tests at the patient's\\nbedside or unit (particularly ICU, emergency department, and operating room). Commonly available tests\"),\n",
       " Document(metadata={'moddate': '2025-05-08T06:37:46+00:00', 'total_pages': 4114, 'author': '', 'title': 'The Merck Manual of Diagnosis & Therapy, 19th Edition', 'file_path': '/content/drive/MyDrive/Dataset/medical_diagnosis_manual.pdf', 'keywords': '', 'subject': '', 'creationDate': 'D:20120615054440Z', 'source': '/content/drive/MyDrive/Dataset/medical_diagnosis_manual.pdf', 'page': 2448, 'creationdate': '2012-06-15T05:44:40+00:00', 'format': 'PDF 1.7', 'creator': 'Atop CHM to PDF Converter', 'producer': 'pdf-lib (https://github.com/Hopding/pdf-lib)', 'modDate': 'D:20250508063746Z', 'trapped': ''}, page_content=\"hypovolemic patients with preexisting pulmonary hypertension.\\nPrognosis and Treatment\\nUntreated shock is usually fatal. Even with treatment, mortality from cardiogenic shock after MI and from\\nseptic shock is high (60 to 65%). Prognosis depends on the cause, preexisting or complicating illness,\\ntime between onset and diagnosis, and promptness and adequacy of therapy.\\nGeneral management: First aid involves keeping the patient warm. Hemorrhage is controlled, airway\\nand ventilation are checked, and respiratory assistance is given if necessary. Nothing is given by mouth,\\nand the patient's head is turned to one side to avoid aspiration if emesis occurs.\\nTreatment begins simultaneously with evaluation. Supplemental O2 by face mask is provided. If shock is\\nsevere or if ventilation is inadequate, airway intubation with mechanical ventilation is necessary. Two\\nlarge (16- to 18-gauge) IV catheters are inserted into separate peripheral veins. A central venous line or\\nan intraosseous needle, especially in children, provides an alternative when peripheral veins cannot\\npromptly be accessed (see also p. 2250).\\nTypically, 1 L (or 20 mL/kg in children) of 0.9% saline is infused over 15 min. In major hemorrhage,\\nRinger's lactate is commonly used. Unless clinical parameters return to normal, the infusion is repeated.\\nSmaller volumes (eg, 250 to 500 mL) are used for patients with signs of high right-sided pressure (eg,\\ndistention of neck veins) or acute MI. A fluid challenge should probably not be done in a patient with signs\\nof pulmonary edema. Further fluid therapy is based on the underlying condition and may require\\nmonitoring of CVP or PAOP.\\nPatients in shock are critically ill and should be admitted to an ICU. Monitoring includes ECG; systolic,\\ndiastolic, and mean BP, preferably by intra-arterial catheter; respiratory rate and depth; pulse oximetry;\\nurine flow by indwelling bladder catheter; body temperature; and clinical status, including sensorium (eg,\\nGlasgow Coma Scale—see\\nTable 174-4 on p. 1661), pulse volume, skin temperature, and color. Measurement of CVP, PAOP, and\"),\n",
       " Document(metadata={'source': '/content/drive/MyDrive/Dataset/medical_diagnosis_manual.pdf', 'keywords': '', 'modDate': 'D:20250508063746Z', 'creator': 'Atop CHM to PDF Converter', 'title': 'The Merck Manual of Diagnosis & Therapy, 19th Edition', 'format': 'PDF 1.7', 'author': '', 'creationdate': '2012-06-15T05:44:40+00:00', 'total_pages': 4114, 'file_path': '/content/drive/MyDrive/Dataset/medical_diagnosis_manual.pdf', 'subject': '', 'producer': 'pdf-lib (https://github.com/Hopding/pdf-lib)', 'moddate': '2025-05-08T06:37:46+00:00', 'creationDate': 'D:20120615054440Z', 'page': 1307, 'trapped': ''}, page_content='shaking chills, persistent fever, altered sensorium, hypotension, and GI symptoms (abdominal pain,\\nnausea, vomiting, diarrhea) suggests sepsis or septic shock. Septic shock develops in 25 to 40% of\\npatients with significant bacteremia.\\nDiagnosis\\nIf bacteremia, sepsis, or septic shock is suspected, cultures are obtained of blood and any other\\nappropriate specimens (see p. 1166).\\nTreatment\\n• Antibiotics\\nIn patients with suspected bacteremia, empiric antibiotics are given after appropriate cultures are\\nobtained. Early treatment of bacteremia with an appropriate antimicrobial regimen appears to improve\\nsurvival. Continuing therapy involves adjusting antibiotics according to the results of culture and\\nsusceptibility testing, surgically draining any abscesses, and usually removing any internal devices that\\nare the suspected source of bacteria.\\nBiological Warfare and Terrorism\\nBiological warfare is the use of microbiological agents for hostile purposes. Such use is contrary to\\ninternational law and has rarely taken place during formal warfare in modern history, despite the extensive\\npreparations and stockpiling of biological agents carried out during the 20th century by most major\\npowers. For a variety of reasons (including uncertain military efficacy and the threat of massive\\nretaliation), experts consider the use of biological agents in formal warfare unlikely. The area of most\\nconcern is the use of such agents by terrorist groups. Biological agents are thought by some people to be\\nan ideal weapon for terrorists. These agents may be delivered clandestinely, and they have delayed\\neffects, allowing the user to remain undetected.\\nPotential biological agents include anthrax, botulinum toxin, brucellosis, encephalitis, viruses,\\nhemorrhagic fever viruses (Ebola and Marburg), plague, tularemia, and smallpox. Each of these agents is\\npotentially fatal and, except for anthrax and botulinum toxin, can be passed from person to person.\\nAnthrax is of most concern; anthrax spores are relatively easy to prepare and spread through the air,\\ncreating the potential for distribution by airplane. Theoretically, 1 kg of anthrax could kill 10,000 people,\\nalthough technical difficulties with preparing the spores in a sufficiently fine powder would probably limit')]"
      ]
     },
     "execution_count": 51,
     "metadata": {},
     "output_type": "execute_result"
    }
   ],
   "source": [
    "vectorstore.similarity_search(\"What is the protocol for managing sepsis in a critical care unit?\",k=3)"
   ]
  },
  {
   "cell_type": "markdown",
   "metadata": {
    "id": "XZWLw_cS-OSk"
   },
   "source": [
    "**Observations:**\n",
    "- **Vector Database Setup**:\n",
    "  - A vector database is established to store embeddings for each chunk.\n",
    "\n",
    "- **Embedding Storage**:\n",
    "  - Chunk embeddings are generated using a specified embedding model and saved in the vector database.\n",
    "\n",
    "- **Facilitating Search**:\n",
    "  - These embeddings enable efficient similarity searches and retrieval of contextually relevant information.\n"
   ]
  },
  {
   "cell_type": "markdown",
   "metadata": {
    "id": "uEa5sKc41T1z"
   },
   "source": [
    "### Retriever"
   ]
  },
  {
   "cell_type": "code",
   "execution_count": 52,
   "metadata": {
    "id": "wBlQUGx3RWUD"
   },
   "outputs": [],
   "source": [
    "retriever=vectorstore.as_retriever(search_type=\"similarity\",search_kwargs={\"k\":3})"
   ]
  },
  {
   "cell_type": "code",
   "execution_count": 53,
   "metadata": {
    "colab": {
     "base_uri": "https://localhost:8080/"
    },
    "id": "ff4w2mJD6lqx",
    "outputId": "45d54ea4-338b-4631-8933-ee0183a171a7"
   },
   "outputs": [
    {
     "data": {
      "text/plain": [
       "[Document(metadata={'author': '', 'moddate': '2025-05-08T06:37:46+00:00', 'creationdate': '2012-06-15T05:44:40+00:00', 'producer': 'pdf-lib (https://github.com/Hopding/pdf-lib)', 'subject': '', 'total_pages': 4114, 'trapped': '', 'modDate': 'D:20250508063746Z', 'file_path': '/content/drive/MyDrive/Dataset/medical_diagnosis_manual.pdf', 'source': '/content/drive/MyDrive/Dataset/medical_diagnosis_manual.pdf', 'format': 'PDF 1.7', 'creationDate': 'D:20120615054440Z', 'page': 2400, 'keywords': '', 'creator': 'Atop CHM to PDF Converter', 'title': 'The Merck Manual of Diagnosis & Therapy, 19th Edition'}, page_content=\"16 - Critical Care Medicine\\nChapter 222. Approach to the Critically Ill Patient\\nIntroduction\\nCritical care medicine specializes in caring for the most seriously ill patients. These patients are best\\ntreated in an ICU staffed by experienced personnel. Some hospitals maintain separate units for special\\npopulations (eg, cardiac, surgical, neurologic, pediatric, or neonatal patients). ICUs have a high\\nnurse:patient ratio to provide the necessary high intensity of service, including treatment and monitoring\\nof physiologic parameters.\\nSupportive care for the ICU patient includes provision of adequate nutrition (see p. 21) and prevention of\\ninfection, stress ulcers and gastritis (see p. 131), and pulmonary embolism (see p. 1920). Because 15 to\\n25% of patients admitted to ICUs die there, physicians should know how to minimize suffering and help\\ndying patients maintain dignity (see p. 3480).\\nPatient Monitoring and Testing\\nSome monitoring is manual (ie, by direct observation and physical examination) and intermittent, with the\\nfrequency depending on the patient's illness. This monitoring usually includes measurement of vital signs\\n(temperature, BP, pulse, and respiration rate), quantification of all fluid intake and output, and often daily\\nweight. BP may be recorded by an automated sphygmomanometer; a transcutaneous sensor for pulse\\noximetry is used as well.\\nOther monitoring is ongoing and continuous, provided by complex devices that require special training\\nand experience to operate. Most such devices generate an alarm if certain physiologic parameters are\\nexceeded. Every ICU should strictly follow protocols for investigating alarms.\\nBlood Tests\\nAlthough frequent blood draws can destroy veins, cause pain, and lead to anemia, ICU patients typically\\nhave routine daily blood tests to help detect problems early. Generally, patients need a daily set of\\nelectrolytes and a CBC. Patients with arrhythmias should also have Mg, phosphate, and Ca levels\\nmeasured. Patients receiving TPN need weekly liver enzymes and coagulation profiles. Other tests (eg,\\nblood culture for fever, CBC after a bleeding episode) are done as needed.\\nPoint-of-care testing uses miniaturized, highly automated devices to do certain blood tests at the patient's\\nbedside or unit (particularly ICU, emergency department, and operating room). Commonly available tests\"),\n",
       " Document(metadata={'page': 2448, 'subject': '', 'producer': 'pdf-lib (https://github.com/Hopding/pdf-lib)', 'format': 'PDF 1.7', 'trapped': '', 'title': 'The Merck Manual of Diagnosis & Therapy, 19th Edition', 'moddate': '2025-05-08T06:37:46+00:00', 'total_pages': 4114, 'keywords': '', 'modDate': 'D:20250508063746Z', 'author': '', 'creationDate': 'D:20120615054440Z', 'file_path': '/content/drive/MyDrive/Dataset/medical_diagnosis_manual.pdf', 'creator': 'Atop CHM to PDF Converter', 'source': '/content/drive/MyDrive/Dataset/medical_diagnosis_manual.pdf', 'creationdate': '2012-06-15T05:44:40+00:00'}, page_content=\"hypovolemic patients with preexisting pulmonary hypertension.\\nPrognosis and Treatment\\nUntreated shock is usually fatal. Even with treatment, mortality from cardiogenic shock after MI and from\\nseptic shock is high (60 to 65%). Prognosis depends on the cause, preexisting or complicating illness,\\ntime between onset and diagnosis, and promptness and adequacy of therapy.\\nGeneral management: First aid involves keeping the patient warm. Hemorrhage is controlled, airway\\nand ventilation are checked, and respiratory assistance is given if necessary. Nothing is given by mouth,\\nand the patient's head is turned to one side to avoid aspiration if emesis occurs.\\nTreatment begins simultaneously with evaluation. Supplemental O2 by face mask is provided. If shock is\\nsevere or if ventilation is inadequate, airway intubation with mechanical ventilation is necessary. Two\\nlarge (16- to 18-gauge) IV catheters are inserted into separate peripheral veins. A central venous line or\\nan intraosseous needle, especially in children, provides an alternative when peripheral veins cannot\\npromptly be accessed (see also p. 2250).\\nTypically, 1 L (or 20 mL/kg in children) of 0.9% saline is infused over 15 min. In major hemorrhage,\\nRinger's lactate is commonly used. Unless clinical parameters return to normal, the infusion is repeated.\\nSmaller volumes (eg, 250 to 500 mL) are used for patients with signs of high right-sided pressure (eg,\\ndistention of neck veins) or acute MI. A fluid challenge should probably not be done in a patient with signs\\nof pulmonary edema. Further fluid therapy is based on the underlying condition and may require\\nmonitoring of CVP or PAOP.\\nPatients in shock are critically ill and should be admitted to an ICU. Monitoring includes ECG; systolic,\\ndiastolic, and mean BP, preferably by intra-arterial catheter; respiratory rate and depth; pulse oximetry;\\nurine flow by indwelling bladder catheter; body temperature; and clinical status, including sensorium (eg,\\nGlasgow Coma Scale—see\\nTable 174-4 on p. 1661), pulse volume, skin temperature, and color. Measurement of CVP, PAOP, and\"),\n",
       " Document(metadata={'keywords': '', 'total_pages': 4114, 'creationdate': '2012-06-15T05:44:40+00:00', 'title': 'The Merck Manual of Diagnosis & Therapy, 19th Edition', 'creationDate': 'D:20120615054440Z', 'creator': 'Atop CHM to PDF Converter', 'source': '/content/drive/MyDrive/Dataset/medical_diagnosis_manual.pdf', 'subject': '', 'modDate': 'D:20250508063746Z', 'file_path': '/content/drive/MyDrive/Dataset/medical_diagnosis_manual.pdf', 'trapped': '', 'author': '', 'moddate': '2025-05-08T06:37:46+00:00', 'producer': 'pdf-lib (https://github.com/Hopding/pdf-lib)', 'page': 1307, 'format': 'PDF 1.7'}, page_content='shaking chills, persistent fever, altered sensorium, hypotension, and GI symptoms (abdominal pain,\\nnausea, vomiting, diarrhea) suggests sepsis or septic shock. Septic shock develops in 25 to 40% of\\npatients with significant bacteremia.\\nDiagnosis\\nIf bacteremia, sepsis, or septic shock is suspected, cultures are obtained of blood and any other\\nappropriate specimens (see p. 1166).\\nTreatment\\n• Antibiotics\\nIn patients with suspected bacteremia, empiric antibiotics are given after appropriate cultures are\\nobtained. Early treatment of bacteremia with an appropriate antimicrobial regimen appears to improve\\nsurvival. Continuing therapy involves adjusting antibiotics according to the results of culture and\\nsusceptibility testing, surgically draining any abscesses, and usually removing any internal devices that\\nare the suspected source of bacteria.\\nBiological Warfare and Terrorism\\nBiological warfare is the use of microbiological agents for hostile purposes. Such use is contrary to\\ninternational law and has rarely taken place during formal warfare in modern history, despite the extensive\\npreparations and stockpiling of biological agents carried out during the 20th century by most major\\npowers. For a variety of reasons (including uncertain military efficacy and the threat of massive\\nretaliation), experts consider the use of biological agents in formal warfare unlikely. The area of most\\nconcern is the use of such agents by terrorist groups. Biological agents are thought by some people to be\\nan ideal weapon for terrorists. These agents may be delivered clandestinely, and they have delayed\\neffects, allowing the user to remain undetected.\\nPotential biological agents include anthrax, botulinum toxin, brucellosis, encephalitis, viruses,\\nhemorrhagic fever viruses (Ebola and Marburg), plague, tularemia, and smallpox. Each of these agents is\\npotentially fatal and, except for anthrax and botulinum toxin, can be passed from person to person.\\nAnthrax is of most concern; anthrax spores are relatively easy to prepare and spread through the air,\\ncreating the potential for distribution by airplane. Theoretically, 1 kg of anthrax could kill 10,000 people,\\nalthough technical difficulties with preparing the spores in a sufficiently fine powder would probably limit')]"
      ]
     },
     "execution_count": 53,
     "metadata": {},
     "output_type": "execute_result"
    }
   ],
   "source": [
    "rel_docs = retriever.invoke(\"What is the protocol for managing sepsis in a critical care unit?\")\n",
    "rel_docs"
   ]
  },
  {
   "cell_type": "markdown",
   "metadata": {
    "id": "a8egRQWrCVCh"
   },
   "source": [
    "**Observations :**\n",
    "-The retriever is able to find the find the relevant documents using similarity search.  "
   ]
  },
  {
   "cell_type": "markdown",
   "metadata": {
    "id": "vw8qcwq66B0C"
   },
   "source": [
    "### System and User Prompt Template"
   ]
  },
  {
   "cell_type": "code",
   "execution_count": 54,
   "metadata": {
    "id": "GF_4399TRW5D"
   },
   "outputs": [],
   "source": [
    "qna_system_message = \"\"\"\n",
    "You are an assistant tasked with answering questions strictly from the provided context..\n",
    "\n",
    "User input will contain the context and a question.\n",
    "\n",
    "The context begins after the token ###Context.\n",
    "The question begins after the token ###Question.\n",
    "\n",
    "Please answer only using the provided context. Do not add or infer anything beyond the context.\n",
    "\n",
    "If the answer is not found in the context, reply with: \"I don't know.\"\n",
    "\n",
    "Format your answer with a title followed by clear, concise bullet points or a numbered list.\n",
    "\"\"\""
   ]
  },
  {
   "cell_type": "code",
   "execution_count": 55,
   "metadata": {
    "id": "kkrb5Gjj8xq3"
   },
   "outputs": [],
   "source": [
    "qna_user_message_template = \"\"\"\n",
    "###Context\n",
    "Here are some documents that are relevant to the question mentioned below.\n",
    "{context}\n",
    "\n",
    "###Question\n",
    "{question}\n",
    "\"\"\""
   ]
  },
  {
   "cell_type": "markdown",
   "metadata": {
    "id": "TkIteX4m6mny"
   },
   "source": [
    "### Response Function"
   ]
  },
  {
   "cell_type": "code",
   "execution_count": 56,
   "metadata": {
    "id": "lIEY0a6Y7eox"
   },
   "outputs": [],
   "source": [
    "def generate_rag_response(user_input, k=3, max_tokens=1200, temperature=0, top_p=0.95, top_k=50):\n",
    "    global qna_system_message, qna_user_message_template\n",
    "\n",
    "    # Retrieve relevant document chunks\n",
    "    relevant_document_chunks = retriever.invoke(input=user_input, k=k)\n",
    "    context_list = [d.page_content for d in relevant_document_chunks]\n",
    "\n",
    "    # Combine document chunks into a single context\n",
    "    context_for_query = \". \".join(context_list)\n",
    "\n",
    "    # Format user message with context and question\n",
    "    user_message = qna_user_message_template.replace('{context}', context_for_query)\n",
    "    user_message = user_message.replace('{question}', user_input)\n",
    "\n",
    "    # Create the final prompt\n",
    "    prompt = qna_system_message + '\\n' + user_message+'\"\\nAnswer\"'\n",
    "\n",
    "    try:\n",
    "        resp = response(query=prompt, max_tokens=max_tokens, temperature=temperature, top_p=top_p, top_k=top_k)\n",
    "    except Exception as e:\n",
    "        resp = f'Sorry, I encountered the following error: \\n{e}'\n",
    "\n",
    "    return resp\n"
   ]
  },
  {
   "cell_type": "markdown",
   "metadata": {
    "id": "ffP1SRYbPQHN"
   },
   "source": [
    "## Question Answering using RAG"
   ]
  },
  {
   "cell_type": "markdown",
   "metadata": {
    "id": "JjajBEj06B0E"
   },
   "source": [
    "### Query 1: What is the protocol for managing sepsis in a critical care unit?"
   ]
  },
  {
   "cell_type": "code",
   "execution_count": 57,
   "metadata": {
    "colab": {
     "base_uri": "https://localhost:8080/"
    },
    "id": "Nlo9sMpPRbTP",
    "outputId": "1a0a90d5-fe9b-43df-c1ba-903d5e12f1e5"
   },
   "outputs": [
    {
     "name": "stderr",
     "output_type": "stream",
     "text": [
      "Llama.generate: prefix-match hit\n"
     ]
    },
    {
     "name": "stdout",
     "output_type": "stream",
     "text": [
      "\n",
      "The protocol for managing sepsis in a critical care unit includes:\n",
      "\n",
      "1. Early recognition of sepsis, including signs of organ dysfunction and altered mental status.\n",
      "2. Immediate administration of broad-spectrum antibiotics and source control measures.\n",
      "3. Aggressive fluid resuscitation with vasopressors as needed to maintain mean arterial pressure ≥65 mmHg.\n",
      "4. Monitoring of central venous oxygen saturation (ScvO2) and serum lactate levels to guide therapy.\n",
      "5. Management of hyperglycemia and hypoglycemia.\n",
      "6. Use of steroids in severe sepsis and septic shock.\n",
      "7. Early recognition and management of secondary infections, such as pneumonia or urinary tract infections.\n",
      "8. Close monitoring of organ function and adjustment of therapy as needed.\n",
      "9. Consideration of ECMO in refractory cases.\n",
      "\n",
      "Note: This answer is based on the context provided and should not be applied to any other situation without proper evaluation and medical expertise.\n"
     ]
    }
   ],
   "source": [
    "user_input=\"What is the protocol for managing sepsis in a critical care unit?\"\n",
    "print(generate_rag_response(user_input))"
   ]
  },
  {
   "cell_type": "markdown",
   "metadata": {
    "id": "QDw8zXuq6B0F"
   },
   "source": [
    "### Query 2: What are the common symptoms for appendicitis, and can it be cured via medicine? If not, what surgical procedure should be followed to treat it?"
   ]
  },
  {
   "cell_type": "code",
   "execution_count": 58,
   "metadata": {
    "colab": {
     "base_uri": "https://localhost:8080/"
    },
    "id": "PVReF4G8RbzR",
    "outputId": "59f34856-6396-4230-fb87-be92e921b0ff"
   },
   "outputs": [
    {
     "name": "stderr",
     "output_type": "stream",
     "text": [
      "Llama.generate: prefix-match hit\n"
     ]
    },
    {
     "name": "stdout",
     "output_type": "stream",
     "text": [
      "\n",
      "\n",
      "Please answer the question based on the provided context.\n",
      "\n",
      "Symptoms of appendicitis include epigastric or periumbilical pain followed by brief nausea, vomiting, and anorexia; after a few hours, the pain shifts to the right lower quadrant. Pain increases with cough and motion. Classic signs are right lower quadrant direct and rebound tenderness located at McBurney's point (junction of the middle and outer thirds of the line joining the umbilicus to the anterior superior spine). Additional signs are pain felt in the right lower quadrant with palpation of the left lower quadrant (Rovsing sign), an increase in pain from passive extension of the right hip joint that stretches the iliopsoas muscle (psoas sign), or pain caused by passive internal rotation of the flexed thigh (obturator sign). Low-grade fever (rectal temperature 37.7 to 38.3° C [100 to 101° F]) is common. Unfortunately, these classic findings appear in < 50% of patients.\n",
      "\n",
      "As for treatment, the Merck Manual states that \"Treatment of acute appendicitis is open or laparoscopic appendectomy.\" It is not possible to cure appendicitis with medicine alone. Surgical removal of the inflamed appendix is necessary to treat the condition. The surgical procedure for treating appendicitis is typically an appendectomy, which can be either open or laparoscopic.\n",
      "\n",
      "In summary, the common symptoms of appendicitis include pain in the right lower quadrant of the abdomen, tenderness in the same area, and low-grade fever. Treatment is surgical removal of the inflamed appendix through an appendectomy.\n"
     ]
    }
   ],
   "source": [
    "user_input=\"What are the common symptoms for appendicitis, and can it be cured via medicine? If not, what surgical procedure should be followed to treat it?\"\n",
    "print(generate_rag_response(user_input))"
   ]
  },
  {
   "cell_type": "markdown",
   "metadata": {
    "id": "TggYyQPL6B0G"
   },
   "source": [
    "### Query 3: What are the effective treatments or solutions for addressing sudden patchy hair loss, commonly seen as localized bald spots on the scalp, and what could be the possible causes behind it?"
   ]
  },
  {
   "cell_type": "code",
   "execution_count": 74,
   "metadata": {
    "colab": {
     "base_uri": "https://localhost:8080/"
    },
    "id": "0aRbadGtRcX0",
    "outputId": "effcdd6f-4e43-40a7-e935-06b58b3f1735"
   },
   "outputs": [
    {
     "name": "stderr",
     "output_type": "stream",
     "text": [
      "Llama.generate: prefix-match hit\n"
     ]
    },
    {
     "name": "stdout",
     "output_type": "stream",
     "text": [
      "\n",
      "\n",
      "Based on the provided context, here are the effective treatments and possible causes of sudden patchy hair loss:\n",
      "\n",
      "Possible Causes:\n",
      "\n",
      "1. Alopecia Areata: An autoimmune disorder that causes sudden patchy hair loss in people with no obvious skin or systemic disorder.\n",
      "2. Androgenetic Alopecia: A common cause of hair loss, especially in men and women over the age of 30, caused by the conversion of testosterone to dihydrotestosterone.\n",
      "3. Infection: Fungal or bacterial infections can cause hair loss, especially if left untreated.\n",
      "4. Drug-induced Hair Loss: Certain medications, such as chemotherapeutic agents, can cause hair loss as a side effect.\n",
      "5. Traction Alopecia: Hair loss caused by constant pulling or tension on the hair shaft, often seen in people who wear tight hairstyles or use excessive hair products.\n",
      "\n",
      "Effective Treatments:\n",
      "\n",
      "1. Minoxidil: A topical solution that prolongs the anagen growth phase and gradually enlarges miniaturized follicles into mature terminal hairs.\n",
      "2. Finasteride: A medication that blocks the conversion of testosterone to dihydrotestosterone, which can help slow down hair loss and promote hair growth.\n",
      "3. Corticosteroids: May be used to treat inflammatory conditions such as lichen planopilaris and chronic cutaneous lupus lesions that can cause hair loss.\n",
      "4. Antimalarials: May be used to treat conditions such as lichen planopilaris and chronic cutaneous lupus lesions that can cause hair loss.\n",
      "5. Wigs: Temporary hair loss due to chemotherapy or other medical conditions can be treated with wigs.\n",
      "6. Hair Transplantation: A surgical procedure that involves transplanting healthy hair follicles from one part of the scalp to another.\n",
      "\n",
      "Note: It is important to consult a dermatologist for an accurate diagnosis and appropriate treatment plan.\n"
     ]
    }
   ],
   "source": [
    "user_input=\"\"\"What are the effective treatments or solutions for addressing sudden patchy hair loss,\n",
    "commonly seen as localized bald spots on the scalp, and what could be the possible causes behind it?\"\"\"\n",
    "print(generate_rag_response(user_input))"
   ]
  },
  {
   "cell_type": "markdown",
   "metadata": {
    "id": "1TgxdI-_6B0G"
   },
   "source": [
    "### Query 4:  What treatments are recommended for a person who has sustained a physical injury to brain tissue, resulting in temporary or permanent impairment of brain function?"
   ]
  },
  {
   "cell_type": "code",
   "execution_count": 60,
   "metadata": {
    "colab": {
     "base_uri": "https://localhost:8080/"
    },
    "id": "0vzRX1TcRc29",
    "outputId": "270b7a52-9e8e-4e87-e37b-9dd84602d651"
   },
   "outputs": [
    {
     "name": "stderr",
     "output_type": "stream",
     "text": [
      "Llama.generate: prefix-match hit\n"
     ]
    },
    {
     "name": "stdout",
     "output_type": "stream",
     "text": [
      "\n",
      "\n",
      "Here are some treatments that may be recommended for a person who has sustained a physical injury to brain tissue, resulting in temporary or permanent impairment of brain function:\n",
      "\n",
      "1. Supportive care: This includes preventing systemic complications due to immobilization, providing good nutrition, and preventing pressure ulcers.\n",
      "2. Rehabilitation therapy: This may include physical therapy to prevent limb contractures, cognitive therapy to address memory loss, problem-solving skills, language and visual disturbances, and family education.\n",
      "3. Prevention of secondary disabilities: This includes preventing pneumonia, joint contractures, and other complications that may arise as a result of the injury.\n",
      "4. Early intervention by rehabilitation specialists: This is crucial for maximal functional recovery.\n",
      "5. Surgical or nonsurgical immobilization of the affected area: This should be done as soon as possible and throughout the acute phase to prevent complications such as joint contractures, pressure ulcers, and pneumonia.\n",
      "6. Measures to prevent other complications: This may include orthostatic hypotension, atelectasis, deep venous thrombosis, and pulmonary embolism.\n",
      "7. Magnetic stimulation of the motor cortex: This may be used to prevent or treat irreversible or progressive disorders such as cancers that involve the posterior fossa and the pons.\n",
      "\n",
      "It is important to note that the specific treatment plan will depend on the severity and location of the injury, as well as the individual needs of the patient. It is best to consult with a medical professional for personalized advice and treatment.\n"
     ]
    }
   ],
   "source": [
    "user_input=\"What treatments are recommended for a person who has sustained a physical injury to brain tissue, resulting in temporary or permanent impairment of brain function?\"\n",
    "print(generate_rag_response(user_input))"
   ]
  },
  {
   "cell_type": "markdown",
   "metadata": {
    "id": "FlHXYCkm6B0H"
   },
   "source": [
    "### Query 5: What are the necessary precautions and treatment steps for a person who has fractured their leg during a hiking trip, and what should be considered for their care and recovery?"
   ]
  },
  {
   "cell_type": "code",
   "execution_count": 61,
   "metadata": {
    "colab": {
     "base_uri": "https://localhost:8080/"
    },
    "id": "sarpUibcRdhq",
    "outputId": "2ecb39ca-5a61-4af1-b839-a6c96a7815f6"
   },
   "outputs": [
    {
     "name": "stderr",
     "output_type": "stream",
     "text": [
      "Llama.generate: prefix-match hit\n"
     ]
    },
    {
     "name": "stdout",
     "output_type": "stream",
     "text": [
      "\n",
      "\n",
      "Please provide your answer in bullet points or a numbered list.\n",
      "\n",
      "1. Treatment of life- or limb-threatening injuries\n",
      "2. Splinting\n",
      "3. Definitive treatment (eg, reduction) for certain injuries\n",
      "4. Rest, ice, compression, and elevation (RICE)\n",
      "5. Immobilization\n",
      "6. Pain management with opioids\n",
      "7. Closed reduction of fractures is usually maintained by casting; some dislocations require only a splint or sling.\n",
      "8. Open reduction is usually maintained by various surgical hardware (eg, pins, screws, plates, external fixators).\n",
      "9. RICE: Patients who have soft-tissue injuries, with or without musculoskeletal injuries, benefit from RICE (rest, ice, compression, elevation).\n",
      "10. Gradual mobilization of the affected limb usually results in full ambulation.\n",
      "11. Prolonged lifting or pushing of heavy items, stooping, reaching, or jumping can be harmful.\n",
      "12. Patients should not sit on a chair, to cure.\n",
      "13. Closed injuries that do not involve blood vessels or nerves, including fractures, sprains, strains, and tendon tears, are least likely to result in serious complications.\n"
     ]
    }
   ],
   "source": [
    "user_input=\"\"\"What are the necessary precautions and treatment steps for a person who has fractured\n",
    "their leg during a hiking trip, and what should be considered for their care and recovery?\"\"\"\n",
    "print(generate_rag_response(user_input))"
   ]
  },
  {
   "cell_type": "markdown",
   "metadata": {
    "id": "K7TYrqycEITB"
   },
   "source": [
    "### Fine-tuning"
   ]
  },
  {
   "cell_type": "markdown",
   "metadata": {
    "id": "bm04VKTrUH9h"
   },
   "source": [
    "**1) Token increase**"
   ]
  },
  {
   "cell_type": "markdown",
   "metadata": {
    "id": "pl2V7qEbJfVs"
   },
   "source": [
    "### Token increase for Query 2 & Query 5"
   ]
  },
  {
   "cell_type": "code",
   "execution_count": 62,
   "metadata": {
    "colab": {
     "base_uri": "https://localhost:8080/"
    },
    "id": "7UYBR-hcReSo",
    "outputId": "d22f27ca-468b-4dd7-d686-c7e142ce2f69"
   },
   "outputs": [
    {
     "name": "stderr",
     "output_type": "stream",
     "text": [
      "Llama.generate: prefix-match hit\n"
     ]
    },
    {
     "name": "stdout",
     "output_type": "stream",
     "text": [
      "\n",
      "\n",
      "Please answer the question based on the provided context.\n",
      "\n",
      "Symptoms of appendicitis include epigastric or periumbilical pain followed by brief nausea, vomiting, and anorexia; after a few hours, the pain shifts to the right lower quadrant. Pain increases with cough and motion. Classic signs are right lower quadrant direct and rebound tenderness located at McBurney's point (junction of the middle and outer thirds of the line joining the umbilicus to the anterior superior spine). Additional signs are pain felt in the right lower quadrant with palpation of the left lower quadrant (Rovsing sign), an increase in pain from passive extension of the right hip joint that stretches the iliopsoas muscle (psoas sign), or pain caused by passive internal rotation of the flexed thigh (obturator sign). Low-grade fever (rectal temperature 37.7 to 38.3° C [100 to 101° F]) is common. Unfortunately, these classic findings appear in < 50% of patients.\n",
      "\n",
      "As for treatment, the Merck Manual states that \"Treatment of acute appendicitis is open or laparoscopic appendectomy.\" It is not possible to cure appendicitis with medicine alone. Surgical removal of the inflamed appendix is necessary to treat the condition. The surgical procedure for treating appendicitis is typically an appendectomy, which can be either open or laparoscopic.\n",
      "\n",
      "In summary, the common symptoms of appendicitis include pain in the right lower quadrant of the abdomen, tenderness in the same area, and low-grade fever. Treatment is surgical removal of the inflamed appendix through an appendectomy.\n"
     ]
    }
   ],
   "source": [
    "user_input=\"What are the common symptoms for appendicitis, and can it be cured via medicine? If not, what surgical procedure should be followed to treat it?\"\n",
    "print(generate_rag_response(user_input, max_tokens=1200))"
   ]
  },
  {
   "cell_type": "code",
   "execution_count": 63,
   "metadata": {
    "colab": {
     "base_uri": "https://localhost:8080/"
    },
    "id": "dbnnb9OqUGKL",
    "outputId": "3ae85497-9db4-4f6e-e7d5-fc460ced29a2"
   },
   "outputs": [
    {
     "name": "stderr",
     "output_type": "stream",
     "text": [
      "Llama.generate: prefix-match hit\n"
     ]
    },
    {
     "name": "stdout",
     "output_type": "stream",
     "text": [
      "\n",
      "\n",
      "Please provide your answer in bullet points or a numbered list.\n",
      "\n",
      "1. Treatment of life- or limb-threatening injuries\n",
      "2. Splinting\n",
      "3. Definitive treatment (eg, reduction) for certain injuries\n",
      "4. Rest, ice, compression, and elevation (RICE)\n",
      "5. Immobilization\n",
      "6. Pain management with opioids\n",
      "7. Closed reduction of fractures is usually maintained by casting; some dislocations require only a splint or sling.\n",
      "8. Open reduction is usually maintained by various surgical hardware (eg, pins, screws, plates, external fixators).\n",
      "9. RICE: Patients who have soft-tissue injuries, with or without musculoskeletal injuries, benefit from RICE (rest, ice, compression, elevation).\n",
      "10. Gradual mobilization of the affected limb usually results in full ambulation.\n",
      "11. Prolonged lifting or pushing of heavy items, stooping, reaching, or jumping can be harmful.\n",
      "12. Patients should not sit on a chair, to cure.\n",
      "13. Closed injuries that do not involve blood vessels or nerves, including fractures, sprains, strains, and tendon tears, are least likely to result in serious complications.\n"
     ]
    }
   ],
   "source": [
    "user_input=\"\"\"What are the necessary precautions and treatment steps for a person who has fractured\n",
    "their leg during a hiking trip, and what should be considered for their care and recovery?\"\"\"\n",
    "print(generate_rag_response(user_input, max_tokens=1500))"
   ]
  },
  {
   "cell_type": "code",
   "execution_count": 64,
   "metadata": {
    "colab": {
     "base_uri": "https://localhost:8080/"
    },
    "id": "GOpCsZzqcjtf",
    "outputId": "1be3c4b3-a452-45bd-ed30-2c4dda96b17f"
   },
   "outputs": [
    {
     "name": "stderr",
     "output_type": "stream",
     "text": [
      "Llama.generate: prefix-match hit\n"
     ]
    },
    {
     "name": "stdout",
     "output_type": "stream",
     "text": [
      "\n",
      "\n",
      "Please provide your answer in bullet points or a numbered list.\n",
      "\n",
      "1. Treatment of life- or limb-threatening injuries\n",
      "2. Splinting\n",
      "3. Definitive treatment (eg, reduction) for certain injuries\n",
      "4. Rest, ice, compression, and elevation (RICE)\n",
      "5. Immobilization\n",
      "6. Pain management with opioids\n",
      "7. Closed reduction of fractures is usually maintained by casting; some dislocations require only a splint or sling.\n",
      "8. Open reduction is usually maintained by various surgical hardware (eg, pins, screws, plates, external fixators).\n",
      "9. RICE: Patients who have soft-tissue injuries, with or without musculoskeletal injuries, benefit from RICE (rest, ice, compression, elevation).\n",
      "10. Gradual mobilization of the affected limb usually results in full ambulation.\n",
      "11. Prolonged lifting or pushing of heavy items, stooping, reaching, or jumping can be harmful.\n",
      "12. Patients should not sit on a chair, to cure.\n",
      "13. Closed injuries that do not involve blood vessels or nerves, including fractures, sprains, strains, and tendon tears, are least likely to result in serious complications.\n",
      "\n",
      "Please note that the answer is based on the provided context and may not cover all possible aspects of care and recovery for a person with a leg fracture. It is important to seek medical attention from a qualified healthcare professional for proper evaluation and treatment.\n"
     ]
    }
   ],
   "source": [
    "user_input=\"\"\"What are the necessary precautions and treatment steps for a person who has fractured\n",
    "their leg during a hiking trip, and what should be considered for their care and recovery?\"\"\"\n",
    "print(generate_rag_response(user_input, max_tokens=2000))"
   ]
  },
  {
   "cell_type": "markdown",
   "metadata": {
    "id": "_anrYSCUbECu"
   },
   "source": [
    "**Observations:**\n",
    "- Increasing the token limit does not alter the response provided for Query 2, but for Query 5, it shows an increase in the number of points when the maximum token limit was set to 1500. However, no further changes were observed after increasing the limit to 2000.\n",
    "- Query 2 was chosen due to its concise answer.\n",
    "- Query 5 was selected due to the absence of summarization points.\n",
    "- Hence, the maximum token limit can be set to 2000.\n",
    "- Further fine-tuning may lead to adjustments in parameters, which, while refining specific behaviors, could risk deviations from the context or intended focus.\n",
    "\n"
   ]
  },
  {
   "cell_type": "markdown",
   "metadata": {
    "id": "yyQrTipNfuBN"
   },
   "source": [
    "## Output Evaluation"
   ]
  },
  {
   "cell_type": "code",
   "execution_count": 65,
   "metadata": {
    "id": "IHbfLAxAGdhW"
   },
   "outputs": [],
   "source": [
    "groundedness_rater_system_message  = \"\"\"\n",
    "You are tasked with rating AI generated answers to questions posed by users.\n",
    "You will be presented a question, context used by the AI system to generate the answer and an AI generated answer to the question.\n",
    "In the input, the question will begin with ###Question, the context will begin with ###Context while the AI generated answer will begin with ###Answer.\n",
    "\n",
    "Evaluation criteria:\n",
    "The task is to judge the extent to which the metric is followed by the answer.\n",
    "1 - The metric is not followed at all\n",
    "2 - The metric is followed only to a limited extent\n",
    "3 - The metric is followed to a good extent\n",
    "4 - The metric is followed mostly\n",
    "5 - The metric is followed completely\n",
    "\n",
    "Metric:\n",
    "The answer should be derived only from the information presented in the context\n",
    "\n",
    "Instructions:\n",
    "1. First write down the steps that are needed to evaluate the answer as per the metric.\n",
    "2. Give a step-by-step explanation if the answer adheres to the metric considering the question and context as the input.\n",
    "3. Next, evaluate the extent to which the metric is followed.\n",
    "4. Use the previous information to assign a single score for the answer based on the evaluation criteria. The score must range from 1 (not followed at all) to 5 (completely followed) and Avoid combining multiple scores or assigning cumulative totals.\n",
    "\"\"\""
   ]
  },
  {
   "cell_type": "code",
   "execution_count": 66,
   "metadata": {
    "id": "159OZZa0Rinv"
   },
   "outputs": [],
   "source": [
    "relevance_rater_system_message = \"\"\"\n",
    "You are tasked with rating AI generated answers to questions posed by users.\n",
    "You will be presented a question, context used by the AI system to generate the answer and an AI generated answer to the question.\n",
    "In the input, the question will begin with ###Question, the context will begin with ###Context while the AI generated answer will begin with ###Answer.\n",
    "\n",
    "Evaluation criteria:\n",
    "The task is to judge the extent to which the metric is followed by the answer.\n",
    "1 - The metric is not followed at all\n",
    "2 - The metric is followed only to a limited extent\n",
    "3 - The metric is followed to a good extent\n",
    "4 - The metric is followed mostly\n",
    "5 - The metric is followed completely\n",
    "\n",
    "Metric:\n",
    "Relevance measures how well the answer addresses the main aspects of the question, based on the context.\n",
    "Consider whether all and only the important aspects are contained in the answer when evaluating relevance.\n",
    "\n",
    "Instructions:\n",
    "1. First write down the steps that are needed to evaluate the context as per the metric.\n",
    "2. Give a step-by-step explanation if the context adheres to the metric considering the question as the input.\n",
    "3. Next, evaluate the extent to which the metric is followed.\n",
    "4. Use the previous information to assign a single score for the answer based on the evaluation criteria. The score must range from 1 (not followed at all) to 5 (completely followed) and Avoid combining multiple scores or assigning cumulative totals.\n",
    "\"\"\""
   ]
  },
  {
   "cell_type": "code",
   "execution_count": 67,
   "metadata": {
    "id": "RLqiSn-iRwSl"
   },
   "outputs": [],
   "source": [
    "user_message_template = \"\"\"\n",
    "###Question\n",
    "{question}\n",
    "\n",
    "###Context\n",
    "{context}\n",
    "\n",
    "###Answer\n",
    "{answer}\n",
    "\"\"\""
   ]
  },
  {
   "cell_type": "code",
   "execution_count": 68,
   "metadata": {
    "id": "XIbZybyuRi2p"
   },
   "outputs": [],
   "source": [
    "def generate_ground_relevance_response(user_input,k=3,max_tokens=1200,temperature=0,top_p=0.95,top_k=50):\n",
    "    global qna_system_message,qna_user_message_template\n",
    "    # Retrieve relevant document chunks\n",
    "    relevant_document_chunks = retriever.invoke(input=user_input,k=3)\n",
    "    context_list = [d.page_content for d in relevant_document_chunks]\n",
    "    context_for_query = \". \".join(context_list)\n",
    "\n",
    "    # Combine user_prompt and system_message to create the prompt\n",
    "    prompt = f\"\"\"[INST]{qna_system_message}\\n\n",
    "                {'user'}: {qna_user_message_template.format(context=context_for_query, question=user_input)}\n",
    "                [/INST]\"\"\"\n",
    "\n",
    "    response = llm(\n",
    "            prompt=prompt,\n",
    "            max_tokens=max_tokens,\n",
    "            temperature=temperature,\n",
    "            top_p=top_p,\n",
    "            top_k=top_k,\n",
    "            stop=['INST'],\n",
    "            )\n",
    "\n",
    "    answer =  response[\"choices\"][0][\"text\"]\n",
    "\n",
    "    # Combine user_prompt and system_message to create the prompt\n",
    "    groundedness_prompt = f\"\"\"[INST]{groundedness_rater_system_message}\\n\n",
    "                {'user'}: {user_message_template.format(context=context_for_query, question=user_input, answer=answer)}\n",
    "                [/INST]\"\"\"\n",
    "\n",
    "    # Combine user_prompt and system_message to create the prompt\n",
    "    relevance_prompt = f\"\"\"[INST]{relevance_rater_system_message}\\n\n",
    "                {'user'}: {user_message_template.format(context=context_for_query, question=user_input, answer=answer)}\n",
    "                [/INST]\"\"\"\n",
    "\n",
    "    response_1 = llm(\n",
    "            prompt=groundedness_prompt,\n",
    "            max_tokens=max_tokens,\n",
    "            temperature=temperature,\n",
    "            top_p=top_p,\n",
    "            top_k=top_k,\n",
    "            stop=['INST'],\n",
    "            )\n",
    "\n",
    "    response_2 = llm(\n",
    "            prompt=relevance_prompt,\n",
    "            max_tokens=max_tokens,\n",
    "            temperature=temperature,\n",
    "            top_p=top_p,\n",
    "            top_k=top_k,\n",
    "            stop=['INST'],\n",
    "            )\n",
    "\n",
    "    return response_1['choices'][0]['text'],response_2['choices'][0]['text']"
   ]
  },
  {
   "cell_type": "markdown",
   "metadata": {
    "id": "mZ4KHA-rvRG_"
   },
   "source": [
    "### Evaluation of the content generated:"
   ]
  },
  {
   "cell_type": "markdown",
   "metadata": {
    "id": "36ggSxApv_bz"
   },
   "source": [
    "**Evaluation of Query 1**"
   ]
  },
  {
   "cell_type": "code",
   "execution_count": 69,
   "metadata": {
    "colab": {
     "base_uri": "https://localhost:8080/"
    },
    "id": "8dc2ZotPKgsu",
    "outputId": "153e26a8-69fc-4143-ac7d-20cf12dade76"
   },
   "outputs": [
    {
     "name": "stderr",
     "output_type": "stream",
     "text": [
      "Llama.generate: prefix-match hit\n",
      "Llama.generate: prefix-match hit\n",
      "Llama.generate: prefix-match hit\n"
     ]
    },
    {
     "name": "stdout",
     "output_type": "stream",
     "text": [
      "  Sure, I'd be happy to help! Here's my evaluation of the answer based on the provided context:\n",
      "\n",
      "1. Does the answer completely follow the metric?\n",
      "\n",
      "The answer provides a list of bullet points for managing sepsis in a critical care unit, but it does not fully follow the metric. The metric requires that the answer should be derived only from the information presented in the context, and the answer includes some information that is not present in the context (e.g., the mention of \"1 L\" and \"20 mL/kg\" in the bullet point about fluid resuscitation). Therefore, I would score this answer as follows:\n",
      "\n",
      "2 - The metric is followed only to a limited extent.\n",
      "\n",
      "2. Is the information presented in the answer accurate?\n",
      "\n",
      "The information presented in the answer appears to be accurate based on the provided context. However, it is important to note that the information provided is not a substitute for professional medical judgment or treatment. Therefore, I would score this answer as follows:\n",
      "\n",
      "5 - The metric is followed completely (accurate information is provided).\n",
      "\n",
      "3. Is the answer concise and well-organized?\n",
      "\n",
      "The answer is somewhat concise, but it could be more organized. The bullet points are not clearly labeled or grouped, which makes it difficult to follow the flow of the information. Therefore, I would score this answer as follows:\n",
      "\n",
      "3 - The answer is mostly concise and well-organized (some improvements could be made in terms of labeling and organization).\n",
      "\n",
      "Based on these scores, I would assign a final score of 2.5 to this answer.\n",
      "\n",
      "  Sure, I'd be happy to help! Here's my evaluation of the answer based on the provided context:\n",
      "\n",
      "1. Relevance: The answer addresses all aspects of the question related to managing sepsis in a critical care unit. It provides specific protocols for investigating alarms from complex devices, routine daily blood tests, and treatment options such as fluid resuscitation and antibiotics. The answer is relevant to the question and covers all important aspects of sepsis management.\n",
      "\n",
      "2. Completeness: The answer is complete in terms of providing a comprehensive overview of managing sepsis in a critical care unit. It covers various aspects such as monitoring, diagnosis, treatment options, and prevention of complications. However, it does not provide specific details on the latest research or evidence-based practices related to sepsis management.\n",
      "\n",
      "3. Accuracy: The answer appears to be accurate based on the provided context. It provides standard protocols and best practices for managing sepsis in a critical care unit, which are supported by scientific evidence and widely accepted in the medical community. However, it is important to note that medical knowledge and practices are constantly evolving, and the latest research may provide additional insights or alternative approaches to sepsis management.\n",
      "\n",
      "4. Clarity: The answer is clear and concise, providing bullet points for easy reference. It uses technical terms and medical jargon appropriately, making it understandable to a medical professional familiar with critical care medicine. However, the answer may not be easily comprehensible to a layperson or someone without medical training.\n",
      "\n",
      "5. Completeness of the answer: 5 (completely followed)\n",
      "\n",
      "Based on the provided context, I would assign a score of 5 (completely followed) to the answer. The answer provides a comprehensive overview of managing sepsis in a critical care unit, covering all important aspects such as monitoring, diagnosis, treatment options, and prevention of complications. While it does not provide specific details on the latest research or evidence-based practices related to sepsis management, it appears to be accurate based on the provided context and widely accepted in the medical community.\n"
     ]
    }
   ],
   "source": [
    "user_input = \"What is the protocol for managing sepsis in a critical care unit?\"\n",
    "ground,rel = generate_ground_relevance_response(user_input,max_tokens=2000)\n",
    "\n",
    "print(ground,end=\"\\n\\n\")\n",
    "print(rel)"
   ]
  },
  {
   "cell_type": "markdown",
   "metadata": {
    "id": "8IACvq-6XRtB"
   },
   "source": [
    "# Observations for Query 1\n",
    "\n",
    "- **Groundedness Score: 2.5**  \n",
    "  The answer derived from the context is to limited extent.\n",
    "\n",
    "- **Relevance Score: 5**  \n",
    "  The answer is highly relevant, addressing all critical aspects of the question with a comprehensive and focused response.\n",
    "\n",
    "- **Overall:** The groundedness score reflects that the response includes all relevant information from the provided context but also incorporates extra details to synthesize a comprehensive protocol. While this can enhance clarity and usefulness, it might slightly detract from the perception of being strictly grounded in the source material."
   ]
  },
  {
   "cell_type": "markdown",
   "metadata": {
    "id": "CeMCjpV3wOzX"
   },
   "source": [
    "**Evaluation of Query 2**"
   ]
  },
  {
   "cell_type": "code",
   "execution_count": 70,
   "metadata": {
    "colab": {
     "base_uri": "https://localhost:8080/"
    },
    "id": "d1AgtRe3VszA",
    "outputId": "9c61fc68-3f18-46c0-d3c9-27d8220aa805"
   },
   "outputs": [
    {
     "name": "stderr",
     "output_type": "stream",
     "text": [
      "Llama.generate: prefix-match hit\n",
      "Llama.generate: prefix-match hit\n",
      "Llama.generate: prefix-match hit\n"
     ]
    },
    {
     "name": "stdout",
     "output_type": "stream",
     "text": [
      "  Sure! Here's my evaluation of the answer based on the provided context:\n",
      "\n",
      "Step 1: Evaluate if the answer is derived only from the information presented in the context.\n",
      "\n",
      "Yes, the answer is derived only from the information presented in the context. The answer does not include any external or personal knowledge and is based solely on the information provided in the Merck Manual of Diagnosis & Therapy.\n",
      "\n",
      "Step 2: Evaluate the extent to which the metric is followed.\n",
      "\n",
      "The answer follows the metric completely. The answer provides a detailed description of the common symptoms of appendicitis, and the surgical procedure for treating it, which is based solely on the information presented in the context.\n",
      "\n",
      "Step 3: Use the previous information to assign a single score for the answer based on the evaluation criteria.\n",
      "\n",
      "Based on the evaluation criteria, I would assign a score of 5 (completely followed) to the answer. The answer thoroughly follows the metric and provides a detailed description of the common symptoms of appendicitis and the surgical procedure for treating it, which is based solely on the information presented in the context.\n",
      "\n",
      "  Sure! Here's my evaluation based on the provided context:\n",
      "\n",
      "Step 1: Evaluate the context for relevance.\n",
      "The context provides a detailed overview of appendicitis, including its etiology, symptoms, signs, diagnosis, and treatment options. The information is relevant to the question as it provides a comprehensive understanding of the condition and its management.\n",
      "\n",
      "Step 2: Evaluate the answer for relevance.\n",
      "The answer addresses all aspects of the question, providing a thorough explanation of appendicitis and its treatment options. The answer is relevant to the context and covers all the necessary information.\n",
      "\n",
      "Step 3: Evaluate the extent to which the metric is followed.\n",
      "The answer follows the metric completely, as it provides a detailed explanation of appendicitis and its treatment options based on the provided context. The answer does not omit any important aspects of the condition or its management.\n",
      "\n",
      "Based on the above evaluation, I would assign a score of 5 (completely followed) to the answer. The answer thoroughly addresses all aspects of the question and provides a comprehensive understanding of appendicitis and its treatment options based on the provided context.\n"
     ]
    }
   ],
   "source": [
    "user_input = \"What are the common symptoms for appendicitis, and can it be cured via medicine? If not, what surgical procedure should be followed to treat it?\"\n",
    "ground,rel = generate_ground_relevance_response(user_input,max_tokens=2000)\n",
    "\n",
    "print(ground,end=\"\\n\\n\")\n",
    "print(rel)"
   ]
  },
  {
   "cell_type": "markdown",
   "metadata": {
    "id": "J6PTMCpCXBX5"
   },
   "source": [
    "# Observations Query 2\n",
    "\n",
    "- **Groundedness Score: 5**  \n",
    "  The answer strictly adheres to the context, using only the information provided to address the question.\n",
    "\n",
    "- **Relevance Score: 5**  \n",
    "  The answer comprehensively addresses all aspects of the question, providing a thorough explanation relevant to the context.\n",
    "- **Overall:** the answer is well-grounded and highly relevant."
   ]
  },
  {
   "cell_type": "markdown",
   "metadata": {
    "id": "jwJsq9vawZjQ"
   },
   "source": [
    "**Evaluation of Query 3**"
   ]
  },
  {
   "cell_type": "code",
   "execution_count": 71,
   "metadata": {
    "colab": {
     "base_uri": "https://localhost:8080/"
    },
    "id": "lSrRE1zCVv9y",
    "outputId": "ba248322-2cef-4fc2-b2bb-03afb64e2bd1"
   },
   "outputs": [
    {
     "name": "stderr",
     "output_type": "stream",
     "text": [
      "Llama.generate: prefix-match hit\n",
      "Llama.generate: prefix-match hit\n",
      "Llama.generate: prefix-match hit\n"
     ]
    },
    {
     "name": "stdout",
     "output_type": "stream",
     "text": [
      "  Sure, I'd be happy to help evaluate the answer based on the provided context and criteria! Here are the steps to follow:\n",
      "\n",
      "Step 1: Evaluate if the answer is derived only from the information presented in the context.\n",
      "\n",
      "The answer provides a list of possible effective treatments or solutions for addressing sudden patchy hair loss, including minoxidil, finasteride, corticosteroids, retinoids, and immunotherapy. All of these treatments are mentioned in the provided context, so the answer passes this step.\n",
      "\n",
      "Step 2: Evaluate if the answer is complete and comprehensive.\n",
      "\n",
      "The answer provides a list of possible causes of sudden patchy hair loss, including androgenetic alopecia, alopecia areata, lichen planopilaris, chronic cutaneous lupus lesions, telogen effluvium, and anagen effluvium. It also mentions possible treatments for each cause. However, the answer does not provide any information on the diagnosis process or how to determine the underlying cause of hair loss. Therefore, the answer is partially complete but could be improved with more information on diagnosis and treatment options.\n",
      "\n",
      "Step 3: Evaluate if the answer is accurate and reliable.\n",
      "\n",
      "The answer provides accurate information about possible causes and treatments for sudden patchy hair loss based on the provided context. However, it does not provide any references or sources to support the information, which could be a limitation. Additionally, some of the information may be outdated or not applicable to all cases of hair loss. Therefore, the answer is mostly accurate but could benefit from more up-to-date and comprehensive information.\n",
      "\n",
      "Step 4: Evaluate the extent to which the metric is followed.\n",
      "\n",
      "Based on the provided context, the answer follows the metric of being derived only from the information presented in the context. However, the answer does not fully address all possible causes and treatments for sudden patchy hair loss, which could be improved. Additionally, the answer does not provide any references or sources to support the information, which could be a limitation.\n",
      "\n",
      "Step 5: Assign a score based on the evaluation criteria.\n",
      "\n",
      "Based on the evaluation, I would assign a score of 3 out of 5, as the answer is mostly accurate and complete but could benefit from more up-to-date and comprehensive information, as well as references or sources to support the information. Additionally, the answer could be improved with more information on diagnosis and treatment options.\n",
      "\n",
      "  Sure, I'd be happy to help evaluate the answer based on the provided context! Here are the steps to follow:\n",
      "\n",
      "Step 1: Evaluate the relevance of the answer to the question.\n",
      "\n",
      "The question asks about effective treatments or solutions for addressing sudden patchy hair loss, and the answer provides a list of possible treatments and their mechanisms of action. The answer is relevant to the question as it directly addresses the main aspects of the question.\n",
      "\n",
      "Step 2: Evaluate the context adherence.\n",
      "\n",
      "The answer begins by acknowledging the provided context and then proceeds to provide information on possible causes and treatments for sudden patchy hair loss. The answer is well-structured and easy to follow, with each point clearly labeled and explained. The answer also provides examples of specific medications and their mechanisms of action, which demonstrates a good understanding of the context.\n",
      "\n",
      "Step 3: Evaluate the extent to which the metric is followed.\n",
      "\n",
      "The answer provides a comprehensive list of possible causes and treatments for sudden patchy hair loss, and each point is well-supported by evidence from the provided context. The answer also acknowledges the limitations of the available information and encourages further research or consultation with a healthcare professional. Overall, the answer follows the metric to a good extent, as it provides relevant information that addresses the main aspects of the question while acknowledging any limitations.\n",
      "\n",
      "Step 4: Assign a score based on the evaluation criteria.\n",
      "\n",
      "Based on the evaluation criteria, I would assign a score of 4 (mostly followed) to the answer. The answer provides a comprehensive list of possible causes and treatments for sudden patchy hair loss, and each point is well-supported by evidence from the provided context. However, the answer could have been improved by providing more specific advice or recommendations based on the individual's specific situation.\n",
      "\n",
      "Therefore, the final score for the answer would be 4 (mostly followed).\n"
     ]
    }
   ],
   "source": [
    "user_input = \"What are the effective treatments or solutions for addressing sudden patchy hair loss, commonly seen as localized bald spots on the scalp, and what could be the possible causes behind it?\"\n",
    "ground,rel = generate_ground_relevance_response(user_input,max_tokens=2500)\n",
    "\n",
    "print(ground,end=\"\\n\\n\")\n",
    "print(rel)"
   ]
  },
  {
   "cell_type": "markdown",
   "metadata": {
    "id": "K0ZiHMU-WvPJ"
   },
   "source": [
    "# Observations on Query 3\n",
    "\n",
    "- **Groundedness Score: 3**  \n",
    "  The answer is moderately grounded, integrating relevant points but including synthesized details beyond the direct context.\n",
    "\n",
    "- **Relevance Score:** 4  \n",
    "  The answer is relevant, addressing the question well but with room for improvement in specificity.\n",
    "\n",
    "- **Overall:**\n",
    "The answer is well-structured and relevant, but the inclusion of inferred details affects its strict adherence to the provided context.\n"
   ]
  },
  {
   "cell_type": "markdown",
   "metadata": {
    "id": "A1Ct9jWnwjMg"
   },
   "source": [
    "**Evaluation of Query 4**"
   ]
  },
  {
   "cell_type": "code",
   "execution_count": 72,
   "metadata": {
    "colab": {
     "base_uri": "https://localhost:8080/"
    },
    "id": "FSof2bzcVwfh",
    "outputId": "82e9328d-28d9-4006-91ab-c85f2d76448d"
   },
   "outputs": [
    {
     "name": "stderr",
     "output_type": "stream",
     "text": [
      "Llama.generate: prefix-match hit\n",
      "Llama.generate: prefix-match hit\n",
      "Llama.generate: prefix-match hit\n"
     ]
    },
    {
     "name": "stdout",
     "output_type": "stream",
     "text": [
      "  Sure, I'd be happy to help you evaluate the answer! Here are the steps we can follow:\n",
      "\n",
      "Step 1: Identify the information presented in the context that should be used to derive the answer.\n",
      "\n",
      "The context provides information about the types of injuries that can occur to the brain, the potential complications and outcomes, and the importance of early intervention and supportive care.\n",
      "\n",
      "Step 2: Determine if the answer is derived only from the information presented in the context.\n",
      "\n",
      "The answer mentions supportive care, rehabilitation therapy, cognitive therapy, physical therapy, and surgery as possible treatments for a person with a brain injury. All of these treatments are mentioned in the context, so the answer is derived only from the information presented.\n",
      "\n",
      "Step 3: Evaluate the extent to which the metric is followed.\n",
      "\n",
      "The answer provides a list of possible treatments for a person with a brain injury, and all of the treatments are based on the information presented in the context. The answer does not include any information that is not present in the context, so the metric is followed to a good extent.\n",
      "\n",
      "Based on the above evaluation, I would score the answer as 4 - The metric is followed mostly.\n",
      "\n",
      "  Sure, I can help you evaluate the answer based on the provided context. Here are the steps to follow:\n",
      "\n",
      "Step 1: Identify the main aspects of the question that need to be addressed in the answer.\n",
      "\n",
      "The question is asking for possible treatments for a person who has sustained a physical injury to brain tissue, resulting in temporary or permanent impairment of brain function. The main aspects of the question are:\n",
      "\n",
      "* The type of injury (physical injury to brain tissue)\n",
      "* The severity of the injury (temporary or permanent impairment of brain function)\n",
      "* The desired outcome (treatments for the injury)\n",
      "\n",
      "Step 2: Evaluate how well the answer addresses each of these main aspects.\n",
      "\n",
      "The answer provides a list of possible treatments for the injury, including supportive care, rehabilitation therapy, cognitive therapy, physical therapy, and surgery. The answer addresses all three main aspects of the question:\n",
      "\n",
      "* Type of injury: The answer mentions \"physical injury to brain tissue\" as one of the possible treatments.\n",
      "* Severity of injury: The answer acknowledges that the injury can be temporary or permanent, and provides a range of treatments that may be appropriate depending on the severity of the injury.\n",
      "* Desired outcome: The answer lists several possible treatments that could help improve brain function and prevent complications.\n",
      "\n",
      "Step 3: Assign a score based on how well the answer addresses each aspect of the question.\n",
      "\n",
      "Based on the evaluation in Step 2, I would assign the following scores:\n",
      "\n",
      "* Relevance (how well the answer addresses the main aspects of the question): 5/5\n",
      "* Completeness (whether all important aspects are contained in the answer): 4/5 (the answer could have provided more detail on the specific types of supportive care and rehabilitation therapy that may be recommended)\n",
      "* Accuracy (whether the information in the answer is accurate and up-to-date): 4/5 (the answer provides generally accurate information, but does not provide any references or sources to support the information)\n",
      "\n",
      "Overall, I would assign a score of 4.5/5 for the answer based on how well it addresses the main aspects of the question.\n"
     ]
    }
   ],
   "source": [
    "user_input = \"What treatments are recommended for a person who has sustained a physical injury to brain tissue, resulting in temporary or permanent impairment of brain function?\"\n",
    "ground,rel = generate_ground_relevance_response(user_input,max_tokens=2000)\n",
    "\n",
    "print(ground,end=\"\\n\\n\")\n",
    "print(rel)"
   ]
  },
  {
   "cell_type": "markdown",
   "metadata": {
    "id": "8vX4R6BCZE_w"
   },
   "source": [
    "# Observations for Query 4\n",
    "\n",
    "- **Groundedness Score: 4**  \n",
    "  The answer mostly follows the context by including treatments explicitly mentioned.\n",
    "\n",
    "- **Relevance Score:** 4.5  \n",
    "  The answer is highly relevant, addressing the question comprehensively while demonstrating completeness and accuracy.\n",
    "  \n",
    "- **Overall Score: 4**  \n",
    "The answer aligns well with the context and addresses the question thoroughly, with minor areas for improvement in detail.  \n"
   ]
  },
  {
   "cell_type": "markdown",
   "metadata": {
    "id": "v3UjGUV_wonn"
   },
   "source": [
    "**Evaluation of Query 5**"
   ]
  },
  {
   "cell_type": "code",
   "execution_count": 73,
   "metadata": {
    "colab": {
     "base_uri": "https://localhost:8080/"
    },
    "id": "EehsW2U2Vy_j",
    "outputId": "4900a11e-3487-4473-fb85-90000d6834f3"
   },
   "outputs": [
    {
     "name": "stderr",
     "output_type": "stream",
     "text": [
      "Llama.generate: prefix-match hit\n",
      "Llama.generate: prefix-match hit\n",
      "Llama.generate: prefix-match hit\n"
     ]
    },
    {
     "name": "stdout",
     "output_type": "stream",
     "text": [
      "  Sure! I'd be happy to help you evaluate the answer based on the given criteria. Here are the steps to follow:\n",
      "\n",
      "Step 1: Evaluate the extent to which the metric is followed for each part of the answer.\n",
      "\n",
      "The metric is \"The answer should be derived only from the information presented in the context.\"\n",
      "\n",
      "Part A: Title\n",
      "The title is a good summary of the main points, but it does not directly address the question. Score: 2 (not fully followed)\n",
      "\n",
      "Part B: Bullet Points\n",
      "Each bullet point addresses a specific aspect of the question and is derived directly from the information presented in the context. Score: 5 (fully followed)\n",
      "\n",
      "Step 2: Evaluate the answer as a whole based on the extent to which it follows the metric.\n",
      "\n",
      "Based on the evaluation of the parts, the overall score for the answer is 4 (mostly followed). The answer provides a clear and concise summary of the main points related to the question, but could improve by directly addressing the question in the title.\n",
      "\n",
      "Therefore, I would assign a score of 4 (mostly followed) based on the given criteria.\n",
      "\n",
      "  Sure! I'd be happy to help you evaluate the answer based on the given criteria. Here are the steps I will follow:\n",
      "\n",
      "Step 1: Evaluate the context for relevance.\n",
      "\n",
      "The context provides information about the evaluation criteria and the task at hand, which is to judge the extent to which the answer addresses the main aspects of the question based on the context. The context also specifies the metric to be used for evaluation, which is relevance. Therefore, the context is relevant to the task and the answer.\n",
      "\n",
      "Step 2: Evaluate the answer for relevance.\n",
      "\n",
      "Based on the given answer, it appears to address all the main aspects of the question. The answer provides a list of precautions and treatment steps for a person who has fractured their leg during a hiking trip, including immobilization, pain management, reduction, closed injuries, evaluation, rehabilitation, monitoring, and follow-up care. All these aspects are relevant to the question and are covered in the answer.\n",
      "\n",
      "Step 3: Evaluate the extent to which the metric is followed.\n",
      "\n",
      "Based on the answer provided, it appears that the metric of relevance is fully followed. The answer provides a comprehensive list of precautions and treatment steps for a fractured leg, covering all the relevant aspects of the question. Therefore, the answer scores a 5 out of 5 in terms of relevance.\n",
      "\n",
      "Overall, based on the given criteria and the answer provided, I would score the answer as a 5 out of 5 in terms of relevance. The answer fully addresses all the main aspects of the question and covers all the relevant topics related to fractured legs.\n"
     ]
    }
   ],
   "source": [
    "user_input = \"What are the necessary precautions and treatment steps for a person who has fractured their leg during a hiking trip, and what should be considered for their care and recovery?\"\n",
    "ground,rel = generate_ground_relevance_response(user_input,max_tokens=2000)\n",
    "\n",
    "print(ground,end=\"\\n\\n\")\n",
    "print(rel)"
   ]
  },
  {
   "cell_type": "markdown",
   "metadata": {
    "id": "n2x9pBggZ1LZ"
   },
   "source": [
    "# Observations on Query 5\n",
    "\n",
    "- **Groundedness:** 4  \n",
    "  The answer is mostly derived from the provided context, though the title lacks direct focus on the question.\n",
    "\n",
    "- **Relevance:** 5  \n",
    "  The answer fully addresses the key aspects of the question with comprehensive and relevant details.\n",
    "\n",
    "- **Overall:** the answer is well-grounded and highly relevant, with minor improvement needed in the title's specificity.*\n"
   ]
  },
  {
   "cell_type": "markdown",
   "metadata": {
    "id": "ae4aNzZAL5h7"
   },
   "source": [
    "# Observations on Evaluation of Queries:\n",
    "\n",
    "- The **Relevance Scores** for all queries showed only minor variations, mostly ranging between **4 and 5**, indicating that the answers are consistently well-aligned with the given contexts.\n",
    "\n",
    "- However, the **Groundedness Scores** exhibited greater variation, ranging from **2.5 to 5**, even for queries with high relevance scores. This indicates that while the answers are rooted in the context, they occasionally include synthesized or extra information beyond the provided material.\n",
    "\n",
    "- This pattern reflects that the **LLM with RAG (Retrieval-Augmented Generation)** is proficient at addressing the main aspects of the questions effectively. Minor adjustments, such as stricter adherence to the given context, could further enhance groundedness and reduce unnecessary extrapolation.\n"
   ]
  },
  {
   "cell_type": "markdown",
   "metadata": {
    "id": "Y7QICRU-njdj"
   },
   "source": [
    "# Actionable Insights and Business Recommendations:\n",
    "1. **Scalability of Vector Databases:**  \n",
    "Vector database creation time scales with the number of pages in medical manuals, emphasizing the need for efficient handling of larger datasets\n",
    "\n",
    "2. **Leveraging Advanced Embedding Models:**  \n",
    "Employing high-capacity embedding models can enhance retrieval precision, ensuring nuanced and contextually relevant answers in medical applications.\n",
    "\n",
    "3. **Importance of Retrieval Parameter `k`:**  \n",
    "Tuning the retrieval parameter `k` is essential to capture answers spanning multiple contexts in complex medical queries.\n",
    "\n",
    "4. **Role of Chunk Overlap:**\n",
    "Chunk overlap is vital for maintaining coherence, especially when processing sequential medical information across text chunks.\n",
    "\n",
    "5. **Optimizing Max Tokens for Queries:**  \n",
    "Max tokens should align with query complexity; longer outputs suit detailed medical procedures, while concise answers benefit from careful prompt optimization.\n",
    "\n",
    "6. **Refining Prompt Design and Temperature:**  \n",
    "Adjusting prompt design and temperature settings helps balance the creativity and length of responses tailored to specific healthcare scenarios.\n",
    "\n",
    "7. **Dynamic Adjustment of RAG Parameters:**  \n",
    "Adapting RAG parameters to healthcare needs improves the relevance and accuracy of generated responses.\n",
    "\n",
    "8. **Feedback-Driven Iterative Improvement:**  \n",
    "Creating a feedback loop involving healthcare professionals ensures continuous refinement of system performance and reliability.\n"
   ]
  }
 ],
 "metadata": {
  "accelerator": "GPU",
  "colab": {
   "gpuType": "T4",
   "provenance": []
  },
  "kernel_info": {
   "name": "python310-sdkv2"
  },
  "kernelspec": {
   "display_name": "Python 3 (ipykernel)",
   "language": "python",
   "name": "python3"
  },
  "language_info": {
   "codemirror_mode": {
    "name": "ipython",
    "version": 3
   },
   "file_extension": ".py",
   "mimetype": "text/x-python",
   "name": "python",
   "nbconvert_exporter": "python",
   "pygments_lexer": "ipython3",
   "version": "3.12.7"
  },
  "microsoft": {
   "host": {
    "AzureML": {
     "notebookHasBeenCompleted": true
    }
   },
   "ms_spell_check": {
    "ms_spell_check_language": "en"
   }
  },
  "nteract": {
   "version": "nteract-front-end@1.0.0"
  },
  "widgets": {
   "application/vnd.jupyter.widget-state+json": {
    "045348c2dd754b9494bdbaacd2b529c9": {
     "model_module": "@jupyter-widgets/controls",
     "model_module_version": "1.5.0",
     "model_name": "HTMLModel",
     "state": {
      "_dom_classes": [],
      "_model_module": "@jupyter-widgets/controls",
      "_model_module_version": "1.5.0",
      "_model_name": "HTMLModel",
      "_view_count": null,
      "_view_module": "@jupyter-widgets/controls",
      "_view_module_version": "1.5.0",
      "_view_name": "HTMLView",
      "description": "",
      "description_tooltip": null,
      "layout": "IPY_MODEL_3e3b0d6ef27d4944b20996f151851f64",
      "placeholder": "​",
      "style": "IPY_MODEL_3ca3a5315b7f40b6b3ad5d936a15fb64",
      "value": "config_sentence_transformers.json: 100%"
     }
    },
    "056cda2e9df54245b0602d862f55608c": {
     "model_module": "@jupyter-widgets/base",
     "model_module_version": "1.2.0",
     "model_name": "LayoutModel",
     "state": {
      "_model_module": "@jupyter-widgets/base",
      "_model_module_version": "1.2.0",
      "_model_name": "LayoutModel",
      "_view_count": null,
      "_view_module": "@jupyter-widgets/base",
      "_view_module_version": "1.2.0",
      "_view_name": "LayoutView",
      "align_content": null,
      "align_items": null,
      "align_self": null,
      "border": null,
      "bottom": null,
      "display": null,
      "flex": null,
      "flex_flow": null,
      "grid_area": null,
      "grid_auto_columns": null,
      "grid_auto_flow": null,
      "grid_auto_rows": null,
      "grid_column": null,
      "grid_gap": null,
      "grid_row": null,
      "grid_template_areas": null,
      "grid_template_columns": null,
      "grid_template_rows": null,
      "height": null,
      "justify_content": null,
      "justify_items": null,
      "left": null,
      "margin": null,
      "max_height": null,
      "max_width": null,
      "min_height": null,
      "min_width": null,
      "object_fit": null,
      "object_position": null,
      "order": null,
      "overflow": null,
      "overflow_x": null,
      "overflow_y": null,
      "padding": null,
      "right": null,
      "top": null,
      "visibility": null,
      "width": null
     }
    },
    "0687839e69ed4dadac52ba423f18faae": {
     "model_module": "@jupyter-widgets/controls",
     "model_module_version": "1.5.0",
     "model_name": "HBoxModel",
     "state": {
      "_dom_classes": [],
      "_model_module": "@jupyter-widgets/controls",
      "_model_module_version": "1.5.0",
      "_model_name": "HBoxModel",
      "_view_count": null,
      "_view_module": "@jupyter-widgets/controls",
      "_view_module_version": "1.5.0",
      "_view_name": "HBoxView",
      "box_style": "",
      "children": [
       "IPY_MODEL_c757f95500bd4775a69d26811e816643",
       "IPY_MODEL_89d2b5cd440c491486bb7a8a3789b968",
       "IPY_MODEL_288f8c4821794043a00180e41442f135"
      ],
      "layout": "IPY_MODEL_7fa2870830a84087970a92c803eb7ff3"
     }
    },
    "071f7926d6e74779835481b342715584": {
     "model_module": "@jupyter-widgets/base",
     "model_module_version": "1.2.0",
     "model_name": "LayoutModel",
     "state": {
      "_model_module": "@jupyter-widgets/base",
      "_model_module_version": "1.2.0",
      "_model_name": "LayoutModel",
      "_view_count": null,
      "_view_module": "@jupyter-widgets/base",
      "_view_module_version": "1.2.0",
      "_view_name": "LayoutView",
      "align_content": null,
      "align_items": null,
      "align_self": null,
      "border": null,
      "bottom": null,
      "display": null,
      "flex": null,
      "flex_flow": null,
      "grid_area": null,
      "grid_auto_columns": null,
      "grid_auto_flow": null,
      "grid_auto_rows": null,
      "grid_column": null,
      "grid_gap": null,
      "grid_row": null,
      "grid_template_areas": null,
      "grid_template_columns": null,
      "grid_template_rows": null,
      "height": null,
      "justify_content": null,
      "justify_items": null,
      "left": null,
      "margin": null,
      "max_height": null,
      "max_width": null,
      "min_height": null,
      "min_width": null,
      "object_fit": null,
      "object_position": null,
      "order": null,
      "overflow": null,
      "overflow_x": null,
      "overflow_y": null,
      "padding": null,
      "right": null,
      "top": null,
      "visibility": null,
      "width": null
     }
    },
    "07271c06d5b143e49e2392d297b9d2c5": {
     "model_module": "@jupyter-widgets/controls",
     "model_module_version": "1.5.0",
     "model_name": "HTMLModel",
     "state": {
      "_dom_classes": [],
      "_model_module": "@jupyter-widgets/controls",
      "_model_module_version": "1.5.0",
      "_model_name": "HTMLModel",
      "_view_count": null,
      "_view_module": "@jupyter-widgets/controls",
      "_view_module_version": "1.5.0",
      "_view_name": "HTMLView",
      "description": "",
      "description_tooltip": null,
      "layout": "IPY_MODEL_88f6f824429742eea1dc0790dd74f6cf",
      "placeholder": "​",
      "style": "IPY_MODEL_2ecb7a0875a04fea9681f3958149e6f6",
      "value": " 90.9M/90.9M [00:00&lt;00:00, 167MB/s]"
     }
    },
    "07a21daf2ec6481faa995b7dfddc1cea": {
     "model_module": "@jupyter-widgets/controls",
     "model_module_version": "1.5.0",
     "model_name": "ProgressStyleModel",
     "state": {
      "_model_module": "@jupyter-widgets/controls",
      "_model_module_version": "1.5.0",
      "_model_name": "ProgressStyleModel",
      "_view_count": null,
      "_view_module": "@jupyter-widgets/base",
      "_view_module_version": "1.2.0",
      "_view_name": "StyleView",
      "bar_color": null,
      "description_width": ""
     }
    },
    "0b5bb73b78b9483aa762d4b3c6e913a3": {
     "model_module": "@jupyter-widgets/controls",
     "model_module_version": "1.5.0",
     "model_name": "HBoxModel",
     "state": {
      "_dom_classes": [],
      "_model_module": "@jupyter-widgets/controls",
      "_model_module_version": "1.5.0",
      "_model_name": "HBoxModel",
      "_view_count": null,
      "_view_module": "@jupyter-widgets/controls",
      "_view_module_version": "1.5.0",
      "_view_name": "HBoxView",
      "box_style": "",
      "children": [
       "IPY_MODEL_f1549f263c3a4f189493f90c2bc4c8c0",
       "IPY_MODEL_c0bd6823cdec49f2b5bf035e4087def0",
       "IPY_MODEL_3aa2a855c5ae4707b38e615a6314a6c8"
      ],
      "layout": "IPY_MODEL_1bbe1cd504ca424f88d9d100a1a2d20b"
     }
    },
    "0c7076ce0f214096ad8341a2012d64a5": {
     "model_module": "@jupyter-widgets/controls",
     "model_module_version": "1.5.0",
     "model_name": "ProgressStyleModel",
     "state": {
      "_model_module": "@jupyter-widgets/controls",
      "_model_module_version": "1.5.0",
      "_model_name": "ProgressStyleModel",
      "_view_count": null,
      "_view_module": "@jupyter-widgets/base",
      "_view_module_version": "1.2.0",
      "_view_name": "StyleView",
      "bar_color": null,
      "description_width": ""
     }
    },
    "1145c14cf36e406dbf29d33a7a0e210f": {
     "model_module": "@jupyter-widgets/controls",
     "model_module_version": "1.5.0",
     "model_name": "DescriptionStyleModel",
     "state": {
      "_model_module": "@jupyter-widgets/controls",
      "_model_module_version": "1.5.0",
      "_model_name": "DescriptionStyleModel",
      "_view_count": null,
      "_view_module": "@jupyter-widgets/base",
      "_view_module_version": "1.2.0",
      "_view_name": "StyleView",
      "description_width": ""
     }
    },
    "14ae945ea8984d7aa3299cc4fbab211c": {
     "model_module": "@jupyter-widgets/controls",
     "model_module_version": "1.5.0",
     "model_name": "DescriptionStyleModel",
     "state": {
      "_model_module": "@jupyter-widgets/controls",
      "_model_module_version": "1.5.0",
      "_model_name": "DescriptionStyleModel",
      "_view_count": null,
      "_view_module": "@jupyter-widgets/base",
      "_view_module_version": "1.2.0",
      "_view_name": "StyleView",
      "description_width": ""
     }
    },
    "158d1cf30b3044f18d10b947c4abe8cb": {
     "model_module": "@jupyter-widgets/controls",
     "model_module_version": "1.5.0",
     "model_name": "ProgressStyleModel",
     "state": {
      "_model_module": "@jupyter-widgets/controls",
      "_model_module_version": "1.5.0",
      "_model_name": "ProgressStyleModel",
      "_view_count": null,
      "_view_module": "@jupyter-widgets/base",
      "_view_module_version": "1.2.0",
      "_view_name": "StyleView",
      "bar_color": null,
      "description_width": ""
     }
    },
    "187ebc6307a74b5684a90b6ea5832024": {
     "model_module": "@jupyter-widgets/controls",
     "model_module_version": "1.5.0",
     "model_name": "FloatProgressModel",
     "state": {
      "_dom_classes": [],
      "_model_module": "@jupyter-widgets/controls",
      "_model_module_version": "1.5.0",
      "_model_name": "FloatProgressModel",
      "_view_count": null,
      "_view_module": "@jupyter-widgets/controls",
      "_view_module_version": "1.5.0",
      "_view_name": "ProgressView",
      "bar_style": "success",
      "description": "",
      "description_tooltip": null,
      "layout": "IPY_MODEL_4a7fc260998b4525bb7d54a6112119cd",
      "max": 90868376,
      "min": 0,
      "orientation": "horizontal",
      "style": "IPY_MODEL_1f3c0921e41b4105963a5104e8abede8",
      "value": 90868376
     }
    },
    "1ae7bacd6b4b40f2951c2c8db92f657f": {
     "model_module": "@jupyter-widgets/controls",
     "model_module_version": "1.5.0",
     "model_name": "DescriptionStyleModel",
     "state": {
      "_model_module": "@jupyter-widgets/controls",
      "_model_module_version": "1.5.0",
      "_model_name": "DescriptionStyleModel",
      "_view_count": null,
      "_view_module": "@jupyter-widgets/base",
      "_view_module_version": "1.2.0",
      "_view_name": "StyleView",
      "description_width": ""
     }
    },
    "1b24ec0019d94749a2013c85cbf2d44e": {
     "model_module": "@jupyter-widgets/controls",
     "model_module_version": "1.5.0",
     "model_name": "FloatProgressModel",
     "state": {
      "_dom_classes": [],
      "_model_module": "@jupyter-widgets/controls",
      "_model_module_version": "1.5.0",
      "_model_name": "FloatProgressModel",
      "_view_count": null,
      "_view_module": "@jupyter-widgets/controls",
      "_view_module_version": "1.5.0",
      "_view_name": "ProgressView",
      "bar_style": "success",
      "description": "",
      "description_tooltip": null,
      "layout": "IPY_MODEL_ec5c245f50e14cb7b7c7646e189812af",
      "max": 349,
      "min": 0,
      "orientation": "horizontal",
      "style": "IPY_MODEL_158d1cf30b3044f18d10b947c4abe8cb",
      "value": 349
     }
    },
    "1b322d13362645678fcf3a77301f5220": {
     "model_module": "@jupyter-widgets/base",
     "model_module_version": "1.2.0",
     "model_name": "LayoutModel",
     "state": {
      "_model_module": "@jupyter-widgets/base",
      "_model_module_version": "1.2.0",
      "_model_name": "LayoutModel",
      "_view_count": null,
      "_view_module": "@jupyter-widgets/base",
      "_view_module_version": "1.2.0",
      "_view_name": "LayoutView",
      "align_content": null,
      "align_items": null,
      "align_self": null,
      "border": null,
      "bottom": null,
      "display": null,
      "flex": null,
      "flex_flow": null,
      "grid_area": null,
      "grid_auto_columns": null,
      "grid_auto_flow": null,
      "grid_auto_rows": null,
      "grid_column": null,
      "grid_gap": null,
      "grid_row": null,
      "grid_template_areas": null,
      "grid_template_columns": null,
      "grid_template_rows": null,
      "height": null,
      "justify_content": null,
      "justify_items": null,
      "left": null,
      "margin": null,
      "max_height": null,
      "max_width": null,
      "min_height": null,
      "min_width": null,
      "object_fit": null,
      "object_position": null,
      "order": null,
      "overflow": null,
      "overflow_x": null,
      "overflow_y": null,
      "padding": null,
      "right": null,
      "top": null,
      "visibility": null,
      "width": null
     }
    },
    "1bbe1cd504ca424f88d9d100a1a2d20b": {
     "model_module": "@jupyter-widgets/base",
     "model_module_version": "1.2.0",
     "model_name": "LayoutModel",
     "state": {
      "_model_module": "@jupyter-widgets/base",
      "_model_module_version": "1.2.0",
      "_model_name": "LayoutModel",
      "_view_count": null,
      "_view_module": "@jupyter-widgets/base",
      "_view_module_version": "1.2.0",
      "_view_name": "LayoutView",
      "align_content": null,
      "align_items": null,
      "align_self": null,
      "border": null,
      "bottom": null,
      "display": null,
      "flex": null,
      "flex_flow": null,
      "grid_area": null,
      "grid_auto_columns": null,
      "grid_auto_flow": null,
      "grid_auto_rows": null,
      "grid_column": null,
      "grid_gap": null,
      "grid_row": null,
      "grid_template_areas": null,
      "grid_template_columns": null,
      "grid_template_rows": null,
      "height": null,
      "justify_content": null,
      "justify_items": null,
      "left": null,
      "margin": null,
      "max_height": null,
      "max_width": null,
      "min_height": null,
      "min_width": null,
      "object_fit": null,
      "object_position": null,
      "order": null,
      "overflow": null,
      "overflow_x": null,
      "overflow_y": null,
      "padding": null,
      "right": null,
      "top": null,
      "visibility": null,
      "width": null
     }
    },
    "1e569f63c2b14071b8f6d01589761f8a": {
     "model_module": "@jupyter-widgets/base",
     "model_module_version": "1.2.0",
     "model_name": "LayoutModel",
     "state": {
      "_model_module": "@jupyter-widgets/base",
      "_model_module_version": "1.2.0",
      "_model_name": "LayoutModel",
      "_view_count": null,
      "_view_module": "@jupyter-widgets/base",
      "_view_module_version": "1.2.0",
      "_view_name": "LayoutView",
      "align_content": null,
      "align_items": null,
      "align_self": null,
      "border": null,
      "bottom": null,
      "display": null,
      "flex": null,
      "flex_flow": null,
      "grid_area": null,
      "grid_auto_columns": null,
      "grid_auto_flow": null,
      "grid_auto_rows": null,
      "grid_column": null,
      "grid_gap": null,
      "grid_row": null,
      "grid_template_areas": null,
      "grid_template_columns": null,
      "grid_template_rows": null,
      "height": null,
      "justify_content": null,
      "justify_items": null,
      "left": null,
      "margin": null,
      "max_height": null,
      "max_width": null,
      "min_height": null,
      "min_width": null,
      "object_fit": null,
      "object_position": null,
      "order": null,
      "overflow": null,
      "overflow_x": null,
      "overflow_y": null,
      "padding": null,
      "right": null,
      "top": null,
      "visibility": null,
      "width": null
     }
    },
    "1f3c0921e41b4105963a5104e8abede8": {
     "model_module": "@jupyter-widgets/controls",
     "model_module_version": "1.5.0",
     "model_name": "ProgressStyleModel",
     "state": {
      "_model_module": "@jupyter-widgets/controls",
      "_model_module_version": "1.5.0",
      "_model_name": "ProgressStyleModel",
      "_view_count": null,
      "_view_module": "@jupyter-widgets/base",
      "_view_module_version": "1.2.0",
      "_view_name": "StyleView",
      "bar_color": null,
      "description_width": ""
     }
    },
    "21dfaec08ea24727a0d92ea2541eed99": {
     "model_module": "@jupyter-widgets/controls",
     "model_module_version": "1.5.0",
     "model_name": "FloatProgressModel",
     "state": {
      "_dom_classes": [],
      "_model_module": "@jupyter-widgets/controls",
      "_model_module_version": "1.5.0",
      "_model_name": "FloatProgressModel",
      "_view_count": null,
      "_view_module": "@jupyter-widgets/controls",
      "_view_module_version": "1.5.0",
      "_view_name": "ProgressView",
      "bar_style": "success",
      "description": "",
      "description_tooltip": null,
      "layout": "IPY_MODEL_d68843775f7c4d53b28e8a40a5eaff6e",
      "max": 10454,
      "min": 0,
      "orientation": "horizontal",
      "style": "IPY_MODEL_07a21daf2ec6481faa995b7dfddc1cea",
      "value": 10454
     }
    },
    "23e0a0960f8e4c51a753fe1015fb5e67": {
     "model_module": "@jupyter-widgets/controls",
     "model_module_version": "1.5.0",
     "model_name": "HTMLModel",
     "state": {
      "_dom_classes": [],
      "_model_module": "@jupyter-widgets/controls",
      "_model_module_version": "1.5.0",
      "_model_name": "HTMLModel",
      "_view_count": null,
      "_view_module": "@jupyter-widgets/controls",
      "_view_module_version": "1.5.0",
      "_view_name": "HTMLView",
      "description": "",
      "description_tooltip": null,
      "layout": "IPY_MODEL_f1cc929744ec45aab02c3b2be86f1033",
      "placeholder": "​",
      "style": "IPY_MODEL_5e06cb7927844457aafbe780485e1607",
      "value": "sentence_bert_config.json: 100%"
     }
    },
    "288f8c4821794043a00180e41442f135": {
     "model_module": "@jupyter-widgets/controls",
     "model_module_version": "1.5.0",
     "model_name": "HTMLModel",
     "state": {
      "_dom_classes": [],
      "_model_module": "@jupyter-widgets/controls",
      "_model_module_version": "1.5.0",
      "_model_name": "HTMLModel",
      "_view_count": null,
      "_view_module": "@jupyter-widgets/controls",
      "_view_module_version": "1.5.0",
      "_view_name": "HTMLView",
      "description": "",
      "description_tooltip": null,
      "layout": "IPY_MODEL_f5af85e60b6b4d8a8569b0522205ef3f",
      "placeholder": "​",
      "style": "IPY_MODEL_c272b8026aea48cc9ae58bbf71026c11",
      "value": " 9.23G/9.23G [00:50&lt;00:00, 248MB/s]"
     }
    },
    "296e78bb6d714001a20904ac2413b56c": {
     "model_module": "@jupyter-widgets/controls",
     "model_module_version": "1.5.0",
     "model_name": "HTMLModel",
     "state": {
      "_dom_classes": [],
      "_model_module": "@jupyter-widgets/controls",
      "_model_module_version": "1.5.0",
      "_model_name": "HTMLModel",
      "_view_count": null,
      "_view_module": "@jupyter-widgets/controls",
      "_view_module_version": "1.5.0",
      "_view_name": "HTMLView",
      "description": "",
      "description_tooltip": null,
      "layout": "IPY_MODEL_6e2e8cc46cdb4f298e6aeb8bf7959fba",
      "placeholder": "​",
      "style": "IPY_MODEL_94fad9b82f1142f8bdad479ef93f4f5a",
      "value": " 232k/232k [00:00&lt;00:00, 3.38MB/s]"
     }
    },
    "2b8b60b006ce4aa8bbf06627922fa953": {
     "model_module": "@jupyter-widgets/controls",
     "model_module_version": "1.5.0",
     "model_name": "ProgressStyleModel",
     "state": {
      "_model_module": "@jupyter-widgets/controls",
      "_model_module_version": "1.5.0",
      "_model_name": "ProgressStyleModel",
      "_view_count": null,
      "_view_module": "@jupyter-widgets/base",
      "_view_module_version": "1.2.0",
      "_view_name": "StyleView",
      "bar_color": null,
      "description_width": ""
     }
    },
    "2ca0bc90ffe34c8da3641f545be0ae00": {
     "model_module": "@jupyter-widgets/base",
     "model_module_version": "1.2.0",
     "model_name": "LayoutModel",
     "state": {
      "_model_module": "@jupyter-widgets/base",
      "_model_module_version": "1.2.0",
      "_model_name": "LayoutModel",
      "_view_count": null,
      "_view_module": "@jupyter-widgets/base",
      "_view_module_version": "1.2.0",
      "_view_name": "LayoutView",
      "align_content": null,
      "align_items": null,
      "align_self": null,
      "border": null,
      "bottom": null,
      "display": null,
      "flex": null,
      "flex_flow": null,
      "grid_area": null,
      "grid_auto_columns": null,
      "grid_auto_flow": null,
      "grid_auto_rows": null,
      "grid_column": null,
      "grid_gap": null,
      "grid_row": null,
      "grid_template_areas": null,
      "grid_template_columns": null,
      "grid_template_rows": null,
      "height": null,
      "justify_content": null,
      "justify_items": null,
      "left": null,
      "margin": null,
      "max_height": null,
      "max_width": null,
      "min_height": null,
      "min_width": null,
      "object_fit": null,
      "object_position": null,
      "order": null,
      "overflow": null,
      "overflow_x": null,
      "overflow_y": null,
      "padding": null,
      "right": null,
      "top": null,
      "visibility": null,
      "width": null
     }
    },
    "2cba97de1ab043db8ecba59034b2c248": {
     "model_module": "@jupyter-widgets/base",
     "model_module_version": "1.2.0",
     "model_name": "LayoutModel",
     "state": {
      "_model_module": "@jupyter-widgets/base",
      "_model_module_version": "1.2.0",
      "_model_name": "LayoutModel",
      "_view_count": null,
      "_view_module": "@jupyter-widgets/base",
      "_view_module_version": "1.2.0",
      "_view_name": "LayoutView",
      "align_content": null,
      "align_items": null,
      "align_self": null,
      "border": null,
      "bottom": null,
      "display": null,
      "flex": null,
      "flex_flow": null,
      "grid_area": null,
      "grid_auto_columns": null,
      "grid_auto_flow": null,
      "grid_auto_rows": null,
      "grid_column": null,
      "grid_gap": null,
      "grid_row": null,
      "grid_template_areas": null,
      "grid_template_columns": null,
      "grid_template_rows": null,
      "height": null,
      "justify_content": null,
      "justify_items": null,
      "left": null,
      "margin": null,
      "max_height": null,
      "max_width": null,
      "min_height": null,
      "min_width": null,
      "object_fit": null,
      "object_position": null,
      "order": null,
      "overflow": null,
      "overflow_x": null,
      "overflow_y": null,
      "padding": null,
      "right": null,
      "top": null,
      "visibility": null,
      "width": null
     }
    },
    "2dcab5bdc7eb43ec968712259974f6f6": {
     "model_module": "@jupyter-widgets/controls",
     "model_module_version": "1.5.0",
     "model_name": "ProgressStyleModel",
     "state": {
      "_model_module": "@jupyter-widgets/controls",
      "_model_module_version": "1.5.0",
      "_model_name": "ProgressStyleModel",
      "_view_count": null,
      "_view_module": "@jupyter-widgets/base",
      "_view_module_version": "1.2.0",
      "_view_name": "StyleView",
      "bar_color": null,
      "description_width": ""
     }
    },
    "2ecb7a0875a04fea9681f3958149e6f6": {
     "model_module": "@jupyter-widgets/controls",
     "model_module_version": "1.5.0",
     "model_name": "DescriptionStyleModel",
     "state": {
      "_model_module": "@jupyter-widgets/controls",
      "_model_module_version": "1.5.0",
      "_model_name": "DescriptionStyleModel",
      "_view_count": null,
      "_view_module": "@jupyter-widgets/base",
      "_view_module_version": "1.2.0",
      "_view_name": "StyleView",
      "description_width": ""
     }
    },
    "2f3b342defb545e399221111ac386a78": {
     "model_module": "@jupyter-widgets/controls",
     "model_module_version": "1.5.0",
     "model_name": "HTMLModel",
     "state": {
      "_dom_classes": [],
      "_model_module": "@jupyter-widgets/controls",
      "_model_module_version": "1.5.0",
      "_model_name": "HTMLModel",
      "_view_count": null,
      "_view_module": "@jupyter-widgets/controls",
      "_view_module_version": "1.5.0",
      "_view_name": "HTMLView",
      "description": "",
      "description_tooltip": null,
      "layout": "IPY_MODEL_c31d800329104a768e171037e5e3413e",
      "placeholder": "​",
      "style": "IPY_MODEL_fcd24adfcd934176a915d4c6dcfb5b08",
      "value": " 10.5k/10.5k [00:00&lt;00:00, 987kB/s]"
     }
    },
    "350cc020d3154c1e9185e96609e74f1c": {
     "model_module": "@jupyter-widgets/base",
     "model_module_version": "1.2.0",
     "model_name": "LayoutModel",
     "state": {
      "_model_module": "@jupyter-widgets/base",
      "_model_module_version": "1.2.0",
      "_model_name": "LayoutModel",
      "_view_count": null,
      "_view_module": "@jupyter-widgets/base",
      "_view_module_version": "1.2.0",
      "_view_name": "LayoutView",
      "align_content": null,
      "align_items": null,
      "align_self": null,
      "border": null,
      "bottom": null,
      "display": null,
      "flex": null,
      "flex_flow": null,
      "grid_area": null,
      "grid_auto_columns": null,
      "grid_auto_flow": null,
      "grid_auto_rows": null,
      "grid_column": null,
      "grid_gap": null,
      "grid_row": null,
      "grid_template_areas": null,
      "grid_template_columns": null,
      "grid_template_rows": null,
      "height": null,
      "justify_content": null,
      "justify_items": null,
      "left": null,
      "margin": null,
      "max_height": null,
      "max_width": null,
      "min_height": null,
      "min_width": null,
      "object_fit": null,
      "object_position": null,
      "order": null,
      "overflow": null,
      "overflow_x": null,
      "overflow_y": null,
      "padding": null,
      "right": null,
      "top": null,
      "visibility": null,
      "width": null
     }
    },
    "35262b2db94b4c28aab8c20e8e80e6eb": {
     "model_module": "@jupyter-widgets/base",
     "model_module_version": "1.2.0",
     "model_name": "LayoutModel",
     "state": {
      "_model_module": "@jupyter-widgets/base",
      "_model_module_version": "1.2.0",
      "_model_name": "LayoutModel",
      "_view_count": null,
      "_view_module": "@jupyter-widgets/base",
      "_view_module_version": "1.2.0",
      "_view_name": "LayoutView",
      "align_content": null,
      "align_items": null,
      "align_self": null,
      "border": null,
      "bottom": null,
      "display": null,
      "flex": null,
      "flex_flow": null,
      "grid_area": null,
      "grid_auto_columns": null,
      "grid_auto_flow": null,
      "grid_auto_rows": null,
      "grid_column": null,
      "grid_gap": null,
      "grid_row": null,
      "grid_template_areas": null,
      "grid_template_columns": null,
      "grid_template_rows": null,
      "height": null,
      "justify_content": null,
      "justify_items": null,
      "left": null,
      "margin": null,
      "max_height": null,
      "max_width": null,
      "min_height": null,
      "min_width": null,
      "object_fit": null,
      "object_position": null,
      "order": null,
      "overflow": null,
      "overflow_x": null,
      "overflow_y": null,
      "padding": null,
      "right": null,
      "top": null,
      "visibility": null,
      "width": null
     }
    },
    "370a79ec537d47a29c319c310a30363f": {
     "model_module": "@jupyter-widgets/controls",
     "model_module_version": "1.5.0",
     "model_name": "DescriptionStyleModel",
     "state": {
      "_model_module": "@jupyter-widgets/controls",
      "_model_module_version": "1.5.0",
      "_model_name": "DescriptionStyleModel",
      "_view_count": null,
      "_view_module": "@jupyter-widgets/base",
      "_view_module_version": "1.2.0",
      "_view_name": "StyleView",
      "description_width": ""
     }
    },
    "392acf0f03414021a39285946c7e285f": {
     "model_module": "@jupyter-widgets/controls",
     "model_module_version": "1.5.0",
     "model_name": "HBoxModel",
     "state": {
      "_dom_classes": [],
      "_model_module": "@jupyter-widgets/controls",
      "_model_module_version": "1.5.0",
      "_model_name": "HBoxModel",
      "_view_count": null,
      "_view_module": "@jupyter-widgets/controls",
      "_view_module_version": "1.5.0",
      "_view_name": "HBoxView",
      "box_style": "",
      "children": [
       "IPY_MODEL_a96e6c6249514d1d884198ab5fbe558e",
       "IPY_MODEL_1b24ec0019d94749a2013c85cbf2d44e",
       "IPY_MODEL_e6b4bf41db8e45a7bb6907a48146622d"
      ],
      "layout": "IPY_MODEL_056cda2e9df54245b0602d862f55608c"
     }
    },
    "3aa2a855c5ae4707b38e615a6314a6c8": {
     "model_module": "@jupyter-widgets/controls",
     "model_module_version": "1.5.0",
     "model_name": "HTMLModel",
     "state": {
      "_dom_classes": [],
      "_model_module": "@jupyter-widgets/controls",
      "_model_module_version": "1.5.0",
      "_model_name": "HTMLModel",
      "_view_count": null,
      "_view_module": "@jupyter-widgets/controls",
      "_view_module_version": "1.5.0",
      "_view_name": "HTMLView",
      "description": "",
      "description_tooltip": null,
      "layout": "IPY_MODEL_6f351eea180348d595137edba9f95a36",
      "placeholder": "​",
      "style": "IPY_MODEL_8d9acc46d731457e9ea3e9fa83d78f3e",
      "value": " 466k/466k [00:00&lt;00:00, 3.55MB/s]"
     }
    },
    "3ca3a5315b7f40b6b3ad5d936a15fb64": {
     "model_module": "@jupyter-widgets/controls",
     "model_module_version": "1.5.0",
     "model_name": "DescriptionStyleModel",
     "state": {
      "_model_module": "@jupyter-widgets/controls",
      "_model_module_version": "1.5.0",
      "_model_name": "DescriptionStyleModel",
      "_view_count": null,
      "_view_module": "@jupyter-widgets/base",
      "_view_module_version": "1.2.0",
      "_view_name": "StyleView",
      "description_width": ""
     }
    },
    "3e3b0d6ef27d4944b20996f151851f64": {
     "model_module": "@jupyter-widgets/base",
     "model_module_version": "1.2.0",
     "model_name": "LayoutModel",
     "state": {
      "_model_module": "@jupyter-widgets/base",
      "_model_module_version": "1.2.0",
      "_model_name": "LayoutModel",
      "_view_count": null,
      "_view_module": "@jupyter-widgets/base",
      "_view_module_version": "1.2.0",
      "_view_name": "LayoutView",
      "align_content": null,
      "align_items": null,
      "align_self": null,
      "border": null,
      "bottom": null,
      "display": null,
      "flex": null,
      "flex_flow": null,
      "grid_area": null,
      "grid_auto_columns": null,
      "grid_auto_flow": null,
      "grid_auto_rows": null,
      "grid_column": null,
      "grid_gap": null,
      "grid_row": null,
      "grid_template_areas": null,
      "grid_template_columns": null,
      "grid_template_rows": null,
      "height": null,
      "justify_content": null,
      "justify_items": null,
      "left": null,
      "margin": null,
      "max_height": null,
      "max_width": null,
      "min_height": null,
      "min_width": null,
      "object_fit": null,
      "object_position": null,
      "order": null,
      "overflow": null,
      "overflow_x": null,
      "overflow_y": null,
      "padding": null,
      "right": null,
      "top": null,
      "visibility": null,
      "width": null
     }
    },
    "3f7982b786ee4153bc20c05118778bcd": {
     "model_module": "@jupyter-widgets/base",
     "model_module_version": "1.2.0",
     "model_name": "LayoutModel",
     "state": {
      "_model_module": "@jupyter-widgets/base",
      "_model_module_version": "1.2.0",
      "_model_name": "LayoutModel",
      "_view_count": null,
      "_view_module": "@jupyter-widgets/base",
      "_view_module_version": "1.2.0",
      "_view_name": "LayoutView",
      "align_content": null,
      "align_items": null,
      "align_self": null,
      "border": null,
      "bottom": null,
      "display": null,
      "flex": null,
      "flex_flow": null,
      "grid_area": null,
      "grid_auto_columns": null,
      "grid_auto_flow": null,
      "grid_auto_rows": null,
      "grid_column": null,
      "grid_gap": null,
      "grid_row": null,
      "grid_template_areas": null,
      "grid_template_columns": null,
      "grid_template_rows": null,
      "height": null,
      "justify_content": null,
      "justify_items": null,
      "left": null,
      "margin": null,
      "max_height": null,
      "max_width": null,
      "min_height": null,
      "min_width": null,
      "object_fit": null,
      "object_position": null,
      "order": null,
      "overflow": null,
      "overflow_x": null,
      "overflow_y": null,
      "padding": null,
      "right": null,
      "top": null,
      "visibility": null,
      "width": null
     }
    },
    "40987afab9ed447a8f9cbf2205fdb29e": {
     "model_module": "@jupyter-widgets/base",
     "model_module_version": "1.2.0",
     "model_name": "LayoutModel",
     "state": {
      "_model_module": "@jupyter-widgets/base",
      "_model_module_version": "1.2.0",
      "_model_name": "LayoutModel",
      "_view_count": null,
      "_view_module": "@jupyter-widgets/base",
      "_view_module_version": "1.2.0",
      "_view_name": "LayoutView",
      "align_content": null,
      "align_items": null,
      "align_self": null,
      "border": null,
      "bottom": null,
      "display": null,
      "flex": null,
      "flex_flow": null,
      "grid_area": null,
      "grid_auto_columns": null,
      "grid_auto_flow": null,
      "grid_auto_rows": null,
      "grid_column": null,
      "grid_gap": null,
      "grid_row": null,
      "grid_template_areas": null,
      "grid_template_columns": null,
      "grid_template_rows": null,
      "height": null,
      "justify_content": null,
      "justify_items": null,
      "left": null,
      "margin": null,
      "max_height": null,
      "max_width": null,
      "min_height": null,
      "min_width": null,
      "object_fit": null,
      "object_position": null,
      "order": null,
      "overflow": null,
      "overflow_x": null,
      "overflow_y": null,
      "padding": null,
      "right": null,
      "top": null,
      "visibility": null,
      "width": null
     }
    },
    "40d10db02a8a44db8b1779cf030b72e7": {
     "model_module": "@jupyter-widgets/controls",
     "model_module_version": "1.5.0",
     "model_name": "ProgressStyleModel",
     "state": {
      "_model_module": "@jupyter-widgets/controls",
      "_model_module_version": "1.5.0",
      "_model_name": "ProgressStyleModel",
      "_view_count": null,
      "_view_module": "@jupyter-widgets/base",
      "_view_module_version": "1.2.0",
      "_view_name": "StyleView",
      "bar_color": null,
      "description_width": ""
     }
    },
    "423dc3c30cc14a2e9c8c9d6f116b7c6c": {
     "model_module": "@jupyter-widgets/controls",
     "model_module_version": "1.5.0",
     "model_name": "DescriptionStyleModel",
     "state": {
      "_model_module": "@jupyter-widgets/controls",
      "_model_module_version": "1.5.0",
      "_model_name": "DescriptionStyleModel",
      "_view_count": null,
      "_view_module": "@jupyter-widgets/base",
      "_view_module_version": "1.2.0",
      "_view_name": "StyleView",
      "description_width": ""
     }
    },
    "447da5576aad470fb2ec2ee5737098a7": {
     "model_module": "@jupyter-widgets/controls",
     "model_module_version": "1.5.0",
     "model_name": "HBoxModel",
     "state": {
      "_dom_classes": [],
      "_model_module": "@jupyter-widgets/controls",
      "_model_module_version": "1.5.0",
      "_model_name": "HBoxModel",
      "_view_count": null,
      "_view_module": "@jupyter-widgets/controls",
      "_view_module_version": "1.5.0",
      "_view_name": "HBoxView",
      "box_style": "",
      "children": [
       "IPY_MODEL_58a2d7a691694bd3af5f30b7eba6be4b",
       "IPY_MODEL_21dfaec08ea24727a0d92ea2541eed99",
       "IPY_MODEL_2f3b342defb545e399221111ac386a78"
      ],
      "layout": "IPY_MODEL_2cba97de1ab043db8ecba59034b2c248"
     }
    },
    "454c8044e8984af9ad97551e4076d9c1": {
     "model_module": "@jupyter-widgets/base",
     "model_module_version": "1.2.0",
     "model_name": "LayoutModel",
     "state": {
      "_model_module": "@jupyter-widgets/base",
      "_model_module_version": "1.2.0",
      "_model_name": "LayoutModel",
      "_view_count": null,
      "_view_module": "@jupyter-widgets/base",
      "_view_module_version": "1.2.0",
      "_view_name": "LayoutView",
      "align_content": null,
      "align_items": null,
      "align_self": null,
      "border": null,
      "bottom": null,
      "display": null,
      "flex": null,
      "flex_flow": null,
      "grid_area": null,
      "grid_auto_columns": null,
      "grid_auto_flow": null,
      "grid_auto_rows": null,
      "grid_column": null,
      "grid_gap": null,
      "grid_row": null,
      "grid_template_areas": null,
      "grid_template_columns": null,
      "grid_template_rows": null,
      "height": null,
      "justify_content": null,
      "justify_items": null,
      "left": null,
      "margin": null,
      "max_height": null,
      "max_width": null,
      "min_height": null,
      "min_width": null,
      "object_fit": null,
      "object_position": null,
      "order": null,
      "overflow": null,
      "overflow_x": null,
      "overflow_y": null,
      "padding": null,
      "right": null,
      "top": null,
      "visibility": null,
      "width": null
     }
    },
    "487bf7e3ccaf4e82ae2a5b90094d6f1d": {
     "model_module": "@jupyter-widgets/controls",
     "model_module_version": "1.5.0",
     "model_name": "HTMLModel",
     "state": {
      "_dom_classes": [],
      "_model_module": "@jupyter-widgets/controls",
      "_model_module_version": "1.5.0",
      "_model_name": "HTMLModel",
      "_view_count": null,
      "_view_module": "@jupyter-widgets/controls",
      "_view_module_version": "1.5.0",
      "_view_name": "HTMLView",
      "description": "",
      "description_tooltip": null,
      "layout": "IPY_MODEL_673f8cee863e49ccbd9dca692694a214",
      "placeholder": "​",
      "style": "IPY_MODEL_e835499375f1472a87162831b8f30434",
      "value": "model.safetensors: 100%"
     }
    },
    "4a7fc260998b4525bb7d54a6112119cd": {
     "model_module": "@jupyter-widgets/base",
     "model_module_version": "1.2.0",
     "model_name": "LayoutModel",
     "state": {
      "_model_module": "@jupyter-widgets/base",
      "_model_module_version": "1.2.0",
      "_model_name": "LayoutModel",
      "_view_count": null,
      "_view_module": "@jupyter-widgets/base",
      "_view_module_version": "1.2.0",
      "_view_name": "LayoutView",
      "align_content": null,
      "align_items": null,
      "align_self": null,
      "border": null,
      "bottom": null,
      "display": null,
      "flex": null,
      "flex_flow": null,
      "grid_area": null,
      "grid_auto_columns": null,
      "grid_auto_flow": null,
      "grid_auto_rows": null,
      "grid_column": null,
      "grid_gap": null,
      "grid_row": null,
      "grid_template_areas": null,
      "grid_template_columns": null,
      "grid_template_rows": null,
      "height": null,
      "justify_content": null,
      "justify_items": null,
      "left": null,
      "margin": null,
      "max_height": null,
      "max_width": null,
      "min_height": null,
      "min_width": null,
      "object_fit": null,
      "object_position": null,
      "order": null,
      "overflow": null,
      "overflow_x": null,
      "overflow_y": null,
      "padding": null,
      "right": null,
      "top": null,
      "visibility": null,
      "width": null
     }
    },
    "4d58be78cc5f4c679f7c3de28c3986d8": {
     "model_module": "@jupyter-widgets/base",
     "model_module_version": "1.2.0",
     "model_name": "LayoutModel",
     "state": {
      "_model_module": "@jupyter-widgets/base",
      "_model_module_version": "1.2.0",
      "_model_name": "LayoutModel",
      "_view_count": null,
      "_view_module": "@jupyter-widgets/base",
      "_view_module_version": "1.2.0",
      "_view_name": "LayoutView",
      "align_content": null,
      "align_items": null,
      "align_self": null,
      "border": null,
      "bottom": null,
      "display": null,
      "flex": null,
      "flex_flow": null,
      "grid_area": null,
      "grid_auto_columns": null,
      "grid_auto_flow": null,
      "grid_auto_rows": null,
      "grid_column": null,
      "grid_gap": null,
      "grid_row": null,
      "grid_template_areas": null,
      "grid_template_columns": null,
      "grid_template_rows": null,
      "height": null,
      "justify_content": null,
      "justify_items": null,
      "left": null,
      "margin": null,
      "max_height": null,
      "max_width": null,
      "min_height": null,
      "min_width": null,
      "object_fit": null,
      "object_position": null,
      "order": null,
      "overflow": null,
      "overflow_x": null,
      "overflow_y": null,
      "padding": null,
      "right": null,
      "top": null,
      "visibility": null,
      "width": null
     }
    },
    "560dc8a4848e4197874cdbf5aa92ef2a": {
     "model_module": "@jupyter-widgets/controls",
     "model_module_version": "1.5.0",
     "model_name": "ProgressStyleModel",
     "state": {
      "_model_module": "@jupyter-widgets/controls",
      "_model_module_version": "1.5.0",
      "_model_name": "ProgressStyleModel",
      "_view_count": null,
      "_view_module": "@jupyter-widgets/base",
      "_view_module_version": "1.2.0",
      "_view_name": "StyleView",
      "bar_color": null,
      "description_width": ""
     }
    },
    "57163e2dfca546bbba9ec22ee108524d": {
     "model_module": "@jupyter-widgets/controls",
     "model_module_version": "1.5.0",
     "model_name": "HBoxModel",
     "state": {
      "_dom_classes": [],
      "_model_module": "@jupyter-widgets/controls",
      "_model_module_version": "1.5.0",
      "_model_name": "HBoxModel",
      "_view_count": null,
      "_view_module": "@jupyter-widgets/controls",
      "_view_module_version": "1.5.0",
      "_view_name": "HBoxView",
      "box_style": "",
      "children": [
       "IPY_MODEL_487bf7e3ccaf4e82ae2a5b90094d6f1d",
       "IPY_MODEL_187ebc6307a74b5684a90b6ea5832024",
       "IPY_MODEL_07271c06d5b143e49e2392d297b9d2c5"
      ],
      "layout": "IPY_MODEL_67da1d1eaeb948bfa4a88d7860257667"
     }
    },
    "5889419250b14a799a1789fabe51bb3f": {
     "model_module": "@jupyter-widgets/base",
     "model_module_version": "1.2.0",
     "model_name": "LayoutModel",
     "state": {
      "_model_module": "@jupyter-widgets/base",
      "_model_module_version": "1.2.0",
      "_model_name": "LayoutModel",
      "_view_count": null,
      "_view_module": "@jupyter-widgets/base",
      "_view_module_version": "1.2.0",
      "_view_name": "LayoutView",
      "align_content": null,
      "align_items": null,
      "align_self": null,
      "border": null,
      "bottom": null,
      "display": null,
      "flex": null,
      "flex_flow": null,
      "grid_area": null,
      "grid_auto_columns": null,
      "grid_auto_flow": null,
      "grid_auto_rows": null,
      "grid_column": null,
      "grid_gap": null,
      "grid_row": null,
      "grid_template_areas": null,
      "grid_template_columns": null,
      "grid_template_rows": null,
      "height": null,
      "justify_content": null,
      "justify_items": null,
      "left": null,
      "margin": null,
      "max_height": null,
      "max_width": null,
      "min_height": null,
      "min_width": null,
      "object_fit": null,
      "object_position": null,
      "order": null,
      "overflow": null,
      "overflow_x": null,
      "overflow_y": null,
      "padding": null,
      "right": null,
      "top": null,
      "visibility": null,
      "width": null
     }
    },
    "58a2d7a691694bd3af5f30b7eba6be4b": {
     "model_module": "@jupyter-widgets/controls",
     "model_module_version": "1.5.0",
     "model_name": "HTMLModel",
     "state": {
      "_dom_classes": [],
      "_model_module": "@jupyter-widgets/controls",
      "_model_module_version": "1.5.0",
      "_model_name": "HTMLModel",
      "_view_count": null,
      "_view_module": "@jupyter-widgets/controls",
      "_view_module_version": "1.5.0",
      "_view_name": "HTMLView",
      "description": "",
      "description_tooltip": null,
      "layout": "IPY_MODEL_ade0f5917dfb4e1791d65ede7e81822a",
      "placeholder": "​",
      "style": "IPY_MODEL_1145c14cf36e406dbf29d33a7a0e210f",
      "value": "README.md: 100%"
     }
    },
    "59926d672dcd435f922c5b8b5f62d7a8": {
     "model_module": "@jupyter-widgets/controls",
     "model_module_version": "1.5.0",
     "model_name": "ProgressStyleModel",
     "state": {
      "_model_module": "@jupyter-widgets/controls",
      "_model_module_version": "1.5.0",
      "_model_name": "ProgressStyleModel",
      "_view_count": null,
      "_view_module": "@jupyter-widgets/base",
      "_view_module_version": "1.2.0",
      "_view_name": "StyleView",
      "bar_color": null,
      "description_width": ""
     }
    },
    "59c4463409644e2f850a44ed90e973b5": {
     "model_module": "@jupyter-widgets/controls",
     "model_module_version": "1.5.0",
     "model_name": "FloatProgressModel",
     "state": {
      "_dom_classes": [],
      "_model_module": "@jupyter-widgets/controls",
      "_model_module_version": "1.5.0",
      "_model_name": "FloatProgressModel",
      "_view_count": null,
      "_view_module": "@jupyter-widgets/controls",
      "_view_module_version": "1.5.0",
      "_view_name": "ProgressView",
      "bar_style": "success",
      "description": "",
      "description_tooltip": null,
      "layout": "IPY_MODEL_b4f6a038c601406eb717889029427474",
      "max": 53,
      "min": 0,
      "orientation": "horizontal",
      "style": "IPY_MODEL_5c291578aa734dd8ae2ace3eafd9a048",
      "value": 53
     }
    },
    "5a7acac40f2448f69b5d1ea32819cdd0": {
     "model_module": "@jupyter-widgets/controls",
     "model_module_version": "1.5.0",
     "model_name": "FloatProgressModel",
     "state": {
      "_dom_classes": [],
      "_model_module": "@jupyter-widgets/controls",
      "_model_module_version": "1.5.0",
      "_model_name": "FloatProgressModel",
      "_view_count": null,
      "_view_module": "@jupyter-widgets/controls",
      "_view_module_version": "1.5.0",
      "_view_name": "ProgressView",
      "bar_style": "success",
      "description": "",
      "description_tooltip": null,
      "layout": "IPY_MODEL_eaa18eb3816140548af3ca44d029ccbc",
      "max": 612,
      "min": 0,
      "orientation": "horizontal",
      "style": "IPY_MODEL_ec1f5cbf02b64755a0a1690a6f2c6a7f",
      "value": 612
     }
    },
    "5b6afe7517e84e1a878056ead8dda023": {
     "model_module": "@jupyter-widgets/controls",
     "model_module_version": "1.5.0",
     "model_name": "FloatProgressModel",
     "state": {
      "_dom_classes": [],
      "_model_module": "@jupyter-widgets/controls",
      "_model_module_version": "1.5.0",
      "_model_name": "FloatProgressModel",
      "_view_count": null,
      "_view_module": "@jupyter-widgets/controls",
      "_view_module_version": "1.5.0",
      "_view_name": "ProgressView",
      "bar_style": "success",
      "description": "",
      "description_tooltip": null,
      "layout": "IPY_MODEL_9f20da79abf040d492a345646b103dd1",
      "max": 231508,
      "min": 0,
      "orientation": "horizontal",
      "style": "IPY_MODEL_2b8b60b006ce4aa8bbf06627922fa953",
      "value": 231508
     }
    },
    "5c291578aa734dd8ae2ace3eafd9a048": {
     "model_module": "@jupyter-widgets/controls",
     "model_module_version": "1.5.0",
     "model_name": "ProgressStyleModel",
     "state": {
      "_model_module": "@jupyter-widgets/controls",
      "_model_module_version": "1.5.0",
      "_model_name": "ProgressStyleModel",
      "_view_count": null,
      "_view_module": "@jupyter-widgets/base",
      "_view_module_version": "1.2.0",
      "_view_name": "StyleView",
      "bar_color": null,
      "description_width": ""
     }
    },
    "5e06cb7927844457aafbe780485e1607": {
     "model_module": "@jupyter-widgets/controls",
     "model_module_version": "1.5.0",
     "model_name": "DescriptionStyleModel",
     "state": {
      "_model_module": "@jupyter-widgets/controls",
      "_model_module_version": "1.5.0",
      "_model_name": "DescriptionStyleModel",
      "_view_count": null,
      "_view_module": "@jupyter-widgets/base",
      "_view_module_version": "1.2.0",
      "_view_name": "StyleView",
      "description_width": ""
     }
    },
    "641b1dc29b904b2abcb997e1045b33f0": {
     "model_module": "@jupyter-widgets/controls",
     "model_module_version": "1.5.0",
     "model_name": "HTMLModel",
     "state": {
      "_dom_classes": [],
      "_model_module": "@jupyter-widgets/controls",
      "_model_module_version": "1.5.0",
      "_model_name": "HTMLModel",
      "_view_count": null,
      "_view_module": "@jupyter-widgets/controls",
      "_view_module_version": "1.5.0",
      "_view_name": "HTMLView",
      "description": "",
      "description_tooltip": null,
      "layout": "IPY_MODEL_7f764164f9af41618ccb26a5ce86d4e0",
      "placeholder": "​",
      "style": "IPY_MODEL_cfb81a10efe44098a3527f1497b19bc9",
      "value": "config.json: 100%"
     }
    },
    "673f8cee863e49ccbd9dca692694a214": {
     "model_module": "@jupyter-widgets/base",
     "model_module_version": "1.2.0",
     "model_name": "LayoutModel",
     "state": {
      "_model_module": "@jupyter-widgets/base",
      "_model_module_version": "1.2.0",
      "_model_name": "LayoutModel",
      "_view_count": null,
      "_view_module": "@jupyter-widgets/base",
      "_view_module_version": "1.2.0",
      "_view_name": "LayoutView",
      "align_content": null,
      "align_items": null,
      "align_self": null,
      "border": null,
      "bottom": null,
      "display": null,
      "flex": null,
      "flex_flow": null,
      "grid_area": null,
      "grid_auto_columns": null,
      "grid_auto_flow": null,
      "grid_auto_rows": null,
      "grid_column": null,
      "grid_gap": null,
      "grid_row": null,
      "grid_template_areas": null,
      "grid_template_columns": null,
      "grid_template_rows": null,
      "height": null,
      "justify_content": null,
      "justify_items": null,
      "left": null,
      "margin": null,
      "max_height": null,
      "max_width": null,
      "min_height": null,
      "min_width": null,
      "object_fit": null,
      "object_position": null,
      "order": null,
      "overflow": null,
      "overflow_x": null,
      "overflow_y": null,
      "padding": null,
      "right": null,
      "top": null,
      "visibility": null,
      "width": null
     }
    },
    "675d8dc639e34d2f8c8561208d3eda51": {
     "model_module": "@jupyter-widgets/controls",
     "model_module_version": "1.5.0",
     "model_name": "HTMLModel",
     "state": {
      "_dom_classes": [],
      "_model_module": "@jupyter-widgets/controls",
      "_model_module_version": "1.5.0",
      "_model_name": "HTMLModel",
      "_view_count": null,
      "_view_module": "@jupyter-widgets/controls",
      "_view_module_version": "1.5.0",
      "_view_name": "HTMLView",
      "description": "",
      "description_tooltip": null,
      "layout": "IPY_MODEL_a042777ad6f74dc8896f4e230cbf5ede",
      "placeholder": "​",
      "style": "IPY_MODEL_6afea0bf2e9e4e8bb5c4f1637f085b6c",
      "value": " 112/112 [00:00&lt;00:00, 10.7kB/s]"
     }
    },
    "67701044b4c1469fab2e2094e46dea81": {
     "model_module": "@jupyter-widgets/controls",
     "model_module_version": "1.5.0",
     "model_name": "HBoxModel",
     "state": {
      "_dom_classes": [],
      "_model_module": "@jupyter-widgets/controls",
      "_model_module_version": "1.5.0",
      "_model_name": "HBoxModel",
      "_view_count": null,
      "_view_module": "@jupyter-widgets/controls",
      "_view_module_version": "1.5.0",
      "_view_name": "HBoxView",
      "box_style": "",
      "children": [
       "IPY_MODEL_641b1dc29b904b2abcb997e1045b33f0",
       "IPY_MODEL_5a7acac40f2448f69b5d1ea32819cdd0",
       "IPY_MODEL_c8836cb1716a463eb9a3258978fe6642"
      ],
      "layout": "IPY_MODEL_3f7982b786ee4153bc20c05118778bcd"
     }
    },
    "67cb7bf68b0c475ba93b8a78a5719c90": {
     "model_module": "@jupyter-widgets/base",
     "model_module_version": "1.2.0",
     "model_name": "LayoutModel",
     "state": {
      "_model_module": "@jupyter-widgets/base",
      "_model_module_version": "1.2.0",
      "_model_name": "LayoutModel",
      "_view_count": null,
      "_view_module": "@jupyter-widgets/base",
      "_view_module_version": "1.2.0",
      "_view_name": "LayoutView",
      "align_content": null,
      "align_items": null,
      "align_self": null,
      "border": null,
      "bottom": null,
      "display": null,
      "flex": null,
      "flex_flow": null,
      "grid_area": null,
      "grid_auto_columns": null,
      "grid_auto_flow": null,
      "grid_auto_rows": null,
      "grid_column": null,
      "grid_gap": null,
      "grid_row": null,
      "grid_template_areas": null,
      "grid_template_columns": null,
      "grid_template_rows": null,
      "height": null,
      "justify_content": null,
      "justify_items": null,
      "left": null,
      "margin": null,
      "max_height": null,
      "max_width": null,
      "min_height": null,
      "min_width": null,
      "object_fit": null,
      "object_position": null,
      "order": null,
      "overflow": null,
      "overflow_x": null,
      "overflow_y": null,
      "padding": null,
      "right": null,
      "top": null,
      "visibility": null,
      "width": null
     }
    },
    "67da1d1eaeb948bfa4a88d7860257667": {
     "model_module": "@jupyter-widgets/base",
     "model_module_version": "1.2.0",
     "model_name": "LayoutModel",
     "state": {
      "_model_module": "@jupyter-widgets/base",
      "_model_module_version": "1.2.0",
      "_model_name": "LayoutModel",
      "_view_count": null,
      "_view_module": "@jupyter-widgets/base",
      "_view_module_version": "1.2.0",
      "_view_name": "LayoutView",
      "align_content": null,
      "align_items": null,
      "align_self": null,
      "border": null,
      "bottom": null,
      "display": null,
      "flex": null,
      "flex_flow": null,
      "grid_area": null,
      "grid_auto_columns": null,
      "grid_auto_flow": null,
      "grid_auto_rows": null,
      "grid_column": null,
      "grid_gap": null,
      "grid_row": null,
      "grid_template_areas": null,
      "grid_template_columns": null,
      "grid_template_rows": null,
      "height": null,
      "justify_content": null,
      "justify_items": null,
      "left": null,
      "margin": null,
      "max_height": null,
      "max_width": null,
      "min_height": null,
      "min_width": null,
      "object_fit": null,
      "object_position": null,
      "order": null,
      "overflow": null,
      "overflow_x": null,
      "overflow_y": null,
      "padding": null,
      "right": null,
      "top": null,
      "visibility": null,
      "width": null
     }
    },
    "6afea0bf2e9e4e8bb5c4f1637f085b6c": {
     "model_module": "@jupyter-widgets/controls",
     "model_module_version": "1.5.0",
     "model_name": "DescriptionStyleModel",
     "state": {
      "_model_module": "@jupyter-widgets/controls",
      "_model_module_version": "1.5.0",
      "_model_name": "DescriptionStyleModel",
      "_view_count": null,
      "_view_module": "@jupyter-widgets/base",
      "_view_module_version": "1.2.0",
      "_view_name": "StyleView",
      "description_width": ""
     }
    },
    "6e2e8cc46cdb4f298e6aeb8bf7959fba": {
     "model_module": "@jupyter-widgets/base",
     "model_module_version": "1.2.0",
     "model_name": "LayoutModel",
     "state": {
      "_model_module": "@jupyter-widgets/base",
      "_model_module_version": "1.2.0",
      "_model_name": "LayoutModel",
      "_view_count": null,
      "_view_module": "@jupyter-widgets/base",
      "_view_module_version": "1.2.0",
      "_view_name": "LayoutView",
      "align_content": null,
      "align_items": null,
      "align_self": null,
      "border": null,
      "bottom": null,
      "display": null,
      "flex": null,
      "flex_flow": null,
      "grid_area": null,
      "grid_auto_columns": null,
      "grid_auto_flow": null,
      "grid_auto_rows": null,
      "grid_column": null,
      "grid_gap": null,
      "grid_row": null,
      "grid_template_areas": null,
      "grid_template_columns": null,
      "grid_template_rows": null,
      "height": null,
      "justify_content": null,
      "justify_items": null,
      "left": null,
      "margin": null,
      "max_height": null,
      "max_width": null,
      "min_height": null,
      "min_width": null,
      "object_fit": null,
      "object_position": null,
      "order": null,
      "overflow": null,
      "overflow_x": null,
      "overflow_y": null,
      "padding": null,
      "right": null,
      "top": null,
      "visibility": null,
      "width": null
     }
    },
    "6f351eea180348d595137edba9f95a36": {
     "model_module": "@jupyter-widgets/base",
     "model_module_version": "1.2.0",
     "model_name": "LayoutModel",
     "state": {
      "_model_module": "@jupyter-widgets/base",
      "_model_module_version": "1.2.0",
      "_model_name": "LayoutModel",
      "_view_count": null,
      "_view_module": "@jupyter-widgets/base",
      "_view_module_version": "1.2.0",
      "_view_name": "LayoutView",
      "align_content": null,
      "align_items": null,
      "align_self": null,
      "border": null,
      "bottom": null,
      "display": null,
      "flex": null,
      "flex_flow": null,
      "grid_area": null,
      "grid_auto_columns": null,
      "grid_auto_flow": null,
      "grid_auto_rows": null,
      "grid_column": null,
      "grid_gap": null,
      "grid_row": null,
      "grid_template_areas": null,
      "grid_template_columns": null,
      "grid_template_rows": null,
      "height": null,
      "justify_content": null,
      "justify_items": null,
      "left": null,
      "margin": null,
      "max_height": null,
      "max_width": null,
      "min_height": null,
      "min_width": null,
      "object_fit": null,
      "object_position": null,
      "order": null,
      "overflow": null,
      "overflow_x": null,
      "overflow_y": null,
      "padding": null,
      "right": null,
      "top": null,
      "visibility": null,
      "width": null
     }
    },
    "6feca5a18ef84606aec57c1a176aa44d": {
     "model_module": "@jupyter-widgets/controls",
     "model_module_version": "1.5.0",
     "model_name": "DescriptionStyleModel",
     "state": {
      "_model_module": "@jupyter-widgets/controls",
      "_model_module_version": "1.5.0",
      "_model_name": "DescriptionStyleModel",
      "_view_count": null,
      "_view_module": "@jupyter-widgets/base",
      "_view_module_version": "1.2.0",
      "_view_name": "StyleView",
      "description_width": ""
     }
    },
    "71bb7cfc6c8c4796ab828eeb600d107a": {
     "model_module": "@jupyter-widgets/controls",
     "model_module_version": "1.5.0",
     "model_name": "DescriptionStyleModel",
     "state": {
      "_model_module": "@jupyter-widgets/controls",
      "_model_module_version": "1.5.0",
      "_model_name": "DescriptionStyleModel",
      "_view_count": null,
      "_view_module": "@jupyter-widgets/base",
      "_view_module_version": "1.2.0",
      "_view_name": "StyleView",
      "description_width": ""
     }
    },
    "7856f029c8174a819da50903b102be26": {
     "model_module": "@jupyter-widgets/controls",
     "model_module_version": "1.5.0",
     "model_name": "DescriptionStyleModel",
     "state": {
      "_model_module": "@jupyter-widgets/controls",
      "_model_module_version": "1.5.0",
      "_model_name": "DescriptionStyleModel",
      "_view_count": null,
      "_view_module": "@jupyter-widgets/base",
      "_view_module_version": "1.2.0",
      "_view_name": "StyleView",
      "description_width": ""
     }
    },
    "7cef1dbc673c41d1ad8474ec0b70d7cd": {
     "model_module": "@jupyter-widgets/base",
     "model_module_version": "1.2.0",
     "model_name": "LayoutModel",
     "state": {
      "_model_module": "@jupyter-widgets/base",
      "_model_module_version": "1.2.0",
      "_model_name": "LayoutModel",
      "_view_count": null,
      "_view_module": "@jupyter-widgets/base",
      "_view_module_version": "1.2.0",
      "_view_name": "LayoutView",
      "align_content": null,
      "align_items": null,
      "align_self": null,
      "border": null,
      "bottom": null,
      "display": null,
      "flex": null,
      "flex_flow": null,
      "grid_area": null,
      "grid_auto_columns": null,
      "grid_auto_flow": null,
      "grid_auto_rows": null,
      "grid_column": null,
      "grid_gap": null,
      "grid_row": null,
      "grid_template_areas": null,
      "grid_template_columns": null,
      "grid_template_rows": null,
      "height": null,
      "justify_content": null,
      "justify_items": null,
      "left": null,
      "margin": null,
      "max_height": null,
      "max_width": null,
      "min_height": null,
      "min_width": null,
      "object_fit": null,
      "object_position": null,
      "order": null,
      "overflow": null,
      "overflow_x": null,
      "overflow_y": null,
      "padding": null,
      "right": null,
      "top": null,
      "visibility": null,
      "width": null
     }
    },
    "7e5c74f4cf894ac19fb599a789375427": {
     "model_module": "@jupyter-widgets/controls",
     "model_module_version": "1.5.0",
     "model_name": "HTMLModel",
     "state": {
      "_dom_classes": [],
      "_model_module": "@jupyter-widgets/controls",
      "_model_module_version": "1.5.0",
      "_model_name": "HTMLModel",
      "_view_count": null,
      "_view_module": "@jupyter-widgets/controls",
      "_view_module_version": "1.5.0",
      "_view_name": "HTMLView",
      "description": "",
      "description_tooltip": null,
      "layout": "IPY_MODEL_350cc020d3154c1e9185e96609e74f1c",
      "placeholder": "​",
      "style": "IPY_MODEL_8aecfb48b9eb4923b5d2394d898550e3",
      "value": " 190/190 [00:00&lt;00:00, 6.23kB/s]"
     }
    },
    "7e8a9dfce1ca4434a2f8ebfc58f389ad": {
     "model_module": "@jupyter-widgets/controls",
     "model_module_version": "1.5.0",
     "model_name": "FloatProgressModel",
     "state": {
      "_dom_classes": [],
      "_model_module": "@jupyter-widgets/controls",
      "_model_module_version": "1.5.0",
      "_model_name": "FloatProgressModel",
      "_view_count": null,
      "_view_module": "@jupyter-widgets/controls",
      "_view_module_version": "1.5.0",
      "_view_name": "ProgressView",
      "bar_style": "success",
      "description": "",
      "description_tooltip": null,
      "layout": "IPY_MODEL_454c8044e8984af9ad97551e4076d9c1",
      "max": 190,
      "min": 0,
      "orientation": "horizontal",
      "style": "IPY_MODEL_0c7076ce0f214096ad8341a2012d64a5",
      "value": 190
     }
    },
    "7f764164f9af41618ccb26a5ce86d4e0": {
     "model_module": "@jupyter-widgets/base",
     "model_module_version": "1.2.0",
     "model_name": "LayoutModel",
     "state": {
      "_model_module": "@jupyter-widgets/base",
      "_model_module_version": "1.2.0",
      "_model_name": "LayoutModel",
      "_view_count": null,
      "_view_module": "@jupyter-widgets/base",
      "_view_module_version": "1.2.0",
      "_view_name": "LayoutView",
      "align_content": null,
      "align_items": null,
      "align_self": null,
      "border": null,
      "bottom": null,
      "display": null,
      "flex": null,
      "flex_flow": null,
      "grid_area": null,
      "grid_auto_columns": null,
      "grid_auto_flow": null,
      "grid_auto_rows": null,
      "grid_column": null,
      "grid_gap": null,
      "grid_row": null,
      "grid_template_areas": null,
      "grid_template_columns": null,
      "grid_template_rows": null,
      "height": null,
      "justify_content": null,
      "justify_items": null,
      "left": null,
      "margin": null,
      "max_height": null,
      "max_width": null,
      "min_height": null,
      "min_width": null,
      "object_fit": null,
      "object_position": null,
      "order": null,
      "overflow": null,
      "overflow_x": null,
      "overflow_y": null,
      "padding": null,
      "right": null,
      "top": null,
      "visibility": null,
      "width": null
     }
    },
    "7fa2870830a84087970a92c803eb7ff3": {
     "model_module": "@jupyter-widgets/base",
     "model_module_version": "1.2.0",
     "model_name": "LayoutModel",
     "state": {
      "_model_module": "@jupyter-widgets/base",
      "_model_module_version": "1.2.0",
      "_model_name": "LayoutModel",
      "_view_count": null,
      "_view_module": "@jupyter-widgets/base",
      "_view_module_version": "1.2.0",
      "_view_name": "LayoutView",
      "align_content": null,
      "align_items": null,
      "align_self": null,
      "border": null,
      "bottom": null,
      "display": null,
      "flex": null,
      "flex_flow": null,
      "grid_area": null,
      "grid_auto_columns": null,
      "grid_auto_flow": null,
      "grid_auto_rows": null,
      "grid_column": null,
      "grid_gap": null,
      "grid_row": null,
      "grid_template_areas": null,
      "grid_template_columns": null,
      "grid_template_rows": null,
      "height": null,
      "justify_content": null,
      "justify_items": null,
      "left": null,
      "margin": null,
      "max_height": null,
      "max_width": null,
      "min_height": null,
      "min_width": null,
      "object_fit": null,
      "object_position": null,
      "order": null,
      "overflow": null,
      "overflow_x": null,
      "overflow_y": null,
      "padding": null,
      "right": null,
      "top": null,
      "visibility": null,
      "width": null
     }
    },
    "87ca85b2206343018164feef8cc35bbe": {
     "model_module": "@jupyter-widgets/controls",
     "model_module_version": "1.5.0",
     "model_name": "HBoxModel",
     "state": {
      "_dom_classes": [],
      "_model_module": "@jupyter-widgets/controls",
      "_model_module_version": "1.5.0",
      "_model_name": "HBoxModel",
      "_view_count": null,
      "_view_module": "@jupyter-widgets/controls",
      "_view_module_version": "1.5.0",
      "_view_name": "HBoxView",
      "box_style": "",
      "children": [
       "IPY_MODEL_a6d298a8dd724dbcb1547c8f99b5049d",
       "IPY_MODEL_f093c3d1c3754ab7a10fe6dc451d11e3",
       "IPY_MODEL_aa0b613998924531a09a4f1c1a7c3af2"
      ],
      "layout": "IPY_MODEL_b5e9b4ee07c44936823ec49f74d365f7"
     }
    },
    "88f6f824429742eea1dc0790dd74f6cf": {
     "model_module": "@jupyter-widgets/base",
     "model_module_version": "1.2.0",
     "model_name": "LayoutModel",
     "state": {
      "_model_module": "@jupyter-widgets/base",
      "_model_module_version": "1.2.0",
      "_model_name": "LayoutModel",
      "_view_count": null,
      "_view_module": "@jupyter-widgets/base",
      "_view_module_version": "1.2.0",
      "_view_name": "LayoutView",
      "align_content": null,
      "align_items": null,
      "align_self": null,
      "border": null,
      "bottom": null,
      "display": null,
      "flex": null,
      "flex_flow": null,
      "grid_area": null,
      "grid_auto_columns": null,
      "grid_auto_flow": null,
      "grid_auto_rows": null,
      "grid_column": null,
      "grid_gap": null,
      "grid_row": null,
      "grid_template_areas": null,
      "grid_template_columns": null,
      "grid_template_rows": null,
      "height": null,
      "justify_content": null,
      "justify_items": null,
      "left": null,
      "margin": null,
      "max_height": null,
      "max_width": null,
      "min_height": null,
      "min_width": null,
      "object_fit": null,
      "object_position": null,
      "order": null,
      "overflow": null,
      "overflow_x": null,
      "overflow_y": null,
      "padding": null,
      "right": null,
      "top": null,
      "visibility": null,
      "width": null
     }
    },
    "89d2b5cd440c491486bb7a8a3789b968": {
     "model_module": "@jupyter-widgets/controls",
     "model_module_version": "1.5.0",
     "model_name": "FloatProgressModel",
     "state": {
      "_dom_classes": [],
      "_model_module": "@jupyter-widgets/controls",
      "_model_module_version": "1.5.0",
      "_model_name": "FloatProgressModel",
      "_view_count": null,
      "_view_module": "@jupyter-widgets/controls",
      "_view_module_version": "1.5.0",
      "_view_name": "ProgressView",
      "bar_style": "success",
      "description": "",
      "description_tooltip": null,
      "layout": "IPY_MODEL_c0aa87f379fb408ea778957ee570a1d2",
      "max": 9229924224,
      "min": 0,
      "orientation": "horizontal",
      "style": "IPY_MODEL_c5df7bca363b483dabcd579fae9eb832",
      "value": 9229924224
     }
    },
    "8aecfb48b9eb4923b5d2394d898550e3": {
     "model_module": "@jupyter-widgets/controls",
     "model_module_version": "1.5.0",
     "model_name": "DescriptionStyleModel",
     "state": {
      "_model_module": "@jupyter-widgets/controls",
      "_model_module_version": "1.5.0",
      "_model_name": "DescriptionStyleModel",
      "_view_count": null,
      "_view_module": "@jupyter-widgets/base",
      "_view_module_version": "1.2.0",
      "_view_name": "StyleView",
      "description_width": ""
     }
    },
    "8d9acc46d731457e9ea3e9fa83d78f3e": {
     "model_module": "@jupyter-widgets/controls",
     "model_module_version": "1.5.0",
     "model_name": "DescriptionStyleModel",
     "state": {
      "_model_module": "@jupyter-widgets/controls",
      "_model_module_version": "1.5.0",
      "_model_name": "DescriptionStyleModel",
      "_view_count": null,
      "_view_module": "@jupyter-widgets/base",
      "_view_module_version": "1.2.0",
      "_view_name": "StyleView",
      "description_width": ""
     }
    },
    "8e4b070a5f62434f96ec6a498457074b": {
     "model_module": "@jupyter-widgets/base",
     "model_module_version": "1.2.0",
     "model_name": "LayoutModel",
     "state": {
      "_model_module": "@jupyter-widgets/base",
      "_model_module_version": "1.2.0",
      "_model_name": "LayoutModel",
      "_view_count": null,
      "_view_module": "@jupyter-widgets/base",
      "_view_module_version": "1.2.0",
      "_view_name": "LayoutView",
      "align_content": null,
      "align_items": null,
      "align_self": null,
      "border": null,
      "bottom": null,
      "display": null,
      "flex": null,
      "flex_flow": null,
      "grid_area": null,
      "grid_auto_columns": null,
      "grid_auto_flow": null,
      "grid_auto_rows": null,
      "grid_column": null,
      "grid_gap": null,
      "grid_row": null,
      "grid_template_areas": null,
      "grid_template_columns": null,
      "grid_template_rows": null,
      "height": null,
      "justify_content": null,
      "justify_items": null,
      "left": null,
      "margin": null,
      "max_height": null,
      "max_width": null,
      "min_height": null,
      "min_width": null,
      "object_fit": null,
      "object_position": null,
      "order": null,
      "overflow": null,
      "overflow_x": null,
      "overflow_y": null,
      "padding": null,
      "right": null,
      "top": null,
      "visibility": null,
      "width": null
     }
    },
    "906e198a45844e15b2c7096d93f77d2e": {
     "model_module": "@jupyter-widgets/base",
     "model_module_version": "1.2.0",
     "model_name": "LayoutModel",
     "state": {
      "_model_module": "@jupyter-widgets/base",
      "_model_module_version": "1.2.0",
      "_model_name": "LayoutModel",
      "_view_count": null,
      "_view_module": "@jupyter-widgets/base",
      "_view_module_version": "1.2.0",
      "_view_name": "LayoutView",
      "align_content": null,
      "align_items": null,
      "align_self": null,
      "border": null,
      "bottom": null,
      "display": null,
      "flex": null,
      "flex_flow": null,
      "grid_area": null,
      "grid_auto_columns": null,
      "grid_auto_flow": null,
      "grid_auto_rows": null,
      "grid_column": null,
      "grid_gap": null,
      "grid_row": null,
      "grid_template_areas": null,
      "grid_template_columns": null,
      "grid_template_rows": null,
      "height": null,
      "justify_content": null,
      "justify_items": null,
      "left": null,
      "margin": null,
      "max_height": null,
      "max_width": null,
      "min_height": null,
      "min_width": null,
      "object_fit": null,
      "object_position": null,
      "order": null,
      "overflow": null,
      "overflow_x": null,
      "overflow_y": null,
      "padding": null,
      "right": null,
      "top": null,
      "visibility": null,
      "width": null
     }
    },
    "94fad9b82f1142f8bdad479ef93f4f5a": {
     "model_module": "@jupyter-widgets/controls",
     "model_module_version": "1.5.0",
     "model_name": "DescriptionStyleModel",
     "state": {
      "_model_module": "@jupyter-widgets/controls",
      "_model_module_version": "1.5.0",
      "_model_name": "DescriptionStyleModel",
      "_view_count": null,
      "_view_module": "@jupyter-widgets/base",
      "_view_module_version": "1.2.0",
      "_view_name": "StyleView",
      "description_width": ""
     }
    },
    "95733bb9e28643e0a35dc1c41480a804": {
     "model_module": "@jupyter-widgets/base",
     "model_module_version": "1.2.0",
     "model_name": "LayoutModel",
     "state": {
      "_model_module": "@jupyter-widgets/base",
      "_model_module_version": "1.2.0",
      "_model_name": "LayoutModel",
      "_view_count": null,
      "_view_module": "@jupyter-widgets/base",
      "_view_module_version": "1.2.0",
      "_view_name": "LayoutView",
      "align_content": null,
      "align_items": null,
      "align_self": null,
      "border": null,
      "bottom": null,
      "display": null,
      "flex": null,
      "flex_flow": null,
      "grid_area": null,
      "grid_auto_columns": null,
      "grid_auto_flow": null,
      "grid_auto_rows": null,
      "grid_column": null,
      "grid_gap": null,
      "grid_row": null,
      "grid_template_areas": null,
      "grid_template_columns": null,
      "grid_template_rows": null,
      "height": null,
      "justify_content": null,
      "justify_items": null,
      "left": null,
      "margin": null,
      "max_height": null,
      "max_width": null,
      "min_height": null,
      "min_width": null,
      "object_fit": null,
      "object_position": null,
      "order": null,
      "overflow": null,
      "overflow_x": null,
      "overflow_y": null,
      "padding": null,
      "right": null,
      "top": null,
      "visibility": null,
      "width": null
     }
    },
    "96314b3318a848afa92495c8da4a90d7": {
     "model_module": "@jupyter-widgets/controls",
     "model_module_version": "1.5.0",
     "model_name": "HBoxModel",
     "state": {
      "_dom_classes": [],
      "_model_module": "@jupyter-widgets/controls",
      "_model_module_version": "1.5.0",
      "_model_name": "HBoxModel",
      "_view_count": null,
      "_view_module": "@jupyter-widgets/controls",
      "_view_module_version": "1.5.0",
      "_view_name": "HBoxView",
      "box_style": "",
      "children": [
       "IPY_MODEL_f7ccc559088c474db90640545fa1b4ee",
       "IPY_MODEL_7e8a9dfce1ca4434a2f8ebfc58f389ad",
       "IPY_MODEL_7e5c74f4cf894ac19fb599a789375427"
      ],
      "layout": "IPY_MODEL_aac3f053350b4229942c8754ad183330"
     }
    },
    "9b6c6c4169db4da0995adc9fa1072517": {
     "model_module": "@jupyter-widgets/controls",
     "model_module_version": "1.5.0",
     "model_name": "HBoxModel",
     "state": {
      "_dom_classes": [],
      "_model_module": "@jupyter-widgets/controls",
      "_model_module_version": "1.5.0",
      "_model_name": "HBoxModel",
      "_view_count": null,
      "_view_module": "@jupyter-widgets/controls",
      "_view_module_version": "1.5.0",
      "_view_name": "HBoxView",
      "box_style": "",
      "children": [
       "IPY_MODEL_9e4b060d06d64c67a15540b513903530",
       "IPY_MODEL_5b6afe7517e84e1a878056ead8dda023",
       "IPY_MODEL_296e78bb6d714001a20904ac2413b56c"
      ],
      "layout": "IPY_MODEL_8e4b070a5f62434f96ec6a498457074b"
     }
    },
    "9e4b060d06d64c67a15540b513903530": {
     "model_module": "@jupyter-widgets/controls",
     "model_module_version": "1.5.0",
     "model_name": "HTMLModel",
     "state": {
      "_dom_classes": [],
      "_model_module": "@jupyter-widgets/controls",
      "_model_module_version": "1.5.0",
      "_model_name": "HTMLModel",
      "_view_count": null,
      "_view_module": "@jupyter-widgets/controls",
      "_view_module_version": "1.5.0",
      "_view_name": "HTMLView",
      "description": "",
      "description_tooltip": null,
      "layout": "IPY_MODEL_35262b2db94b4c28aab8c20e8e80e6eb",
      "placeholder": "​",
      "style": "IPY_MODEL_bb104449677e4b22a8a1faae8023ca9c",
      "value": "vocab.txt: 100%"
     }
    },
    "9f20da79abf040d492a345646b103dd1": {
     "model_module": "@jupyter-widgets/base",
     "model_module_version": "1.2.0",
     "model_name": "LayoutModel",
     "state": {
      "_model_module": "@jupyter-widgets/base",
      "_model_module_version": "1.2.0",
      "_model_name": "LayoutModel",
      "_view_count": null,
      "_view_module": "@jupyter-widgets/base",
      "_view_module_version": "1.2.0",
      "_view_name": "LayoutView",
      "align_content": null,
      "align_items": null,
      "align_self": null,
      "border": null,
      "bottom": null,
      "display": null,
      "flex": null,
      "flex_flow": null,
      "grid_area": null,
      "grid_auto_columns": null,
      "grid_auto_flow": null,
      "grid_auto_rows": null,
      "grid_column": null,
      "grid_gap": null,
      "grid_row": null,
      "grid_template_areas": null,
      "grid_template_columns": null,
      "grid_template_rows": null,
      "height": null,
      "justify_content": null,
      "justify_items": null,
      "left": null,
      "margin": null,
      "max_height": null,
      "max_width": null,
      "min_height": null,
      "min_width": null,
      "object_fit": null,
      "object_position": null,
      "order": null,
      "overflow": null,
      "overflow_x": null,
      "overflow_y": null,
      "padding": null,
      "right": null,
      "top": null,
      "visibility": null,
      "width": null
     }
    },
    "a042777ad6f74dc8896f4e230cbf5ede": {
     "model_module": "@jupyter-widgets/base",
     "model_module_version": "1.2.0",
     "model_name": "LayoutModel",
     "state": {
      "_model_module": "@jupyter-widgets/base",
      "_model_module_version": "1.2.0",
      "_model_name": "LayoutModel",
      "_view_count": null,
      "_view_module": "@jupyter-widgets/base",
      "_view_module_version": "1.2.0",
      "_view_name": "LayoutView",
      "align_content": null,
      "align_items": null,
      "align_self": null,
      "border": null,
      "bottom": null,
      "display": null,
      "flex": null,
      "flex_flow": null,
      "grid_area": null,
      "grid_auto_columns": null,
      "grid_auto_flow": null,
      "grid_auto_rows": null,
      "grid_column": null,
      "grid_gap": null,
      "grid_row": null,
      "grid_template_areas": null,
      "grid_template_columns": null,
      "grid_template_rows": null,
      "height": null,
      "justify_content": null,
      "justify_items": null,
      "left": null,
      "margin": null,
      "max_height": null,
      "max_width": null,
      "min_height": null,
      "min_width": null,
      "object_fit": null,
      "object_position": null,
      "order": null,
      "overflow": null,
      "overflow_x": null,
      "overflow_y": null,
      "padding": null,
      "right": null,
      "top": null,
      "visibility": null,
      "width": null
     }
    },
    "a550151c7694408ebbde7c09f8bc90eb": {
     "model_module": "@jupyter-widgets/base",
     "model_module_version": "1.2.0",
     "model_name": "LayoutModel",
     "state": {
      "_model_module": "@jupyter-widgets/base",
      "_model_module_version": "1.2.0",
      "_model_name": "LayoutModel",
      "_view_count": null,
      "_view_module": "@jupyter-widgets/base",
      "_view_module_version": "1.2.0",
      "_view_name": "LayoutView",
      "align_content": null,
      "align_items": null,
      "align_self": null,
      "border": null,
      "bottom": null,
      "display": null,
      "flex": null,
      "flex_flow": null,
      "grid_area": null,
      "grid_auto_columns": null,
      "grid_auto_flow": null,
      "grid_auto_rows": null,
      "grid_column": null,
      "grid_gap": null,
      "grid_row": null,
      "grid_template_areas": null,
      "grid_template_columns": null,
      "grid_template_rows": null,
      "height": null,
      "justify_content": null,
      "justify_items": null,
      "left": null,
      "margin": null,
      "max_height": null,
      "max_width": null,
      "min_height": null,
      "min_width": null,
      "object_fit": null,
      "object_position": null,
      "order": null,
      "overflow": null,
      "overflow_x": null,
      "overflow_y": null,
      "padding": null,
      "right": null,
      "top": null,
      "visibility": null,
      "width": null
     }
    },
    "a6d298a8dd724dbcb1547c8f99b5049d": {
     "model_module": "@jupyter-widgets/controls",
     "model_module_version": "1.5.0",
     "model_name": "HTMLModel",
     "state": {
      "_dom_classes": [],
      "_model_module": "@jupyter-widgets/controls",
      "_model_module_version": "1.5.0",
      "_model_name": "HTMLModel",
      "_view_count": null,
      "_view_module": "@jupyter-widgets/controls",
      "_view_module_version": "1.5.0",
      "_view_name": "HTMLView",
      "description": "",
      "description_tooltip": null,
      "layout": "IPY_MODEL_40987afab9ed447a8f9cbf2205fdb29e",
      "placeholder": "​",
      "style": "IPY_MODEL_aca2f02e85c6433987cd43fb976dc57e",
      "value": "tokenizer_config.json: 100%"
     }
    },
    "a96e6c6249514d1d884198ab5fbe558e": {
     "model_module": "@jupyter-widgets/controls",
     "model_module_version": "1.5.0",
     "model_name": "HTMLModel",
     "state": {
      "_dom_classes": [],
      "_model_module": "@jupyter-widgets/controls",
      "_model_module_version": "1.5.0",
      "_model_name": "HTMLModel",
      "_view_count": null,
      "_view_module": "@jupyter-widgets/controls",
      "_view_module_version": "1.5.0",
      "_view_name": "HTMLView",
      "description": "",
      "description_tooltip": null,
      "layout": "IPY_MODEL_5889419250b14a799a1789fabe51bb3f",
      "placeholder": "​",
      "style": "IPY_MODEL_423dc3c30cc14a2e9c8c9d6f116b7c6c",
      "value": "modules.json: 100%"
     }
    },
    "a9c9d65da7b142ddba0df0bc3125ef83": {
     "model_module": "@jupyter-widgets/controls",
     "model_module_version": "1.5.0",
     "model_name": "DescriptionStyleModel",
     "state": {
      "_model_module": "@jupyter-widgets/controls",
      "_model_module_version": "1.5.0",
      "_model_name": "DescriptionStyleModel",
      "_view_count": null,
      "_view_module": "@jupyter-widgets/base",
      "_view_module_version": "1.2.0",
      "_view_name": "StyleView",
      "description_width": ""
     }
    },
    "aa0b613998924531a09a4f1c1a7c3af2": {
     "model_module": "@jupyter-widgets/controls",
     "model_module_version": "1.5.0",
     "model_name": "HTMLModel",
     "state": {
      "_dom_classes": [],
      "_model_module": "@jupyter-widgets/controls",
      "_model_module_version": "1.5.0",
      "_model_name": "HTMLModel",
      "_view_count": null,
      "_view_module": "@jupyter-widgets/controls",
      "_view_module_version": "1.5.0",
      "_view_name": "HTMLView",
      "description": "",
      "description_tooltip": null,
      "layout": "IPY_MODEL_67cb7bf68b0c475ba93b8a78a5719c90",
      "placeholder": "​",
      "style": "IPY_MODEL_c7e6b79bcc2743d69d908dc597fa219b",
      "value": " 350/350 [00:00&lt;00:00, 35.9kB/s]"
     }
    },
    "aac3f053350b4229942c8754ad183330": {
     "model_module": "@jupyter-widgets/base",
     "model_module_version": "1.2.0",
     "model_name": "LayoutModel",
     "state": {
      "_model_module": "@jupyter-widgets/base",
      "_model_module_version": "1.2.0",
      "_model_name": "LayoutModel",
      "_view_count": null,
      "_view_module": "@jupyter-widgets/base",
      "_view_module_version": "1.2.0",
      "_view_name": "LayoutView",
      "align_content": null,
      "align_items": null,
      "align_self": null,
      "border": null,
      "bottom": null,
      "display": null,
      "flex": null,
      "flex_flow": null,
      "grid_area": null,
      "grid_auto_columns": null,
      "grid_auto_flow": null,
      "grid_auto_rows": null,
      "grid_column": null,
      "grid_gap": null,
      "grid_row": null,
      "grid_template_areas": null,
      "grid_template_columns": null,
      "grid_template_rows": null,
      "height": null,
      "justify_content": null,
      "justify_items": null,
      "left": null,
      "margin": null,
      "max_height": null,
      "max_width": null,
      "min_height": null,
      "min_width": null,
      "object_fit": null,
      "object_position": null,
      "order": null,
      "overflow": null,
      "overflow_x": null,
      "overflow_y": null,
      "padding": null,
      "right": null,
      "top": null,
      "visibility": null,
      "width": null
     }
    },
    "aca2f02e85c6433987cd43fb976dc57e": {
     "model_module": "@jupyter-widgets/controls",
     "model_module_version": "1.5.0",
     "model_name": "DescriptionStyleModel",
     "state": {
      "_model_module": "@jupyter-widgets/controls",
      "_model_module_version": "1.5.0",
      "_model_name": "DescriptionStyleModel",
      "_view_count": null,
      "_view_module": "@jupyter-widgets/base",
      "_view_module_version": "1.2.0",
      "_view_name": "StyleView",
      "description_width": ""
     }
    },
    "ade0f5917dfb4e1791d65ede7e81822a": {
     "model_module": "@jupyter-widgets/base",
     "model_module_version": "1.2.0",
     "model_name": "LayoutModel",
     "state": {
      "_model_module": "@jupyter-widgets/base",
      "_model_module_version": "1.2.0",
      "_model_name": "LayoutModel",
      "_view_count": null,
      "_view_module": "@jupyter-widgets/base",
      "_view_module_version": "1.2.0",
      "_view_name": "LayoutView",
      "align_content": null,
      "align_items": null,
      "align_self": null,
      "border": null,
      "bottom": null,
      "display": null,
      "flex": null,
      "flex_flow": null,
      "grid_area": null,
      "grid_auto_columns": null,
      "grid_auto_flow": null,
      "grid_auto_rows": null,
      "grid_column": null,
      "grid_gap": null,
      "grid_row": null,
      "grid_template_areas": null,
      "grid_template_columns": null,
      "grid_template_rows": null,
      "height": null,
      "justify_content": null,
      "justify_items": null,
      "left": null,
      "margin": null,
      "max_height": null,
      "max_width": null,
      "min_height": null,
      "min_width": null,
      "object_fit": null,
      "object_position": null,
      "order": null,
      "overflow": null,
      "overflow_x": null,
      "overflow_y": null,
      "padding": null,
      "right": null,
      "top": null,
      "visibility": null,
      "width": null
     }
    },
    "b0c8f94d69964f5dabce3c5e048a12d2": {
     "model_module": "@jupyter-widgets/base",
     "model_module_version": "1.2.0",
     "model_name": "LayoutModel",
     "state": {
      "_model_module": "@jupyter-widgets/base",
      "_model_module_version": "1.2.0",
      "_model_name": "LayoutModel",
      "_view_count": null,
      "_view_module": "@jupyter-widgets/base",
      "_view_module_version": "1.2.0",
      "_view_name": "LayoutView",
      "align_content": null,
      "align_items": null,
      "align_self": null,
      "border": null,
      "bottom": null,
      "display": null,
      "flex": null,
      "flex_flow": null,
      "grid_area": null,
      "grid_auto_columns": null,
      "grid_auto_flow": null,
      "grid_auto_rows": null,
      "grid_column": null,
      "grid_gap": null,
      "grid_row": null,
      "grid_template_areas": null,
      "grid_template_columns": null,
      "grid_template_rows": null,
      "height": null,
      "justify_content": null,
      "justify_items": null,
      "left": null,
      "margin": null,
      "max_height": null,
      "max_width": null,
      "min_height": null,
      "min_width": null,
      "object_fit": null,
      "object_position": null,
      "order": null,
      "overflow": null,
      "overflow_x": null,
      "overflow_y": null,
      "padding": null,
      "right": null,
      "top": null,
      "visibility": null,
      "width": null
     }
    },
    "b40f0e0d033844e793d9f21b3b5caa6b": {
     "model_module": "@jupyter-widgets/controls",
     "model_module_version": "1.5.0",
     "model_name": "DescriptionStyleModel",
     "state": {
      "_model_module": "@jupyter-widgets/controls",
      "_model_module_version": "1.5.0",
      "_model_name": "DescriptionStyleModel",
      "_view_count": null,
      "_view_module": "@jupyter-widgets/base",
      "_view_module_version": "1.2.0",
      "_view_name": "StyleView",
      "description_width": ""
     }
    },
    "b4f6a038c601406eb717889029427474": {
     "model_module": "@jupyter-widgets/base",
     "model_module_version": "1.2.0",
     "model_name": "LayoutModel",
     "state": {
      "_model_module": "@jupyter-widgets/base",
      "_model_module_version": "1.2.0",
      "_model_name": "LayoutModel",
      "_view_count": null,
      "_view_module": "@jupyter-widgets/base",
      "_view_module_version": "1.2.0",
      "_view_name": "LayoutView",
      "align_content": null,
      "align_items": null,
      "align_self": null,
      "border": null,
      "bottom": null,
      "display": null,
      "flex": null,
      "flex_flow": null,
      "grid_area": null,
      "grid_auto_columns": null,
      "grid_auto_flow": null,
      "grid_auto_rows": null,
      "grid_column": null,
      "grid_gap": null,
      "grid_row": null,
      "grid_template_areas": null,
      "grid_template_columns": null,
      "grid_template_rows": null,
      "height": null,
      "justify_content": null,
      "justify_items": null,
      "left": null,
      "margin": null,
      "max_height": null,
      "max_width": null,
      "min_height": null,
      "min_width": null,
      "object_fit": null,
      "object_position": null,
      "order": null,
      "overflow": null,
      "overflow_x": null,
      "overflow_y": null,
      "padding": null,
      "right": null,
      "top": null,
      "visibility": null,
      "width": null
     }
    },
    "b5e9b4ee07c44936823ec49f74d365f7": {
     "model_module": "@jupyter-widgets/base",
     "model_module_version": "1.2.0",
     "model_name": "LayoutModel",
     "state": {
      "_model_module": "@jupyter-widgets/base",
      "_model_module_version": "1.2.0",
      "_model_name": "LayoutModel",
      "_view_count": null,
      "_view_module": "@jupyter-widgets/base",
      "_view_module_version": "1.2.0",
      "_view_name": "LayoutView",
      "align_content": null,
      "align_items": null,
      "align_self": null,
      "border": null,
      "bottom": null,
      "display": null,
      "flex": null,
      "flex_flow": null,
      "grid_area": null,
      "grid_auto_columns": null,
      "grid_auto_flow": null,
      "grid_auto_rows": null,
      "grid_column": null,
      "grid_gap": null,
      "grid_row": null,
      "grid_template_areas": null,
      "grid_template_columns": null,
      "grid_template_rows": null,
      "height": null,
      "justify_content": null,
      "justify_items": null,
      "left": null,
      "margin": null,
      "max_height": null,
      "max_width": null,
      "min_height": null,
      "min_width": null,
      "object_fit": null,
      "object_position": null,
      "order": null,
      "overflow": null,
      "overflow_x": null,
      "overflow_y": null,
      "padding": null,
      "right": null,
      "top": null,
      "visibility": null,
      "width": null
     }
    },
    "bb104449677e4b22a8a1faae8023ca9c": {
     "model_module": "@jupyter-widgets/controls",
     "model_module_version": "1.5.0",
     "model_name": "DescriptionStyleModel",
     "state": {
      "_model_module": "@jupyter-widgets/controls",
      "_model_module_version": "1.5.0",
      "_model_name": "DescriptionStyleModel",
      "_view_count": null,
      "_view_module": "@jupyter-widgets/base",
      "_view_module_version": "1.2.0",
      "_view_name": "StyleView",
      "description_width": ""
     }
    },
    "bbb5e26a9d094dc98450d59b1171561c": {
     "model_module": "@jupyter-widgets/controls",
     "model_module_version": "1.5.0",
     "model_name": "HBoxModel",
     "state": {
      "_dom_classes": [],
      "_model_module": "@jupyter-widgets/controls",
      "_model_module_version": "1.5.0",
      "_model_name": "HBoxModel",
      "_view_count": null,
      "_view_module": "@jupyter-widgets/controls",
      "_view_module_version": "1.5.0",
      "_view_name": "HBoxView",
      "box_style": "",
      "children": [
       "IPY_MODEL_ee1c46beaee84bb591feaa4d0658c8b5",
       "IPY_MODEL_e822ab3d6d37497095227d078d39a5ad",
       "IPY_MODEL_675d8dc639e34d2f8c8561208d3eda51"
      ],
      "layout": "IPY_MODEL_db3d7480e4a84c948e6ec1f24656fd02"
     }
    },
    "c0aa87f379fb408ea778957ee570a1d2": {
     "model_module": "@jupyter-widgets/base",
     "model_module_version": "1.2.0",
     "model_name": "LayoutModel",
     "state": {
      "_model_module": "@jupyter-widgets/base",
      "_model_module_version": "1.2.0",
      "_model_name": "LayoutModel",
      "_view_count": null,
      "_view_module": "@jupyter-widgets/base",
      "_view_module_version": "1.2.0",
      "_view_name": "LayoutView",
      "align_content": null,
      "align_items": null,
      "align_self": null,
      "border": null,
      "bottom": null,
      "display": null,
      "flex": null,
      "flex_flow": null,
      "grid_area": null,
      "grid_auto_columns": null,
      "grid_auto_flow": null,
      "grid_auto_rows": null,
      "grid_column": null,
      "grid_gap": null,
      "grid_row": null,
      "grid_template_areas": null,
      "grid_template_columns": null,
      "grid_template_rows": null,
      "height": null,
      "justify_content": null,
      "justify_items": null,
      "left": null,
      "margin": null,
      "max_height": null,
      "max_width": null,
      "min_height": null,
      "min_width": null,
      "object_fit": null,
      "object_position": null,
      "order": null,
      "overflow": null,
      "overflow_x": null,
      "overflow_y": null,
      "padding": null,
      "right": null,
      "top": null,
      "visibility": null,
      "width": null
     }
    },
    "c0bd6823cdec49f2b5bf035e4087def0": {
     "model_module": "@jupyter-widgets/controls",
     "model_module_version": "1.5.0",
     "model_name": "FloatProgressModel",
     "state": {
      "_dom_classes": [],
      "_model_module": "@jupyter-widgets/controls",
      "_model_module_version": "1.5.0",
      "_model_name": "FloatProgressModel",
      "_view_count": null,
      "_view_module": "@jupyter-widgets/controls",
      "_view_module_version": "1.5.0",
      "_view_name": "ProgressView",
      "bar_style": "success",
      "description": "",
      "description_tooltip": null,
      "layout": "IPY_MODEL_2ca0bc90ffe34c8da3641f545be0ae00",
      "max": 466247,
      "min": 0,
      "orientation": "horizontal",
      "style": "IPY_MODEL_40d10db02a8a44db8b1779cf030b72e7",
      "value": 466247
     }
    },
    "c0e42b8093a54c04b3ca9ee7cb571027": {
     "model_module": "@jupyter-widgets/controls",
     "model_module_version": "1.5.0",
     "model_name": "HTMLModel",
     "state": {
      "_dom_classes": [],
      "_model_module": "@jupyter-widgets/controls",
      "_model_module_version": "1.5.0",
      "_model_name": "HTMLModel",
      "_view_count": null,
      "_view_module": "@jupyter-widgets/controls",
      "_view_module_version": "1.5.0",
      "_view_name": "HTMLView",
      "description": "",
      "description_tooltip": null,
      "layout": "IPY_MODEL_1e569f63c2b14071b8f6d01589761f8a",
      "placeholder": "​",
      "style": "IPY_MODEL_71bb7cfc6c8c4796ab828eeb600d107a",
      "value": " 53.0/53.0 [00:00&lt;00:00, 5.31kB/s]"
     }
    },
    "c272b8026aea48cc9ae58bbf71026c11": {
     "model_module": "@jupyter-widgets/controls",
     "model_module_version": "1.5.0",
     "model_name": "DescriptionStyleModel",
     "state": {
      "_model_module": "@jupyter-widgets/controls",
      "_model_module_version": "1.5.0",
      "_model_name": "DescriptionStyleModel",
      "_view_count": null,
      "_view_module": "@jupyter-widgets/base",
      "_view_module_version": "1.2.0",
      "_view_name": "StyleView",
      "description_width": ""
     }
    },
    "c31d800329104a768e171037e5e3413e": {
     "model_module": "@jupyter-widgets/base",
     "model_module_version": "1.2.0",
     "model_name": "LayoutModel",
     "state": {
      "_model_module": "@jupyter-widgets/base",
      "_model_module_version": "1.2.0",
      "_model_name": "LayoutModel",
      "_view_count": null,
      "_view_module": "@jupyter-widgets/base",
      "_view_module_version": "1.2.0",
      "_view_name": "LayoutView",
      "align_content": null,
      "align_items": null,
      "align_self": null,
      "border": null,
      "bottom": null,
      "display": null,
      "flex": null,
      "flex_flow": null,
      "grid_area": null,
      "grid_auto_columns": null,
      "grid_auto_flow": null,
      "grid_auto_rows": null,
      "grid_column": null,
      "grid_gap": null,
      "grid_row": null,
      "grid_template_areas": null,
      "grid_template_columns": null,
      "grid_template_rows": null,
      "height": null,
      "justify_content": null,
      "justify_items": null,
      "left": null,
      "margin": null,
      "max_height": null,
      "max_width": null,
      "min_height": null,
      "min_width": null,
      "object_fit": null,
      "object_position": null,
      "order": null,
      "overflow": null,
      "overflow_x": null,
      "overflow_y": null,
      "padding": null,
      "right": null,
      "top": null,
      "visibility": null,
      "width": null
     }
    },
    "c5df7bca363b483dabcd579fae9eb832": {
     "model_module": "@jupyter-widgets/controls",
     "model_module_version": "1.5.0",
     "model_name": "ProgressStyleModel",
     "state": {
      "_model_module": "@jupyter-widgets/controls",
      "_model_module_version": "1.5.0",
      "_model_name": "ProgressStyleModel",
      "_view_count": null,
      "_view_module": "@jupyter-widgets/base",
      "_view_module_version": "1.2.0",
      "_view_name": "StyleView",
      "bar_color": null,
      "description_width": ""
     }
    },
    "c757f95500bd4775a69d26811e816643": {
     "model_module": "@jupyter-widgets/controls",
     "model_module_version": "1.5.0",
     "model_name": "HTMLModel",
     "state": {
      "_dom_classes": [],
      "_model_module": "@jupyter-widgets/controls",
      "_model_module_version": "1.5.0",
      "_model_name": "HTMLModel",
      "_view_count": null,
      "_view_module": "@jupyter-widgets/controls",
      "_view_module_version": "1.5.0",
      "_view_name": "HTMLView",
      "description": "",
      "description_tooltip": null,
      "layout": "IPY_MODEL_071f7926d6e74779835481b342715584",
      "placeholder": "​",
      "style": "IPY_MODEL_14ae945ea8984d7aa3299cc4fbab211c",
      "value": "llama-2-13b-chat.Q5_K_M.gguf: 100%"
     }
    },
    "c7e6b79bcc2743d69d908dc597fa219b": {
     "model_module": "@jupyter-widgets/controls",
     "model_module_version": "1.5.0",
     "model_name": "DescriptionStyleModel",
     "state": {
      "_model_module": "@jupyter-widgets/controls",
      "_model_module_version": "1.5.0",
      "_model_name": "DescriptionStyleModel",
      "_view_count": null,
      "_view_module": "@jupyter-widgets/base",
      "_view_module_version": "1.2.0",
      "_view_name": "StyleView",
      "description_width": ""
     }
    },
    "c8836cb1716a463eb9a3258978fe6642": {
     "model_module": "@jupyter-widgets/controls",
     "model_module_version": "1.5.0",
     "model_name": "HTMLModel",
     "state": {
      "_dom_classes": [],
      "_model_module": "@jupyter-widgets/controls",
      "_model_module_version": "1.5.0",
      "_model_name": "HTMLModel",
      "_view_count": null,
      "_view_module": "@jupyter-widgets/controls",
      "_view_module_version": "1.5.0",
      "_view_name": "HTMLView",
      "description": "",
      "description_tooltip": null,
      "layout": "IPY_MODEL_7cef1dbc673c41d1ad8474ec0b70d7cd",
      "placeholder": "​",
      "style": "IPY_MODEL_a9c9d65da7b142ddba0df0bc3125ef83",
      "value": " 612/612 [00:00&lt;00:00, 47.5kB/s]"
     }
    },
    "c9ce1cce78c7490383ebf0404d94c271": {
     "model_module": "@jupyter-widgets/controls",
     "model_module_version": "1.5.0",
     "model_name": "HBoxModel",
     "state": {
      "_dom_classes": [],
      "_model_module": "@jupyter-widgets/controls",
      "_model_module_version": "1.5.0",
      "_model_name": "HBoxModel",
      "_view_count": null,
      "_view_module": "@jupyter-widgets/controls",
      "_view_module_version": "1.5.0",
      "_view_name": "HBoxView",
      "box_style": "",
      "children": [
       "IPY_MODEL_23e0a0960f8e4c51a753fe1015fb5e67",
       "IPY_MODEL_59c4463409644e2f850a44ed90e973b5",
       "IPY_MODEL_c0e42b8093a54c04b3ca9ee7cb571027"
      ],
      "layout": "IPY_MODEL_b0c8f94d69964f5dabce3c5e048a12d2"
     }
    },
    "ca2f2b86be8f4ed288f411d7ff734aae": {
     "model_module": "@jupyter-widgets/controls",
     "model_module_version": "1.5.0",
     "model_name": "HTMLModel",
     "state": {
      "_dom_classes": [],
      "_model_module": "@jupyter-widgets/controls",
      "_model_module_version": "1.5.0",
      "_model_name": "HTMLModel",
      "_view_count": null,
      "_view_module": "@jupyter-widgets/controls",
      "_view_module_version": "1.5.0",
      "_view_name": "HTMLView",
      "description": "",
      "description_tooltip": null,
      "layout": "IPY_MODEL_df54b815fbe04cd98b835be2cdd6d9bc",
      "placeholder": "​",
      "style": "IPY_MODEL_7856f029c8174a819da50903b102be26",
      "value": " 116/116 [00:00&lt;00:00, 13.6kB/s]"
     }
    },
    "cf6f6bd53a5a47b2b77f32562665cc68": {
     "model_module": "@jupyter-widgets/base",
     "model_module_version": "1.2.0",
     "model_name": "LayoutModel",
     "state": {
      "_model_module": "@jupyter-widgets/base",
      "_model_module_version": "1.2.0",
      "_model_name": "LayoutModel",
      "_view_count": null,
      "_view_module": "@jupyter-widgets/base",
      "_view_module_version": "1.2.0",
      "_view_name": "LayoutView",
      "align_content": null,
      "align_items": null,
      "align_self": null,
      "border": null,
      "bottom": null,
      "display": null,
      "flex": null,
      "flex_flow": null,
      "grid_area": null,
      "grid_auto_columns": null,
      "grid_auto_flow": null,
      "grid_auto_rows": null,
      "grid_column": null,
      "grid_gap": null,
      "grid_row": null,
      "grid_template_areas": null,
      "grid_template_columns": null,
      "grid_template_rows": null,
      "height": null,
      "justify_content": null,
      "justify_items": null,
      "left": null,
      "margin": null,
      "max_height": null,
      "max_width": null,
      "min_height": null,
      "min_width": null,
      "object_fit": null,
      "object_position": null,
      "order": null,
      "overflow": null,
      "overflow_x": null,
      "overflow_y": null,
      "padding": null,
      "right": null,
      "top": null,
      "visibility": null,
      "width": null
     }
    },
    "cfb81a10efe44098a3527f1497b19bc9": {
     "model_module": "@jupyter-widgets/controls",
     "model_module_version": "1.5.0",
     "model_name": "DescriptionStyleModel",
     "state": {
      "_model_module": "@jupyter-widgets/controls",
      "_model_module_version": "1.5.0",
      "_model_name": "DescriptionStyleModel",
      "_view_count": null,
      "_view_module": "@jupyter-widgets/base",
      "_view_module_version": "1.2.0",
      "_view_name": "StyleView",
      "description_width": ""
     }
    },
    "d029c3ed7dd74dd1b1ae613485f25170": {
     "model_module": "@jupyter-widgets/controls",
     "model_module_version": "1.5.0",
     "model_name": "HBoxModel",
     "state": {
      "_dom_classes": [],
      "_model_module": "@jupyter-widgets/controls",
      "_model_module_version": "1.5.0",
      "_model_name": "HBoxModel",
      "_view_count": null,
      "_view_module": "@jupyter-widgets/controls",
      "_view_module_version": "1.5.0",
      "_view_name": "HBoxView",
      "box_style": "",
      "children": [
       "IPY_MODEL_045348c2dd754b9494bdbaacd2b529c9",
       "IPY_MODEL_fb5280ce8e064b0eb3ff4d431c01ac7e",
       "IPY_MODEL_ca2f2b86be8f4ed288f411d7ff734aae"
      ],
      "layout": "IPY_MODEL_4d58be78cc5f4c679f7c3de28c3986d8"
     }
    },
    "d68843775f7c4d53b28e8a40a5eaff6e": {
     "model_module": "@jupyter-widgets/base",
     "model_module_version": "1.2.0",
     "model_name": "LayoutModel",
     "state": {
      "_model_module": "@jupyter-widgets/base",
      "_model_module_version": "1.2.0",
      "_model_name": "LayoutModel",
      "_view_count": null,
      "_view_module": "@jupyter-widgets/base",
      "_view_module_version": "1.2.0",
      "_view_name": "LayoutView",
      "align_content": null,
      "align_items": null,
      "align_self": null,
      "border": null,
      "bottom": null,
      "display": null,
      "flex": null,
      "flex_flow": null,
      "grid_area": null,
      "grid_auto_columns": null,
      "grid_auto_flow": null,
      "grid_auto_rows": null,
      "grid_column": null,
      "grid_gap": null,
      "grid_row": null,
      "grid_template_areas": null,
      "grid_template_columns": null,
      "grid_template_rows": null,
      "height": null,
      "justify_content": null,
      "justify_items": null,
      "left": null,
      "margin": null,
      "max_height": null,
      "max_width": null,
      "min_height": null,
      "min_width": null,
      "object_fit": null,
      "object_position": null,
      "order": null,
      "overflow": null,
      "overflow_x": null,
      "overflow_y": null,
      "padding": null,
      "right": null,
      "top": null,
      "visibility": null,
      "width": null
     }
    },
    "db3d7480e4a84c948e6ec1f24656fd02": {
     "model_module": "@jupyter-widgets/base",
     "model_module_version": "1.2.0",
     "model_name": "LayoutModel",
     "state": {
      "_model_module": "@jupyter-widgets/base",
      "_model_module_version": "1.2.0",
      "_model_name": "LayoutModel",
      "_view_count": null,
      "_view_module": "@jupyter-widgets/base",
      "_view_module_version": "1.2.0",
      "_view_name": "LayoutView",
      "align_content": null,
      "align_items": null,
      "align_self": null,
      "border": null,
      "bottom": null,
      "display": null,
      "flex": null,
      "flex_flow": null,
      "grid_area": null,
      "grid_auto_columns": null,
      "grid_auto_flow": null,
      "grid_auto_rows": null,
      "grid_column": null,
      "grid_gap": null,
      "grid_row": null,
      "grid_template_areas": null,
      "grid_template_columns": null,
      "grid_template_rows": null,
      "height": null,
      "justify_content": null,
      "justify_items": null,
      "left": null,
      "margin": null,
      "max_height": null,
      "max_width": null,
      "min_height": null,
      "min_width": null,
      "object_fit": null,
      "object_position": null,
      "order": null,
      "overflow": null,
      "overflow_x": null,
      "overflow_y": null,
      "padding": null,
      "right": null,
      "top": null,
      "visibility": null,
      "width": null
     }
    },
    "dd1fac49517840a5884ba293a4144795": {
     "model_module": "@jupyter-widgets/base",
     "model_module_version": "1.2.0",
     "model_name": "LayoutModel",
     "state": {
      "_model_module": "@jupyter-widgets/base",
      "_model_module_version": "1.2.0",
      "_model_name": "LayoutModel",
      "_view_count": null,
      "_view_module": "@jupyter-widgets/base",
      "_view_module_version": "1.2.0",
      "_view_name": "LayoutView",
      "align_content": null,
      "align_items": null,
      "align_self": null,
      "border": null,
      "bottom": null,
      "display": null,
      "flex": null,
      "flex_flow": null,
      "grid_area": null,
      "grid_auto_columns": null,
      "grid_auto_flow": null,
      "grid_auto_rows": null,
      "grid_column": null,
      "grid_gap": null,
      "grid_row": null,
      "grid_template_areas": null,
      "grid_template_columns": null,
      "grid_template_rows": null,
      "height": null,
      "justify_content": null,
      "justify_items": null,
      "left": null,
      "margin": null,
      "max_height": null,
      "max_width": null,
      "min_height": null,
      "min_width": null,
      "object_fit": null,
      "object_position": null,
      "order": null,
      "overflow": null,
      "overflow_x": null,
      "overflow_y": null,
      "padding": null,
      "right": null,
      "top": null,
      "visibility": null,
      "width": null
     }
    },
    "df54b815fbe04cd98b835be2cdd6d9bc": {
     "model_module": "@jupyter-widgets/base",
     "model_module_version": "1.2.0",
     "model_name": "LayoutModel",
     "state": {
      "_model_module": "@jupyter-widgets/base",
      "_model_module_version": "1.2.0",
      "_model_name": "LayoutModel",
      "_view_count": null,
      "_view_module": "@jupyter-widgets/base",
      "_view_module_version": "1.2.0",
      "_view_name": "LayoutView",
      "align_content": null,
      "align_items": null,
      "align_self": null,
      "border": null,
      "bottom": null,
      "display": null,
      "flex": null,
      "flex_flow": null,
      "grid_area": null,
      "grid_auto_columns": null,
      "grid_auto_flow": null,
      "grid_auto_rows": null,
      "grid_column": null,
      "grid_gap": null,
      "grid_row": null,
      "grid_template_areas": null,
      "grid_template_columns": null,
      "grid_template_rows": null,
      "height": null,
      "justify_content": null,
      "justify_items": null,
      "left": null,
      "margin": null,
      "max_height": null,
      "max_width": null,
      "min_height": null,
      "min_width": null,
      "object_fit": null,
      "object_position": null,
      "order": null,
      "overflow": null,
      "overflow_x": null,
      "overflow_y": null,
      "padding": null,
      "right": null,
      "top": null,
      "visibility": null,
      "width": null
     }
    },
    "e6b4bf41db8e45a7bb6907a48146622d": {
     "model_module": "@jupyter-widgets/controls",
     "model_module_version": "1.5.0",
     "model_name": "HTMLModel",
     "state": {
      "_dom_classes": [],
      "_model_module": "@jupyter-widgets/controls",
      "_model_module_version": "1.5.0",
      "_model_name": "HTMLModel",
      "_view_count": null,
      "_view_module": "@jupyter-widgets/controls",
      "_view_module_version": "1.5.0",
      "_view_name": "HTMLView",
      "description": "",
      "description_tooltip": null,
      "layout": "IPY_MODEL_dd1fac49517840a5884ba293a4144795",
      "placeholder": "​",
      "style": "IPY_MODEL_b40f0e0d033844e793d9f21b3b5caa6b",
      "value": " 349/349 [00:00&lt;00:00, 33.5kB/s]"
     }
    },
    "e822ab3d6d37497095227d078d39a5ad": {
     "model_module": "@jupyter-widgets/controls",
     "model_module_version": "1.5.0",
     "model_name": "FloatProgressModel",
     "state": {
      "_dom_classes": [],
      "_model_module": "@jupyter-widgets/controls",
      "_model_module_version": "1.5.0",
      "_model_name": "FloatProgressModel",
      "_view_count": null,
      "_view_module": "@jupyter-widgets/controls",
      "_view_module_version": "1.5.0",
      "_view_name": "ProgressView",
      "bar_style": "success",
      "description": "",
      "description_tooltip": null,
      "layout": "IPY_MODEL_906e198a45844e15b2c7096d93f77d2e",
      "max": 112,
      "min": 0,
      "orientation": "horizontal",
      "style": "IPY_MODEL_560dc8a4848e4197874cdbf5aa92ef2a",
      "value": 112
     }
    },
    "e835499375f1472a87162831b8f30434": {
     "model_module": "@jupyter-widgets/controls",
     "model_module_version": "1.5.0",
     "model_name": "DescriptionStyleModel",
     "state": {
      "_model_module": "@jupyter-widgets/controls",
      "_model_module_version": "1.5.0",
      "_model_name": "DescriptionStyleModel",
      "_view_count": null,
      "_view_module": "@jupyter-widgets/base",
      "_view_module_version": "1.2.0",
      "_view_name": "StyleView",
      "description_width": ""
     }
    },
    "eaa18eb3816140548af3ca44d029ccbc": {
     "model_module": "@jupyter-widgets/base",
     "model_module_version": "1.2.0",
     "model_name": "LayoutModel",
     "state": {
      "_model_module": "@jupyter-widgets/base",
      "_model_module_version": "1.2.0",
      "_model_name": "LayoutModel",
      "_view_count": null,
      "_view_module": "@jupyter-widgets/base",
      "_view_module_version": "1.2.0",
      "_view_name": "LayoutView",
      "align_content": null,
      "align_items": null,
      "align_self": null,
      "border": null,
      "bottom": null,
      "display": null,
      "flex": null,
      "flex_flow": null,
      "grid_area": null,
      "grid_auto_columns": null,
      "grid_auto_flow": null,
      "grid_auto_rows": null,
      "grid_column": null,
      "grid_gap": null,
      "grid_row": null,
      "grid_template_areas": null,
      "grid_template_columns": null,
      "grid_template_rows": null,
      "height": null,
      "justify_content": null,
      "justify_items": null,
      "left": null,
      "margin": null,
      "max_height": null,
      "max_width": null,
      "min_height": null,
      "min_width": null,
      "object_fit": null,
      "object_position": null,
      "order": null,
      "overflow": null,
      "overflow_x": null,
      "overflow_y": null,
      "padding": null,
      "right": null,
      "top": null,
      "visibility": null,
      "width": null
     }
    },
    "ec1f5cbf02b64755a0a1690a6f2c6a7f": {
     "model_module": "@jupyter-widgets/controls",
     "model_module_version": "1.5.0",
     "model_name": "ProgressStyleModel",
     "state": {
      "_model_module": "@jupyter-widgets/controls",
      "_model_module_version": "1.5.0",
      "_model_name": "ProgressStyleModel",
      "_view_count": null,
      "_view_module": "@jupyter-widgets/base",
      "_view_module_version": "1.2.0",
      "_view_name": "StyleView",
      "bar_color": null,
      "description_width": ""
     }
    },
    "ec5c245f50e14cb7b7c7646e189812af": {
     "model_module": "@jupyter-widgets/base",
     "model_module_version": "1.2.0",
     "model_name": "LayoutModel",
     "state": {
      "_model_module": "@jupyter-widgets/base",
      "_model_module_version": "1.2.0",
      "_model_name": "LayoutModel",
      "_view_count": null,
      "_view_module": "@jupyter-widgets/base",
      "_view_module_version": "1.2.0",
      "_view_name": "LayoutView",
      "align_content": null,
      "align_items": null,
      "align_self": null,
      "border": null,
      "bottom": null,
      "display": null,
      "flex": null,
      "flex_flow": null,
      "grid_area": null,
      "grid_auto_columns": null,
      "grid_auto_flow": null,
      "grid_auto_rows": null,
      "grid_column": null,
      "grid_gap": null,
      "grid_row": null,
      "grid_template_areas": null,
      "grid_template_columns": null,
      "grid_template_rows": null,
      "height": null,
      "justify_content": null,
      "justify_items": null,
      "left": null,
      "margin": null,
      "max_height": null,
      "max_width": null,
      "min_height": null,
      "min_width": null,
      "object_fit": null,
      "object_position": null,
      "order": null,
      "overflow": null,
      "overflow_x": null,
      "overflow_y": null,
      "padding": null,
      "right": null,
      "top": null,
      "visibility": null,
      "width": null
     }
    },
    "ee1c46beaee84bb591feaa4d0658c8b5": {
     "model_module": "@jupyter-widgets/controls",
     "model_module_version": "1.5.0",
     "model_name": "HTMLModel",
     "state": {
      "_dom_classes": [],
      "_model_module": "@jupyter-widgets/controls",
      "_model_module_version": "1.5.0",
      "_model_name": "HTMLModel",
      "_view_count": null,
      "_view_module": "@jupyter-widgets/controls",
      "_view_module_version": "1.5.0",
      "_view_name": "HTMLView",
      "description": "",
      "description_tooltip": null,
      "layout": "IPY_MODEL_a550151c7694408ebbde7c09f8bc90eb",
      "placeholder": "​",
      "style": "IPY_MODEL_370a79ec537d47a29c319c310a30363f",
      "value": "special_tokens_map.json: 100%"
     }
    },
    "f093c3d1c3754ab7a10fe6dc451d11e3": {
     "model_module": "@jupyter-widgets/controls",
     "model_module_version": "1.5.0",
     "model_name": "FloatProgressModel",
     "state": {
      "_dom_classes": [],
      "_model_module": "@jupyter-widgets/controls",
      "_model_module_version": "1.5.0",
      "_model_name": "FloatProgressModel",
      "_view_count": null,
      "_view_module": "@jupyter-widgets/controls",
      "_view_module_version": "1.5.0",
      "_view_name": "ProgressView",
      "bar_style": "success",
      "description": "",
      "description_tooltip": null,
      "layout": "IPY_MODEL_1b322d13362645678fcf3a77301f5220",
      "max": 350,
      "min": 0,
      "orientation": "horizontal",
      "style": "IPY_MODEL_59926d672dcd435f922c5b8b5f62d7a8",
      "value": 350
     }
    },
    "f1549f263c3a4f189493f90c2bc4c8c0": {
     "model_module": "@jupyter-widgets/controls",
     "model_module_version": "1.5.0",
     "model_name": "HTMLModel",
     "state": {
      "_dom_classes": [],
      "_model_module": "@jupyter-widgets/controls",
      "_model_module_version": "1.5.0",
      "_model_name": "HTMLModel",
      "_view_count": null,
      "_view_module": "@jupyter-widgets/controls",
      "_view_module_version": "1.5.0",
      "_view_name": "HTMLView",
      "description": "",
      "description_tooltip": null,
      "layout": "IPY_MODEL_cf6f6bd53a5a47b2b77f32562665cc68",
      "placeholder": "​",
      "style": "IPY_MODEL_6feca5a18ef84606aec57c1a176aa44d",
      "value": "tokenizer.json: 100%"
     }
    },
    "f1cc929744ec45aab02c3b2be86f1033": {
     "model_module": "@jupyter-widgets/base",
     "model_module_version": "1.2.0",
     "model_name": "LayoutModel",
     "state": {
      "_model_module": "@jupyter-widgets/base",
      "_model_module_version": "1.2.0",
      "_model_name": "LayoutModel",
      "_view_count": null,
      "_view_module": "@jupyter-widgets/base",
      "_view_module_version": "1.2.0",
      "_view_name": "LayoutView",
      "align_content": null,
      "align_items": null,
      "align_self": null,
      "border": null,
      "bottom": null,
      "display": null,
      "flex": null,
      "flex_flow": null,
      "grid_area": null,
      "grid_auto_columns": null,
      "grid_auto_flow": null,
      "grid_auto_rows": null,
      "grid_column": null,
      "grid_gap": null,
      "grid_row": null,
      "grid_template_areas": null,
      "grid_template_columns": null,
      "grid_template_rows": null,
      "height": null,
      "justify_content": null,
      "justify_items": null,
      "left": null,
      "margin": null,
      "max_height": null,
      "max_width": null,
      "min_height": null,
      "min_width": null,
      "object_fit": null,
      "object_position": null,
      "order": null,
      "overflow": null,
      "overflow_x": null,
      "overflow_y": null,
      "padding": null,
      "right": null,
      "top": null,
      "visibility": null,
      "width": null
     }
    },
    "f5af85e60b6b4d8a8569b0522205ef3f": {
     "model_module": "@jupyter-widgets/base",
     "model_module_version": "1.2.0",
     "model_name": "LayoutModel",
     "state": {
      "_model_module": "@jupyter-widgets/base",
      "_model_module_version": "1.2.0",
      "_model_name": "LayoutModel",
      "_view_count": null,
      "_view_module": "@jupyter-widgets/base",
      "_view_module_version": "1.2.0",
      "_view_name": "LayoutView",
      "align_content": null,
      "align_items": null,
      "align_self": null,
      "border": null,
      "bottom": null,
      "display": null,
      "flex": null,
      "flex_flow": null,
      "grid_area": null,
      "grid_auto_columns": null,
      "grid_auto_flow": null,
      "grid_auto_rows": null,
      "grid_column": null,
      "grid_gap": null,
      "grid_row": null,
      "grid_template_areas": null,
      "grid_template_columns": null,
      "grid_template_rows": null,
      "height": null,
      "justify_content": null,
      "justify_items": null,
      "left": null,
      "margin": null,
      "max_height": null,
      "max_width": null,
      "min_height": null,
      "min_width": null,
      "object_fit": null,
      "object_position": null,
      "order": null,
      "overflow": null,
      "overflow_x": null,
      "overflow_y": null,
      "padding": null,
      "right": null,
      "top": null,
      "visibility": null,
      "width": null
     }
    },
    "f7ccc559088c474db90640545fa1b4ee": {
     "model_module": "@jupyter-widgets/controls",
     "model_module_version": "1.5.0",
     "model_name": "HTMLModel",
     "state": {
      "_dom_classes": [],
      "_model_module": "@jupyter-widgets/controls",
      "_model_module_version": "1.5.0",
      "_model_name": "HTMLModel",
      "_view_count": null,
      "_view_module": "@jupyter-widgets/controls",
      "_view_module_version": "1.5.0",
      "_view_name": "HTMLView",
      "description": "",
      "description_tooltip": null,
      "layout": "IPY_MODEL_95733bb9e28643e0a35dc1c41480a804",
      "placeholder": "​",
      "style": "IPY_MODEL_1ae7bacd6b4b40f2951c2c8db92f657f",
      "value": "config.json: 100%"
     }
    },
    "fb5280ce8e064b0eb3ff4d431c01ac7e": {
     "model_module": "@jupyter-widgets/controls",
     "model_module_version": "1.5.0",
     "model_name": "FloatProgressModel",
     "state": {
      "_dom_classes": [],
      "_model_module": "@jupyter-widgets/controls",
      "_model_module_version": "1.5.0",
      "_model_name": "FloatProgressModel",
      "_view_count": null,
      "_view_module": "@jupyter-widgets/controls",
      "_view_module_version": "1.5.0",
      "_view_name": "ProgressView",
      "bar_style": "success",
      "description": "",
      "description_tooltip": null,
      "layout": "IPY_MODEL_fec3ae5442ae4418acf867562d1b4193",
      "max": 116,
      "min": 0,
      "orientation": "horizontal",
      "style": "IPY_MODEL_2dcab5bdc7eb43ec968712259974f6f6",
      "value": 116
     }
    },
    "fcd24adfcd934176a915d4c6dcfb5b08": {
     "model_module": "@jupyter-widgets/controls",
     "model_module_version": "1.5.0",
     "model_name": "DescriptionStyleModel",
     "state": {
      "_model_module": "@jupyter-widgets/controls",
      "_model_module_version": "1.5.0",
      "_model_name": "DescriptionStyleModel",
      "_view_count": null,
      "_view_module": "@jupyter-widgets/base",
      "_view_module_version": "1.2.0",
      "_view_name": "StyleView",
      "description_width": ""
     }
    },
    "fec3ae5442ae4418acf867562d1b4193": {
     "model_module": "@jupyter-widgets/base",
     "model_module_version": "1.2.0",
     "model_name": "LayoutModel",
     "state": {
      "_model_module": "@jupyter-widgets/base",
      "_model_module_version": "1.2.0",
      "_model_name": "LayoutModel",
      "_view_count": null,
      "_view_module": "@jupyter-widgets/base",
      "_view_module_version": "1.2.0",
      "_view_name": "LayoutView",
      "align_content": null,
      "align_items": null,
      "align_self": null,
      "border": null,
      "bottom": null,
      "display": null,
      "flex": null,
      "flex_flow": null,
      "grid_area": null,
      "grid_auto_columns": null,
      "grid_auto_flow": null,
      "grid_auto_rows": null,
      "grid_column": null,
      "grid_gap": null,
      "grid_row": null,
      "grid_template_areas": null,
      "grid_template_columns": null,
      "grid_template_rows": null,
      "height": null,
      "justify_content": null,
      "justify_items": null,
      "left": null,
      "margin": null,
      "max_height": null,
      "max_width": null,
      "min_height": null,
      "min_width": null,
      "object_fit": null,
      "object_position": null,
      "order": null,
      "overflow": null,
      "overflow_x": null,
      "overflow_y": null,
      "padding": null,
      "right": null,
      "top": null,
      "visibility": null,
      "width": null
     }
    }
   }
  }
 },
 "nbformat": 4,
 "nbformat_minor": 4
}
